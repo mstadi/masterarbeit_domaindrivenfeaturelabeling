{
 "cells": [
  {
   "cell_type": "code",
   "execution_count": 1,
   "metadata": {
    "executionInfo": {
     "elapsed": 232,
     "status": "ok",
     "timestamp": 1643537698691,
     "user": {
      "displayName": "Markus",
      "photoUrl": "https://lh3.googleusercontent.com/a/default-user=s64",
      "userId": "08156928817414143810"
     },
     "user_tz": -60
    },
    "id": "59Atc0GfduwM"
   },
   "outputs": [],
   "source": [
    "from multiprocessing import Pool, cpu_count\n",
    "import gc; gc.enable()\n",
    "import xgboost as xgb\n",
    "import pandas as pd\n",
    "import numpy as np\n",
    "from sklearn import *\n",
    "import sklearn\n",
    "from sklearn.model_selection import cross_val_score, GridSearchCV\n",
    "from sklearn.linear_model import LogisticRegression\n",
    "from sklearn.tree import DecisionTreeClassifier\n",
    "from sklearn.ensemble import RandomForestClassifier\n",
    "from sklearn.model_selection import train_test_split\n",
    "from sklearn.metrics import classification_report,confusion_matrix\n",
    "from sklearn.model_selection import RandomizedSearchCV\n",
    "from sklearn.linear_model import LogisticRegression"
   ]
  },
  {
   "cell_type": "code",
   "execution_count": 2,
   "metadata": {
    "colab": {
     "base_uri": "https://localhost:8080/",
     "height": 206
    },
    "executionInfo": {
     "elapsed": 25782,
     "status": "ok",
     "timestamp": 1643537467947,
     "user": {
      "displayName": "Markus",
      "photoUrl": "https://lh3.googleusercontent.com/a/default-user=s64",
      "userId": "08156928817414143810"
     },
     "user_tz": -60
    },
    "id": "_TgV5Op2b7Ei",
    "outputId": "b2dfcda1-356d-441b-b39f-d38302ca14a2",
    "scrolled": false
   },
   "outputs": [
    {
     "data": {
      "text/html": [
       "<div>\n",
       "<style scoped>\n",
       "    .dataframe tbody tr th:only-of-type {\n",
       "        vertical-align: middle;\n",
       "    }\n",
       "\n",
       "    .dataframe tbody tr th {\n",
       "        vertical-align: top;\n",
       "    }\n",
       "\n",
       "    .dataframe thead th {\n",
       "        text-align: right;\n",
       "    }\n",
       "</style>\n",
       "<table border=\"1\" class=\"dataframe\">\n",
       "  <thead>\n",
       "    <tr style=\"text-align: right;\">\n",
       "      <th></th>\n",
       "      <th>msno</th>\n",
       "      <th>is_churn</th>\n",
       "      <th>city</th>\n",
       "      <th>bd</th>\n",
       "      <th>gender</th>\n",
       "      <th>registered_via</th>\n",
       "      <th>registration_init_time</th>\n",
       "    </tr>\n",
       "  </thead>\n",
       "  <tbody>\n",
       "    <tr>\n",
       "      <th>0</th>\n",
       "      <td>ugx0CjOMzazClkFzU2xasmDZaoIqOUAZPsH1q0teWCg=</td>\n",
       "      <td>1</td>\n",
       "      <td>5.0</td>\n",
       "      <td>28.0</td>\n",
       "      <td>male</td>\n",
       "      <td>3.0</td>\n",
       "      <td>20131223.0</td>\n",
       "    </tr>\n",
       "    <tr>\n",
       "      <th>1</th>\n",
       "      <td>f/NmvEzHfhINFEYZTR05prUdr+E+3+oewvweYz9cCQE=</td>\n",
       "      <td>1</td>\n",
       "      <td>13.0</td>\n",
       "      <td>20.0</td>\n",
       "      <td>male</td>\n",
       "      <td>3.0</td>\n",
       "      <td>20131223.0</td>\n",
       "    </tr>\n",
       "    <tr>\n",
       "      <th>2</th>\n",
       "      <td>zLo9f73nGGT1p21ltZC3ChiRnAVvgibMyazbCxvWPcg=</td>\n",
       "      <td>1</td>\n",
       "      <td>13.0</td>\n",
       "      <td>18.0</td>\n",
       "      <td>male</td>\n",
       "      <td>3.0</td>\n",
       "      <td>20131227.0</td>\n",
       "    </tr>\n",
       "    <tr>\n",
       "      <th>3</th>\n",
       "      <td>8iF/+8HY8lJKFrTc7iR9ZYGCG2Ecrogbc2Vy5YhsfhQ=</td>\n",
       "      <td>1</td>\n",
       "      <td>1.0</td>\n",
       "      <td>0.0</td>\n",
       "      <td>NaN</td>\n",
       "      <td>7.0</td>\n",
       "      <td>20140109.0</td>\n",
       "    </tr>\n",
       "    <tr>\n",
       "      <th>4</th>\n",
       "      <td>K6fja4+jmoZ5xG6BypqX80Uw/XKpMgrEMdG2edFOxnA=</td>\n",
       "      <td>1</td>\n",
       "      <td>13.0</td>\n",
       "      <td>35.0</td>\n",
       "      <td>female</td>\n",
       "      <td>7.0</td>\n",
       "      <td>20140125.0</td>\n",
       "    </tr>\n",
       "  </tbody>\n",
       "</table>\n",
       "</div>"
      ],
      "text/plain": [
       "                                           msno  is_churn  city    bd  gender  \\\n",
       "0  ugx0CjOMzazClkFzU2xasmDZaoIqOUAZPsH1q0teWCg=         1   5.0  28.0    male   \n",
       "1  f/NmvEzHfhINFEYZTR05prUdr+E+3+oewvweYz9cCQE=         1  13.0  20.0    male   \n",
       "2  zLo9f73nGGT1p21ltZC3ChiRnAVvgibMyazbCxvWPcg=         1  13.0  18.0    male   \n",
       "3  8iF/+8HY8lJKFrTc7iR9ZYGCG2Ecrogbc2Vy5YhsfhQ=         1   1.0   0.0     NaN   \n",
       "4  K6fja4+jmoZ5xG6BypqX80Uw/XKpMgrEMdG2edFOxnA=         1  13.0  35.0  female   \n",
       "\n",
       "   registered_via  registration_init_time  \n",
       "0             3.0              20131223.0  \n",
       "1             3.0              20131223.0  \n",
       "2             3.0              20131227.0  \n",
       "3             7.0              20140109.0  \n",
       "4             7.0              20140125.0  "
      ]
     },
     "execution_count": 2,
     "metadata": {},
     "output_type": "execute_result"
    }
   ],
   "source": [
    "# reading wsdm csv\n",
    "wsdm_data = pd.read_csv(r\"D:\\Work_Masterarbeit\\wsdm\\train_v2.csv\")\n",
    "\n",
    "# reading members csv\n",
    "members_data = pd.read_csv(r\"D:\\Work_Masterarbeit\\wsdm\\members_v3.csv\")\n",
    "\n",
    "# merging train dataset with members dataset\n",
    "wsdm_members = pd.merge(wsdm_data, members_data, on='msno', how='left')\n",
    "\n",
    "# getting the head (top 5 rows) of df\n",
    "wsdm_members.head()"
   ]
  },
  {
   "cell_type": "code",
   "execution_count": 3,
   "metadata": {},
   "outputs": [],
   "source": [
    "### 4.1 Loading files to merge-"
   ]
  },
  {
   "cell_type": "code",
   "execution_count": 4,
   "metadata": {},
   "outputs": [],
   "source": [
    "# wsdm data\n",
    "wsdm_data = pd.read_csv(r\"D:\\Work_Masterarbeit\\wsdm\\train_v2.csv\")\n",
    "# members data\n",
    "members_data = pd.read_csv(r\"D:\\Work_Masterarbeit\\wsdm\\members_v3.csv\")\n",
    "# transactions data\n",
    "transactions_data = pd.read_csv(r\"D:\\Work_Masterarbeit\\wsdm\\transactions_v2.csv\")\n",
    "# user logs data\n",
    "logs_data = pd.read_csv(r\"D:\\Work_Masterarbeit\\wsdm\\user_logs_v2.csv\")"
   ]
  },
  {
   "cell_type": "code",
   "execution_count": 5,
   "metadata": {},
   "outputs": [],
   "source": [
    "### 4.2 Merging files together-\n",
    "### 4.2.1 For train data-"
   ]
  },
  {
   "cell_type": "code",
   "execution_count": 6,
   "metadata": {},
   "outputs": [
    {
     "data": {
      "text/html": [
       "<div>\n",
       "<style scoped>\n",
       "    .dataframe tbody tr th:only-of-type {\n",
       "        vertical-align: middle;\n",
       "    }\n",
       "\n",
       "    .dataframe tbody tr th {\n",
       "        vertical-align: top;\n",
       "    }\n",
       "\n",
       "    .dataframe thead th {\n",
       "        text-align: right;\n",
       "    }\n",
       "</style>\n",
       "<table border=\"1\" class=\"dataframe\">\n",
       "  <thead>\n",
       "    <tr style=\"text-align: right;\">\n",
       "      <th></th>\n",
       "      <th>msno</th>\n",
       "      <th>is_churn</th>\n",
       "      <th>city</th>\n",
       "      <th>bd</th>\n",
       "      <th>gender</th>\n",
       "      <th>registered_via</th>\n",
       "      <th>registration_init_time</th>\n",
       "      <th>payment_method_id</th>\n",
       "      <th>payment_plan_days</th>\n",
       "      <th>plan_list_price</th>\n",
       "      <th>actual_amount_paid</th>\n",
       "      <th>is_auto_renew</th>\n",
       "      <th>transaction_date</th>\n",
       "      <th>membership_expire_date</th>\n",
       "      <th>is_cancel</th>\n",
       "      <th>date</th>\n",
       "      <th>num_25</th>\n",
       "      <th>num_50</th>\n",
       "      <th>num_75</th>\n",
       "      <th>num_985</th>\n",
       "      <th>num_100</th>\n",
       "      <th>num_unq</th>\n",
       "      <th>total_secs</th>\n",
       "    </tr>\n",
       "  </thead>\n",
       "  <tbody>\n",
       "    <tr>\n",
       "      <th>0</th>\n",
       "      <td>ugx0CjOMzazClkFzU2xasmDZaoIqOUAZPsH1q0teWCg=</td>\n",
       "      <td>1</td>\n",
       "      <td>5.0</td>\n",
       "      <td>28.0</td>\n",
       "      <td>male</td>\n",
       "      <td>3.0</td>\n",
       "      <td>20131223.0</td>\n",
       "      <td>NaN</td>\n",
       "      <td>NaN</td>\n",
       "      <td>NaN</td>\n",
       "      <td>NaN</td>\n",
       "      <td>NaN</td>\n",
       "      <td>NaN</td>\n",
       "      <td>NaN</td>\n",
       "      <td>NaN</td>\n",
       "      <td>20170305.0</td>\n",
       "      <td>7.0</td>\n",
       "      <td>0.0</td>\n",
       "      <td>3.0</td>\n",
       "      <td>5.0</td>\n",
       "      <td>71.0</td>\n",
       "      <td>68.0</td>\n",
       "      <td>17599.893</td>\n",
       "    </tr>\n",
       "    <tr>\n",
       "      <th>1</th>\n",
       "      <td>ugx0CjOMzazClkFzU2xasmDZaoIqOUAZPsH1q0teWCg=</td>\n",
       "      <td>1</td>\n",
       "      <td>5.0</td>\n",
       "      <td>28.0</td>\n",
       "      <td>male</td>\n",
       "      <td>3.0</td>\n",
       "      <td>20131223.0</td>\n",
       "      <td>NaN</td>\n",
       "      <td>NaN</td>\n",
       "      <td>NaN</td>\n",
       "      <td>NaN</td>\n",
       "      <td>NaN</td>\n",
       "      <td>NaN</td>\n",
       "      <td>NaN</td>\n",
       "      <td>NaN</td>\n",
       "      <td>20170301.0</td>\n",
       "      <td>138.0</td>\n",
       "      <td>19.0</td>\n",
       "      <td>7.0</td>\n",
       "      <td>1.0</td>\n",
       "      <td>21.0</td>\n",
       "      <td>158.0</td>\n",
       "      <td>8830.433</td>\n",
       "    </tr>\n",
       "    <tr>\n",
       "      <th>2</th>\n",
       "      <td>ugx0CjOMzazClkFzU2xasmDZaoIqOUAZPsH1q0teWCg=</td>\n",
       "      <td>1</td>\n",
       "      <td>5.0</td>\n",
       "      <td>28.0</td>\n",
       "      <td>male</td>\n",
       "      <td>3.0</td>\n",
       "      <td>20131223.0</td>\n",
       "      <td>NaN</td>\n",
       "      <td>NaN</td>\n",
       "      <td>NaN</td>\n",
       "      <td>NaN</td>\n",
       "      <td>NaN</td>\n",
       "      <td>NaN</td>\n",
       "      <td>NaN</td>\n",
       "      <td>NaN</td>\n",
       "      <td>20170319.0</td>\n",
       "      <td>0.0</td>\n",
       "      <td>0.0</td>\n",
       "      <td>0.0</td>\n",
       "      <td>0.0</td>\n",
       "      <td>34.0</td>\n",
       "      <td>17.0</td>\n",
       "      <td>7883.313</td>\n",
       "    </tr>\n",
       "    <tr>\n",
       "      <th>3</th>\n",
       "      <td>ugx0CjOMzazClkFzU2xasmDZaoIqOUAZPsH1q0teWCg=</td>\n",
       "      <td>1</td>\n",
       "      <td>5.0</td>\n",
       "      <td>28.0</td>\n",
       "      <td>male</td>\n",
       "      <td>3.0</td>\n",
       "      <td>20131223.0</td>\n",
       "      <td>NaN</td>\n",
       "      <td>NaN</td>\n",
       "      <td>NaN</td>\n",
       "      <td>NaN</td>\n",
       "      <td>NaN</td>\n",
       "      <td>NaN</td>\n",
       "      <td>NaN</td>\n",
       "      <td>NaN</td>\n",
       "      <td>20170316.0</td>\n",
       "      <td>15.0</td>\n",
       "      <td>0.0</td>\n",
       "      <td>0.0</td>\n",
       "      <td>1.0</td>\n",
       "      <td>38.0</td>\n",
       "      <td>17.0</td>\n",
       "      <td>9029.227</td>\n",
       "    </tr>\n",
       "    <tr>\n",
       "      <th>4</th>\n",
       "      <td>ugx0CjOMzazClkFzU2xasmDZaoIqOUAZPsH1q0teWCg=</td>\n",
       "      <td>1</td>\n",
       "      <td>5.0</td>\n",
       "      <td>28.0</td>\n",
       "      <td>male</td>\n",
       "      <td>3.0</td>\n",
       "      <td>20131223.0</td>\n",
       "      <td>NaN</td>\n",
       "      <td>NaN</td>\n",
       "      <td>NaN</td>\n",
       "      <td>NaN</td>\n",
       "      <td>NaN</td>\n",
       "      <td>NaN</td>\n",
       "      <td>NaN</td>\n",
       "      <td>NaN</td>\n",
       "      <td>20170310.0</td>\n",
       "      <td>0.0</td>\n",
       "      <td>0.0</td>\n",
       "      <td>0.0</td>\n",
       "      <td>0.0</td>\n",
       "      <td>8.0</td>\n",
       "      <td>8.0</td>\n",
       "      <td>1870.110</td>\n",
       "    </tr>\n",
       "  </tbody>\n",
       "</table>\n",
       "</div>"
      ],
      "text/plain": [
       "                                           msno  is_churn  city    bd gender  \\\n",
       "0  ugx0CjOMzazClkFzU2xasmDZaoIqOUAZPsH1q0teWCg=         1   5.0  28.0   male   \n",
       "1  ugx0CjOMzazClkFzU2xasmDZaoIqOUAZPsH1q0teWCg=         1   5.0  28.0   male   \n",
       "2  ugx0CjOMzazClkFzU2xasmDZaoIqOUAZPsH1q0teWCg=         1   5.0  28.0   male   \n",
       "3  ugx0CjOMzazClkFzU2xasmDZaoIqOUAZPsH1q0teWCg=         1   5.0  28.0   male   \n",
       "4  ugx0CjOMzazClkFzU2xasmDZaoIqOUAZPsH1q0teWCg=         1   5.0  28.0   male   \n",
       "\n",
       "   registered_via  registration_init_time  payment_method_id  \\\n",
       "0             3.0              20131223.0                NaN   \n",
       "1             3.0              20131223.0                NaN   \n",
       "2             3.0              20131223.0                NaN   \n",
       "3             3.0              20131223.0                NaN   \n",
       "4             3.0              20131223.0                NaN   \n",
       "\n",
       "   payment_plan_days  plan_list_price  actual_amount_paid  is_auto_renew  \\\n",
       "0                NaN              NaN                 NaN            NaN   \n",
       "1                NaN              NaN                 NaN            NaN   \n",
       "2                NaN              NaN                 NaN            NaN   \n",
       "3                NaN              NaN                 NaN            NaN   \n",
       "4                NaN              NaN                 NaN            NaN   \n",
       "\n",
       "   transaction_date  membership_expire_date  is_cancel        date  num_25  \\\n",
       "0               NaN                     NaN        NaN  20170305.0     7.0   \n",
       "1               NaN                     NaN        NaN  20170301.0   138.0   \n",
       "2               NaN                     NaN        NaN  20170319.0     0.0   \n",
       "3               NaN                     NaN        NaN  20170316.0    15.0   \n",
       "4               NaN                     NaN        NaN  20170310.0     0.0   \n",
       "\n",
       "   num_50  num_75  num_985  num_100  num_unq  total_secs  \n",
       "0     0.0     3.0      5.0     71.0     68.0   17599.893  \n",
       "1    19.0     7.0      1.0     21.0    158.0    8830.433  \n",
       "2     0.0     0.0      0.0     34.0     17.0    7883.313  \n",
       "3     0.0     0.0      1.0     38.0     17.0    9029.227  \n",
       "4     0.0     0.0      0.0      8.0      8.0    1870.110  "
      ]
     },
     "execution_count": 6,
     "metadata": {},
     "output_type": "execute_result"
    }
   ],
   "source": [
    "# merging members data with train data\n",
    "wsdm_members = pd.merge(wsdm_data, members_data, on='msno', how='left')\n",
    "# merging transactions data with train members data\n",
    "wsdm_mem_trans = pd.merge(wsdm_members, transactions_data, on='msno', how='left')\n",
    "# merging user logs data with train members transaction data\n",
    "wsdm_dataset = pd.merge(wsdm_mem_trans, logs_data, on='msno', how='left')\n",
    "# getting head of train dataset\n",
    "pd.set_option('display.max_columns', 100)\n",
    "wsdm_dataset.head()"
   ]
  },
  {
   "cell_type": "code",
   "execution_count": 7,
   "metadata": {},
   "outputs": [
    {
     "data": {
      "text/plain": [
       "(16887877, 23)"
      ]
     },
     "execution_count": 7,
     "metadata": {},
     "output_type": "execute_result"
    }
   ],
   "source": [
    "wsdm_dataset.shape"
   ]
  },
  {
   "cell_type": "code",
   "execution_count": 8,
   "metadata": {},
   "outputs": [
    {
     "data": {
      "text/plain": [
       "array([20131223., 20131223., 20131223., ..., 20110905., 20110905.,\n",
       "       20150204.])"
      ]
     },
     "execution_count": 8,
     "metadata": {},
     "output_type": "execute_result"
    }
   ],
   "source": [
    "# since registration_init_time contains a lot of nan values so impute median date\n",
    "wsdm_dataset['registration_init_time'] = wsdm_dataset['registration_init_time'].fillna(20150204.0)\n",
    "# getting registration_init_time array\n",
    "reg_date = wsdm_dataset['registration_init_time'].values\n",
    "reg_date"
   ]
  },
  {
   "cell_type": "code",
   "execution_count": 9,
   "metadata": {},
   "outputs": [],
   "source": [
    "# storing these train registrationn dates to npz file\n",
    "np.savez_compressed(r\"D:\\Work_Masterarbeit\\wsdm\\preprocessed_3\\wsdm_registration_date\", reg_date)"
   ]
  },
  {
   "cell_type": "markdown",
   "metadata": {},
   "source": [
    "<h3> Vorverarbeitung\n",
    "   "
   ]
  },
  {
   "cell_type": "code",
   "execution_count": 10,
   "metadata": {},
   "outputs": [],
   "source": [
    "def preprocess(data):\n",
    "    '''This preprocess function is used to perform basic preprocessing on top of train and test dataset\n",
    "    These preprocessing consist outliers removal, nan imputation and replacing the values'''\n",
    "    \n",
    "    # imputing 0 in place of nan values in the city column\n",
    "    data['city'] = data['city'].fillna(0)\n",
    "\n",
    "    # removing outliers\n",
    "    data['bd'] = data['bd'].apply(lambda x: x if (x < 72.0) and (x > 0.0) else np.nan)\n",
    "    # imputing 28 as age instead of nan\n",
    "    data['bd'] = data['bd'].fillna(28.0)\n",
    "\n",
    "    # replacing male with 1 in gender\n",
    "    data['gender'] = data['gender'].replace(to_replace='male', value=1)\n",
    "    # replacing male with 2 in gender\n",
    "    data['gender'] = data['gender'].replace(to_replace='female', value=2)\n",
    "    # replacing nan with 0 in gender\n",
    "    data['gender'] = data['gender'].fillna(0)\n",
    "\n",
    "    # replace 0 instead of nan in registered_via\n",
    "    data['registered_via'] = data['registered_via'].fillna(0)\n",
    "\n",
    "    # filling median date in place of nan in the df\n",
    "    data['registration_init_time'] = data['registration_init_time'].fillna(20150204.0)\n",
    "    # converting float date to datetime\n",
    "    data['registration_init_time'] = pd.to_datetime(data['registration_init_time'], format='%Y%m%d')\n",
    "\n",
    "    # imputing 0 in place of nan value in payment_method_id\n",
    "    data['payment_method_id'] = data['payment_method_id'].fillna(0)\n",
    "\n",
    "    # removing outliers\n",
    "    data['payment_plan_days'] = data['payment_plan_days'].apply(lambda x: x if (x <= 30.0) else np.nan)\n",
    "    # imputing 30 in place of nan in payment_plan_days\n",
    "    data['payment_plan_days'] = data['payment_plan_days'].fillna(30.0)\n",
    "\n",
    "    # removing outliers\n",
    "    data['plan_list_price'] = data['plan_list_price'].apply(lambda x: x if (x <= 180.0) else np.nan)\n",
    "    # imputing 149 in place of nan in plan_list_price\n",
    "    data['plan_list_price'] = data['plan_list_price'].fillna(149.0)\n",
    "\n",
    "    # removing outliers\n",
    "    data['actual_amount_paid'] = data['actual_amount_paid'].apply(lambda x: x if (x <= 180.0) else np.nan)\n",
    "    # imputing 149 in place of nan in actual_amount_paid\n",
    "    data['actual_amount_paid'] = data['actual_amount_paid'].fillna(149.0)\n",
    "\n",
    "    # imputing 2 in place of nan values in is_auto_renew\n",
    "    data['is_auto_renew'] = data['is_auto_renew'].fillna(2)\n",
    "\n",
    "    # filling median date in place of nan in the df\n",
    "    data['transaction_date'] = data['transaction_date'].fillna(20170316.0)\n",
    "    # converting float date to datetime\n",
    "    data['transaction_date'] = pd.to_datetime(data['transaction_date'], format='%Y%m%d')\n",
    "\n",
    "    # filling median date in place of nan in the df\n",
    "    data['membership_expire_date'] = data['membership_expire_date'].fillna(20170419.0)\n",
    "    # converting float date to datetime\n",
    "    data['membership_expire_date'] = pd.to_datetime(data['membership_expire_date'], format='%Y%m%d')\n",
    "\n",
    "    # imputing 2 in place of nan values in is_cancel\n",
    "    data['is_cancel'] = data['is_cancel'].fillna(2)\n",
    "\n",
    "    # filling median date in place of nan in the df\n",
    "    data['date'] = data['date'].fillna(20170316.0)\n",
    "    # converting float date to datetime\n",
    "    data['date'] = pd.to_datetime(data['date'], format='%Y%m%d')\n",
    "\n",
    "    # removing outliers\n",
    "    data['num_25'] = data['num_25'].apply(lambda x: x if (x <= 15.0) else np.nan)\n",
    "    # now I can impute 2 instead of nan in num_25\n",
    "    data['num_25'] = data['num_25'].fillna(2.0)\n",
    "\n",
    "    # removing outliers\n",
    "    data['num_50'] = data['num_50'].apply(lambda x: x if (x <= 4.0) else np.nan)\n",
    "    # now I can impute 0 instead of nan in num_50\n",
    "    data['num_50'] = data['num_50'].fillna(0)\n",
    "\n",
    "    # removing outliers\n",
    "    data['num_75'] = data['num_75'].apply(lambda x: x if (x <= 3.0) else np.nan)\n",
    "    # now I can impute 0 instead of nan in num_75\n",
    "    data['num_75'] = data['num_75'].fillna(0)\n",
    "\n",
    "    # removing outliers\n",
    "    data['num_985'] = data['num_985'].apply(lambda x: x if (x <= 3.0) else np.nan)\n",
    "    # now I can impute 0 instead of nan in num_985\n",
    "    data['num_985'] = data['num_985'].fillna(0)\n",
    "\n",
    "    # removing outliers\n",
    "    data['num_100'] = data['num_100'].apply(lambda x: x if (x <= 74.0) else np.nan)\n",
    "    # now I can impute 14 instead of nan in num_100\n",
    "    data['num_100'] = data['num_100'].fillna(14.0)\n",
    "\n",
    "    # removing outliers\n",
    "    data['num_unq'] = data['num_unq'].apply(lambda x: x if (x <= 68.0) else np.nan)\n",
    "    # now I can impute 16 instead of nan in num_unq\n",
    "    data['num_unq'] = data['num_unq'].fillna(16.0)\n",
    "\n",
    "    # removing outliers\n",
    "    data['total_secs'] = data['total_secs'].apply(lambda x: x if (x <= 19167.549700000025) else np.nan)\n",
    "    # now I can impute 3880.765 instead of nan in total_secs\n",
    "    data['total_secs'] = data['total_secs'].fillna(3880.765)"
   ]
  },
  {
   "cell_type": "code",
   "execution_count": 11,
   "metadata": {},
   "outputs": [],
   "source": [
    "# performing preprocessing on top of entire train data\n",
    "preprocess(wsdm_dataset)"
   ]
  },
  {
   "cell_type": "code",
   "execution_count": 12,
   "metadata": {},
   "outputs": [
    {
     "data": {
      "text/plain": [
       "False"
      ]
     },
     "execution_count": 12,
     "metadata": {},
     "output_type": "execute_result"
    }
   ],
   "source": [
    "# again just to cross check if there is any null or not\n",
    "wsdm_dataset.isnull().values.any()"
   ]
  },
  {
   "cell_type": "code",
   "execution_count": 13,
   "metadata": {},
   "outputs": [
    {
     "data": {
      "text/plain": [
       "False"
      ]
     },
     "execution_count": 13,
     "metadata": {},
     "output_type": "execute_result"
    }
   ],
   "source": [
    "# checking for any duplicate row\n",
    "wsdm_dataset.duplicated().any()"
   ]
  },
  {
   "cell_type": "code",
   "execution_count": 14,
   "metadata": {},
   "outputs": [],
   "source": [
    "# saving wsdm file to disk\n",
    "wsdm_dataset.to_csv(r\"D:\\Work_Masterarbeit\\wsdm\\preprocessed_3\\train.csv\", index=False)"
   ]
  },
  {
   "cell_type": "markdown",
   "metadata": {},
   "source": [
    "<h2>Feature Engineering"
   ]
  },
  {
   "cell_type": "code",
   "execution_count": 15,
   "metadata": {},
   "outputs": [],
   "source": [
    "# loading the files\n",
    "wsdm_dataset = pd.read_csv(r\"D:\\Work_Masterarbeit\\wsdm\\preprocessed_3\\train.csv\")\n"
   ]
  },
  {
   "cell_type": "code",
   "execution_count": 16,
   "metadata": {
    "scrolled": true
   },
   "outputs": [
    {
     "data": {
      "text/html": [
       "<div>\n",
       "<style scoped>\n",
       "    .dataframe tbody tr th:only-of-type {\n",
       "        vertical-align: middle;\n",
       "    }\n",
       "\n",
       "    .dataframe tbody tr th {\n",
       "        vertical-align: top;\n",
       "    }\n",
       "\n",
       "    .dataframe thead th {\n",
       "        text-align: right;\n",
       "    }\n",
       "</style>\n",
       "<table border=\"1\" class=\"dataframe\">\n",
       "  <thead>\n",
       "    <tr style=\"text-align: right;\">\n",
       "      <th></th>\n",
       "      <th>msno</th>\n",
       "      <th>is_churn</th>\n",
       "      <th>city</th>\n",
       "      <th>bd</th>\n",
       "      <th>gender</th>\n",
       "      <th>registered_via</th>\n",
       "      <th>registration_init_time</th>\n",
       "      <th>payment_method_id</th>\n",
       "      <th>payment_plan_days</th>\n",
       "      <th>plan_list_price</th>\n",
       "      <th>actual_amount_paid</th>\n",
       "      <th>is_auto_renew</th>\n",
       "      <th>transaction_date</th>\n",
       "      <th>membership_expire_date</th>\n",
       "      <th>is_cancel</th>\n",
       "      <th>date</th>\n",
       "      <th>num_25</th>\n",
       "      <th>num_50</th>\n",
       "      <th>num_75</th>\n",
       "      <th>num_985</th>\n",
       "      <th>num_100</th>\n",
       "      <th>num_unq</th>\n",
       "      <th>total_secs</th>\n",
       "    </tr>\n",
       "  </thead>\n",
       "  <tbody>\n",
       "    <tr>\n",
       "      <th>0</th>\n",
       "      <td>ugx0CjOMzazClkFzU2xasmDZaoIqOUAZPsH1q0teWCg=</td>\n",
       "      <td>1</td>\n",
       "      <td>5.0</td>\n",
       "      <td>28.0</td>\n",
       "      <td>1.0</td>\n",
       "      <td>3.0</td>\n",
       "      <td>2013-12-23</td>\n",
       "      <td>0.0</td>\n",
       "      <td>30.0</td>\n",
       "      <td>149.0</td>\n",
       "      <td>149.0</td>\n",
       "      <td>2.0</td>\n",
       "      <td>2017-03-16</td>\n",
       "      <td>2017-04-19</td>\n",
       "      <td>2.0</td>\n",
       "      <td>2017-03-05</td>\n",
       "      <td>7.0</td>\n",
       "      <td>0.0</td>\n",
       "      <td>3.0</td>\n",
       "      <td>0.0</td>\n",
       "      <td>71.0</td>\n",
       "      <td>68.0</td>\n",
       "      <td>17599.893</td>\n",
       "    </tr>\n",
       "    <tr>\n",
       "      <th>1</th>\n",
       "      <td>ugx0CjOMzazClkFzU2xasmDZaoIqOUAZPsH1q0teWCg=</td>\n",
       "      <td>1</td>\n",
       "      <td>5.0</td>\n",
       "      <td>28.0</td>\n",
       "      <td>1.0</td>\n",
       "      <td>3.0</td>\n",
       "      <td>2013-12-23</td>\n",
       "      <td>0.0</td>\n",
       "      <td>30.0</td>\n",
       "      <td>149.0</td>\n",
       "      <td>149.0</td>\n",
       "      <td>2.0</td>\n",
       "      <td>2017-03-16</td>\n",
       "      <td>2017-04-19</td>\n",
       "      <td>2.0</td>\n",
       "      <td>2017-03-01</td>\n",
       "      <td>2.0</td>\n",
       "      <td>0.0</td>\n",
       "      <td>0.0</td>\n",
       "      <td>1.0</td>\n",
       "      <td>21.0</td>\n",
       "      <td>16.0</td>\n",
       "      <td>8830.433</td>\n",
       "    </tr>\n",
       "    <tr>\n",
       "      <th>2</th>\n",
       "      <td>ugx0CjOMzazClkFzU2xasmDZaoIqOUAZPsH1q0teWCg=</td>\n",
       "      <td>1</td>\n",
       "      <td>5.0</td>\n",
       "      <td>28.0</td>\n",
       "      <td>1.0</td>\n",
       "      <td>3.0</td>\n",
       "      <td>2013-12-23</td>\n",
       "      <td>0.0</td>\n",
       "      <td>30.0</td>\n",
       "      <td>149.0</td>\n",
       "      <td>149.0</td>\n",
       "      <td>2.0</td>\n",
       "      <td>2017-03-16</td>\n",
       "      <td>2017-04-19</td>\n",
       "      <td>2.0</td>\n",
       "      <td>2017-03-19</td>\n",
       "      <td>0.0</td>\n",
       "      <td>0.0</td>\n",
       "      <td>0.0</td>\n",
       "      <td>0.0</td>\n",
       "      <td>34.0</td>\n",
       "      <td>17.0</td>\n",
       "      <td>7883.313</td>\n",
       "    </tr>\n",
       "    <tr>\n",
       "      <th>3</th>\n",
       "      <td>ugx0CjOMzazClkFzU2xasmDZaoIqOUAZPsH1q0teWCg=</td>\n",
       "      <td>1</td>\n",
       "      <td>5.0</td>\n",
       "      <td>28.0</td>\n",
       "      <td>1.0</td>\n",
       "      <td>3.0</td>\n",
       "      <td>2013-12-23</td>\n",
       "      <td>0.0</td>\n",
       "      <td>30.0</td>\n",
       "      <td>149.0</td>\n",
       "      <td>149.0</td>\n",
       "      <td>2.0</td>\n",
       "      <td>2017-03-16</td>\n",
       "      <td>2017-04-19</td>\n",
       "      <td>2.0</td>\n",
       "      <td>2017-03-16</td>\n",
       "      <td>15.0</td>\n",
       "      <td>0.0</td>\n",
       "      <td>0.0</td>\n",
       "      <td>1.0</td>\n",
       "      <td>38.0</td>\n",
       "      <td>17.0</td>\n",
       "      <td>9029.227</td>\n",
       "    </tr>\n",
       "    <tr>\n",
       "      <th>4</th>\n",
       "      <td>ugx0CjOMzazClkFzU2xasmDZaoIqOUAZPsH1q0teWCg=</td>\n",
       "      <td>1</td>\n",
       "      <td>5.0</td>\n",
       "      <td>28.0</td>\n",
       "      <td>1.0</td>\n",
       "      <td>3.0</td>\n",
       "      <td>2013-12-23</td>\n",
       "      <td>0.0</td>\n",
       "      <td>30.0</td>\n",
       "      <td>149.0</td>\n",
       "      <td>149.0</td>\n",
       "      <td>2.0</td>\n",
       "      <td>2017-03-16</td>\n",
       "      <td>2017-04-19</td>\n",
       "      <td>2.0</td>\n",
       "      <td>2017-03-10</td>\n",
       "      <td>0.0</td>\n",
       "      <td>0.0</td>\n",
       "      <td>0.0</td>\n",
       "      <td>0.0</td>\n",
       "      <td>8.0</td>\n",
       "      <td>8.0</td>\n",
       "      <td>1870.110</td>\n",
       "    </tr>\n",
       "  </tbody>\n",
       "</table>\n",
       "</div>"
      ],
      "text/plain": [
       "                                           msno  is_churn  city    bd  gender  \\\n",
       "0  ugx0CjOMzazClkFzU2xasmDZaoIqOUAZPsH1q0teWCg=         1   5.0  28.0     1.0   \n",
       "1  ugx0CjOMzazClkFzU2xasmDZaoIqOUAZPsH1q0teWCg=         1   5.0  28.0     1.0   \n",
       "2  ugx0CjOMzazClkFzU2xasmDZaoIqOUAZPsH1q0teWCg=         1   5.0  28.0     1.0   \n",
       "3  ugx0CjOMzazClkFzU2xasmDZaoIqOUAZPsH1q0teWCg=         1   5.0  28.0     1.0   \n",
       "4  ugx0CjOMzazClkFzU2xasmDZaoIqOUAZPsH1q0teWCg=         1   5.0  28.0     1.0   \n",
       "\n",
       "   registered_via registration_init_time  payment_method_id  \\\n",
       "0             3.0             2013-12-23                0.0   \n",
       "1             3.0             2013-12-23                0.0   \n",
       "2             3.0             2013-12-23                0.0   \n",
       "3             3.0             2013-12-23                0.0   \n",
       "4             3.0             2013-12-23                0.0   \n",
       "\n",
       "   payment_plan_days  plan_list_price  actual_amount_paid  is_auto_renew  \\\n",
       "0               30.0            149.0               149.0            2.0   \n",
       "1               30.0            149.0               149.0            2.0   \n",
       "2               30.0            149.0               149.0            2.0   \n",
       "3               30.0            149.0               149.0            2.0   \n",
       "4               30.0            149.0               149.0            2.0   \n",
       "\n",
       "  transaction_date membership_expire_date  is_cancel        date  num_25  \\\n",
       "0       2017-03-16             2017-04-19        2.0  2017-03-05     7.0   \n",
       "1       2017-03-16             2017-04-19        2.0  2017-03-01     2.0   \n",
       "2       2017-03-16             2017-04-19        2.0  2017-03-19     0.0   \n",
       "3       2017-03-16             2017-04-19        2.0  2017-03-16    15.0   \n",
       "4       2017-03-16             2017-04-19        2.0  2017-03-10     0.0   \n",
       "\n",
       "   num_50  num_75  num_985  num_100  num_unq  total_secs  \n",
       "0     0.0     3.0      0.0     71.0     68.0   17599.893  \n",
       "1     0.0     0.0      1.0     21.0     16.0    8830.433  \n",
       "2     0.0     0.0      0.0     34.0     17.0    7883.313  \n",
       "3     0.0     0.0      1.0     38.0     17.0    9029.227  \n",
       "4     0.0     0.0      0.0      8.0      8.0    1870.110  "
      ]
     },
     "execution_count": 16,
     "metadata": {},
     "output_type": "execute_result"
    }
   ],
   "source": [
    "# getting head of wsdm file\n",
    "pd.set_option('display.max_columns', 100)\n",
    "wsdm_dataset.head()"
   ]
  },
  {
   "cell_type": "code",
   "execution_count": 17,
   "metadata": {
    "scrolled": true
   },
   "outputs": [
    {
     "data": {
      "text/plain": [
       "Index(['msno', 'is_churn', 'city', 'bd', 'gender', 'registered_via',\n",
       "       'registration_init_time', 'payment_method_id', 'payment_plan_days',\n",
       "       'plan_list_price', 'actual_amount_paid', 'is_auto_renew',\n",
       "       'transaction_date', 'membership_expire_date', 'is_cancel', 'date',\n",
       "       'num_25', 'num_50', 'num_75', 'num_985', 'num_100', 'num_unq',\n",
       "       'total_secs'],\n",
       "      dtype='object')"
      ]
     },
     "execution_count": 17,
     "metadata": {},
     "output_type": "execute_result"
    }
   ],
   "source": [
    "# all features in wsdm data\n",
    "wsdm_dataset.columns"
   ]
  },
  {
   "cell_type": "code",
   "execution_count": 18,
   "metadata": {},
   "outputs": [],
   "source": [
    "# reference: https://medium.com/@vincentteyssier/optimizing-the-size-of-a-pandas-dataframe-for-low-memory-environment-5f07db3d72e\n",
    "# reference: https://numpy.org/doc/stable/reference/generated/numpy.iinfo.html\n",
    "# reference: https://numpy.org/doc/stable/reference/generated/numpy.finfo.html\n",
    "\n",
    "def datatype_changer(dataset):\n",
    "    # iterating through all the columns in the dataframe\n",
    "    for col in dataset.columns:\n",
    "        # getting column's datatype\n",
    "        col_type = dataset[col].dtype\n",
    "        \n",
    "        # checking if datatype of column is 'object' or not\n",
    "        # if column type is not object\n",
    "        if (col_type == int) or (col_type == float):\n",
    "            # getting minimum value of a column\n",
    "            min_val = dataset[col].min()\n",
    "            # getting maximum value of a column\n",
    "            max_val = dataset[col].max()\n",
    "            # checking whether the datatype contain first 3 characters as int or not, if int\n",
    "            if str(col_type)[:3] == 'int':\n",
    "                # cheking the minimal and maximal value for int8, int16, int32 and int64 in numpy\n",
    "                if min_val > np.iinfo(np.int8).min and max_val < np.iinfo(np.int8).max:\n",
    "                    dataset[col] = dataset[col].astype(np.int8)\n",
    "                elif min_val > np.iinfo(np.int16).min and max_val < np.iinfo(np.int16).max:\n",
    "                    dataset[col] = dataset[col].astype(np.int16)\n",
    "                elif min_val > np.iinfo(np.int32).min and max_val < np.iinfo(np.int32).max:\n",
    "                    dataset[col] = dataset[col].astype(np.int32)\n",
    "                else:\n",
    "                    dataset[col] = dataset[col].astype(np.int64)\n",
    "            else:\n",
    "                # if it is non int, which is ultimately float\n",
    "                # cheking the minimal and maximal value for float16, float32 and float64 in numpy\n",
    "                if min_val > np.finfo(np.float16).min and max_val < np.finfo(np.float16).max:\n",
    "                    dataset[col] = dataset[col].astype(np.float16)\n",
    "                elif min_val > np.finfo(np.float32).min and max_val < np.finfo(np.float32).max:\n",
    "                    dataset[col] = dataset[col].astype(np.float32)\n",
    "                else:\n",
    "                    dataset[col] = dataset[col].astype(np.float64)\n",
    "        else:\n",
    "            # keeping rest of them to category datatype instead of object\n",
    "            dataset[col] = dataset[col].astype('category')\n",
    "            \n",
    "    # returning head of the dataframe\n",
    "    return dataset"
   ]
  },
  {
   "cell_type": "code",
   "execution_count": 19,
   "metadata": {},
   "outputs": [],
   "source": [
    "wsdm_dataset = datatype_changer(wsdm_dataset)"
   ]
  },
  {
   "cell_type": "code",
   "execution_count": 20,
   "metadata": {},
   "outputs": [],
   "source": [
    "# saving train file\n",
    "wsdm_dataset.to_csv(r\"D:\\Work_Masterarbeit\\wsdm\\preprocessed_3\\wsdm_FA.csv\", index=False)"
   ]
  },
  {
   "cell_type": "markdown",
   "metadata": {},
   "source": [
    "<h1>3. Prepare Data for Modelling"
   ]
  },
  {
   "cell_type": "code",
   "execution_count": 2,
   "metadata": {
    "scrolled": false
   },
   "outputs": [
    {
     "data": {
      "text/html": [
       "<div>\n",
       "<style scoped>\n",
       "    .dataframe tbody tr th:only-of-type {\n",
       "        vertical-align: middle;\n",
       "    }\n",
       "\n",
       "    .dataframe tbody tr th {\n",
       "        vertical-align: top;\n",
       "    }\n",
       "\n",
       "    .dataframe thead th {\n",
       "        text-align: right;\n",
       "    }\n",
       "</style>\n",
       "<table border=\"1\" class=\"dataframe\">\n",
       "  <thead>\n",
       "    <tr style=\"text-align: right;\">\n",
       "      <th></th>\n",
       "      <th>msno</th>\n",
       "      <th>is_churn</th>\n",
       "      <th>city</th>\n",
       "      <th>bd</th>\n",
       "      <th>gender</th>\n",
       "      <th>registered_via</th>\n",
       "      <th>registration_init_time</th>\n",
       "      <th>payment_method_id</th>\n",
       "      <th>payment_plan_days</th>\n",
       "      <th>plan_list_price</th>\n",
       "      <th>actual_amount_paid</th>\n",
       "      <th>is_auto_renew</th>\n",
       "      <th>transaction_date</th>\n",
       "      <th>membership_expire_date</th>\n",
       "      <th>is_cancel</th>\n",
       "      <th>date</th>\n",
       "      <th>num_25</th>\n",
       "      <th>num_50</th>\n",
       "      <th>num_75</th>\n",
       "      <th>num_985</th>\n",
       "      <th>num_100</th>\n",
       "      <th>num_unq</th>\n",
       "      <th>total_secs</th>\n",
       "    </tr>\n",
       "  </thead>\n",
       "  <tbody>\n",
       "    <tr>\n",
       "      <th>0</th>\n",
       "      <td>ugx0CjOMzazClkFzU2xasmDZaoIqOUAZPsH1q0teWCg=</td>\n",
       "      <td>1</td>\n",
       "      <td>5.0</td>\n",
       "      <td>28.0</td>\n",
       "      <td>1.0</td>\n",
       "      <td>3.0</td>\n",
       "      <td>2013-12-23</td>\n",
       "      <td>0.0</td>\n",
       "      <td>30.0</td>\n",
       "      <td>149.0</td>\n",
       "      <td>149.0</td>\n",
       "      <td>2.0</td>\n",
       "      <td>2017-03-16</td>\n",
       "      <td>2017-04-19</td>\n",
       "      <td>2.0</td>\n",
       "      <td>2017-03-05</td>\n",
       "      <td>7.0</td>\n",
       "      <td>0.0</td>\n",
       "      <td>3.0</td>\n",
       "      <td>0.0</td>\n",
       "      <td>71.0</td>\n",
       "      <td>68.0</td>\n",
       "      <td>17600.0</td>\n",
       "    </tr>\n",
       "    <tr>\n",
       "      <th>1</th>\n",
       "      <td>ugx0CjOMzazClkFzU2xasmDZaoIqOUAZPsH1q0teWCg=</td>\n",
       "      <td>1</td>\n",
       "      <td>5.0</td>\n",
       "      <td>28.0</td>\n",
       "      <td>1.0</td>\n",
       "      <td>3.0</td>\n",
       "      <td>2013-12-23</td>\n",
       "      <td>0.0</td>\n",
       "      <td>30.0</td>\n",
       "      <td>149.0</td>\n",
       "      <td>149.0</td>\n",
       "      <td>2.0</td>\n",
       "      <td>2017-03-16</td>\n",
       "      <td>2017-04-19</td>\n",
       "      <td>2.0</td>\n",
       "      <td>2017-03-01</td>\n",
       "      <td>2.0</td>\n",
       "      <td>0.0</td>\n",
       "      <td>0.0</td>\n",
       "      <td>1.0</td>\n",
       "      <td>21.0</td>\n",
       "      <td>16.0</td>\n",
       "      <td>8830.0</td>\n",
       "    </tr>\n",
       "    <tr>\n",
       "      <th>2</th>\n",
       "      <td>ugx0CjOMzazClkFzU2xasmDZaoIqOUAZPsH1q0teWCg=</td>\n",
       "      <td>1</td>\n",
       "      <td>5.0</td>\n",
       "      <td>28.0</td>\n",
       "      <td>1.0</td>\n",
       "      <td>3.0</td>\n",
       "      <td>2013-12-23</td>\n",
       "      <td>0.0</td>\n",
       "      <td>30.0</td>\n",
       "      <td>149.0</td>\n",
       "      <td>149.0</td>\n",
       "      <td>2.0</td>\n",
       "      <td>2017-03-16</td>\n",
       "      <td>2017-04-19</td>\n",
       "      <td>2.0</td>\n",
       "      <td>2017-03-19</td>\n",
       "      <td>0.0</td>\n",
       "      <td>0.0</td>\n",
       "      <td>0.0</td>\n",
       "      <td>0.0</td>\n",
       "      <td>34.0</td>\n",
       "      <td>17.0</td>\n",
       "      <td>7884.0</td>\n",
       "    </tr>\n",
       "    <tr>\n",
       "      <th>3</th>\n",
       "      <td>ugx0CjOMzazClkFzU2xasmDZaoIqOUAZPsH1q0teWCg=</td>\n",
       "      <td>1</td>\n",
       "      <td>5.0</td>\n",
       "      <td>28.0</td>\n",
       "      <td>1.0</td>\n",
       "      <td>3.0</td>\n",
       "      <td>2013-12-23</td>\n",
       "      <td>0.0</td>\n",
       "      <td>30.0</td>\n",
       "      <td>149.0</td>\n",
       "      <td>149.0</td>\n",
       "      <td>2.0</td>\n",
       "      <td>2017-03-16</td>\n",
       "      <td>2017-04-19</td>\n",
       "      <td>2.0</td>\n",
       "      <td>2017-03-16</td>\n",
       "      <td>15.0</td>\n",
       "      <td>0.0</td>\n",
       "      <td>0.0</td>\n",
       "      <td>1.0</td>\n",
       "      <td>38.0</td>\n",
       "      <td>17.0</td>\n",
       "      <td>9030.0</td>\n",
       "    </tr>\n",
       "    <tr>\n",
       "      <th>4</th>\n",
       "      <td>ugx0CjOMzazClkFzU2xasmDZaoIqOUAZPsH1q0teWCg=</td>\n",
       "      <td>1</td>\n",
       "      <td>5.0</td>\n",
       "      <td>28.0</td>\n",
       "      <td>1.0</td>\n",
       "      <td>3.0</td>\n",
       "      <td>2013-12-23</td>\n",
       "      <td>0.0</td>\n",
       "      <td>30.0</td>\n",
       "      <td>149.0</td>\n",
       "      <td>149.0</td>\n",
       "      <td>2.0</td>\n",
       "      <td>2017-03-16</td>\n",
       "      <td>2017-04-19</td>\n",
       "      <td>2.0</td>\n",
       "      <td>2017-03-10</td>\n",
       "      <td>0.0</td>\n",
       "      <td>0.0</td>\n",
       "      <td>0.0</td>\n",
       "      <td>0.0</td>\n",
       "      <td>8.0</td>\n",
       "      <td>8.0</td>\n",
       "      <td>1870.0</td>\n",
       "    </tr>\n",
       "  </tbody>\n",
       "</table>\n",
       "</div>"
      ],
      "text/plain": [
       "                                           msno  is_churn  city    bd  gender  \\\n",
       "0  ugx0CjOMzazClkFzU2xasmDZaoIqOUAZPsH1q0teWCg=         1   5.0  28.0     1.0   \n",
       "1  ugx0CjOMzazClkFzU2xasmDZaoIqOUAZPsH1q0teWCg=         1   5.0  28.0     1.0   \n",
       "2  ugx0CjOMzazClkFzU2xasmDZaoIqOUAZPsH1q0teWCg=         1   5.0  28.0     1.0   \n",
       "3  ugx0CjOMzazClkFzU2xasmDZaoIqOUAZPsH1q0teWCg=         1   5.0  28.0     1.0   \n",
       "4  ugx0CjOMzazClkFzU2xasmDZaoIqOUAZPsH1q0teWCg=         1   5.0  28.0     1.0   \n",
       "\n",
       "   registered_via registration_init_time  payment_method_id  \\\n",
       "0             3.0             2013-12-23                0.0   \n",
       "1             3.0             2013-12-23                0.0   \n",
       "2             3.0             2013-12-23                0.0   \n",
       "3             3.0             2013-12-23                0.0   \n",
       "4             3.0             2013-12-23                0.0   \n",
       "\n",
       "   payment_plan_days  plan_list_price  actual_amount_paid  is_auto_renew  \\\n",
       "0               30.0            149.0               149.0            2.0   \n",
       "1               30.0            149.0               149.0            2.0   \n",
       "2               30.0            149.0               149.0            2.0   \n",
       "3               30.0            149.0               149.0            2.0   \n",
       "4               30.0            149.0               149.0            2.0   \n",
       "\n",
       "  transaction_date membership_expire_date  is_cancel        date  num_25  \\\n",
       "0       2017-03-16             2017-04-19        2.0  2017-03-05     7.0   \n",
       "1       2017-03-16             2017-04-19        2.0  2017-03-01     2.0   \n",
       "2       2017-03-16             2017-04-19        2.0  2017-03-19     0.0   \n",
       "3       2017-03-16             2017-04-19        2.0  2017-03-16    15.0   \n",
       "4       2017-03-16             2017-04-19        2.0  2017-03-10     0.0   \n",
       "\n",
       "   num_50  num_75  num_985  num_100  num_unq  total_secs  \n",
       "0     0.0     3.0      0.0     71.0     68.0     17600.0  \n",
       "1     0.0     0.0      1.0     21.0     16.0      8830.0  \n",
       "2     0.0     0.0      0.0     34.0     17.0      7884.0  \n",
       "3     0.0     0.0      1.0     38.0     17.0      9030.0  \n",
       "4     0.0     0.0      0.0      8.0      8.0      1870.0  "
      ]
     },
     "execution_count": 2,
     "metadata": {},
     "output_type": "execute_result"
    }
   ],
   "source": [
    "# loading train dataset\n",
    "wsdm_dataset = pd.read_csv(r\"D:\\Work_Masterarbeit\\wsdm\\preprocessed_3\\wsdm_FA.csv\")\n",
    "# setting max_columns to 100, so it displays all the columns of train dataset\n",
    "pd.set_option('display.max_columns', 100)\n",
    "# displaying head (top 5) rows of train dataset\n",
    "wsdm_dataset.head()"
   ]
  },
  {
   "cell_type": "code",
   "execution_count": 3,
   "metadata": {
    "scrolled": true
   },
   "outputs": [],
   "source": [
    "# Konvertiere Datum für Input Rohdatenmatrix\n",
    "wsdm_dataset['date'] = wsdm_dataset['date'].str.replace('-', '').astype(float)\n",
    "wsdm_dataset['membership_expire_date'] = wsdm_dataset['membership_expire_date'].str.replace('-', '').astype(float)\n",
    "wsdm_dataset['transaction_date'] = wsdm_dataset['transaction_date'].str.replace('-', '').astype(float)"
   ]
  },
  {
   "cell_type": "code",
   "execution_count": 4,
   "metadata": {},
   "outputs": [
    {
     "data": {
      "text/plain": [
       "(16887877, 23)"
      ]
     },
     "execution_count": 4,
     "metadata": {},
     "output_type": "execute_result"
    }
   ],
   "source": [
    "# getting shape of train dataset\n",
    "wsdm_dataset.shape"
   ]
  },
  {
   "cell_type": "code",
   "execution_count": 5,
   "metadata": {},
   "outputs": [
    {
     "data": {
      "text/plain": [
       "array([20131223., 20131223., 20131223., ..., 20110905., 20110905.,\n",
       "       20150204.])"
      ]
     },
     "execution_count": 5,
     "metadata": {},
     "output_type": "execute_result"
    }
   ],
   "source": [
    "# adding registration init time feature to wsdm dataset\n",
    "# load the registration array\n",
    "reg_date = np.load(r\"D:\\Work_Masterarbeit\\wsdm\\preprocessed_3\\wsdm_registration_date.npz\")\n",
    "# display the array\n",
    "reg_date['arr_0']"
   ]
  },
  {
   "cell_type": "code",
   "execution_count": 6,
   "metadata": {
    "scrolled": true
   },
   "outputs": [
    {
     "data": {
      "text/plain": [
       "16887877"
      ]
     },
     "execution_count": 6,
     "metadata": {},
     "output_type": "execute_result"
    }
   ],
   "source": [
    "# converting numpy array to list\n",
    "registration_init_time = reg_date['arr_0'].tolist()\n",
    "# getting length of the list\n",
    "len(registration_init_time)"
   ]
  },
  {
   "cell_type": "code",
   "execution_count": 7,
   "metadata": {},
   "outputs": [],
   "source": [
    "# creating new feature, and adding it to wsdm dataset\n",
    "wsdm_dataset['registration_init_time'] = registration_init_time"
   ]
  },
  {
   "cell_type": "code",
   "execution_count": 8,
   "metadata": {
    "scrolled": false
   },
   "outputs": [
    {
     "data": {
      "text/html": [
       "<div>\n",
       "<style scoped>\n",
       "    .dataframe tbody tr th:only-of-type {\n",
       "        vertical-align: middle;\n",
       "    }\n",
       "\n",
       "    .dataframe tbody tr th {\n",
       "        vertical-align: top;\n",
       "    }\n",
       "\n",
       "    .dataframe thead th {\n",
       "        text-align: right;\n",
       "    }\n",
       "</style>\n",
       "<table border=\"1\" class=\"dataframe\">\n",
       "  <thead>\n",
       "    <tr style=\"text-align: right;\">\n",
       "      <th></th>\n",
       "      <th>msno</th>\n",
       "      <th>is_churn</th>\n",
       "      <th>city</th>\n",
       "      <th>bd</th>\n",
       "      <th>gender</th>\n",
       "      <th>registered_via</th>\n",
       "      <th>registration_init_time</th>\n",
       "      <th>payment_method_id</th>\n",
       "      <th>payment_plan_days</th>\n",
       "      <th>plan_list_price</th>\n",
       "      <th>actual_amount_paid</th>\n",
       "      <th>is_auto_renew</th>\n",
       "      <th>transaction_date</th>\n",
       "      <th>membership_expire_date</th>\n",
       "      <th>is_cancel</th>\n",
       "      <th>date</th>\n",
       "      <th>num_25</th>\n",
       "      <th>num_50</th>\n",
       "      <th>num_75</th>\n",
       "      <th>num_985</th>\n",
       "      <th>num_100</th>\n",
       "      <th>num_unq</th>\n",
       "      <th>total_secs</th>\n",
       "    </tr>\n",
       "  </thead>\n",
       "  <tbody>\n",
       "    <tr>\n",
       "      <th>0</th>\n",
       "      <td>ugx0CjOMzazClkFzU2xasmDZaoIqOUAZPsH1q0teWCg=</td>\n",
       "      <td>1</td>\n",
       "      <td>5.0</td>\n",
       "      <td>28.0</td>\n",
       "      <td>1.0</td>\n",
       "      <td>3.0</td>\n",
       "      <td>20131223.0</td>\n",
       "      <td>0.0</td>\n",
       "      <td>30.0</td>\n",
       "      <td>149.0</td>\n",
       "      <td>149.0</td>\n",
       "      <td>2.0</td>\n",
       "      <td>20170316.0</td>\n",
       "      <td>20170419.0</td>\n",
       "      <td>2.0</td>\n",
       "      <td>20170305.0</td>\n",
       "      <td>7.0</td>\n",
       "      <td>0.0</td>\n",
       "      <td>3.0</td>\n",
       "      <td>0.0</td>\n",
       "      <td>71.0</td>\n",
       "      <td>68.0</td>\n",
       "      <td>17600.0</td>\n",
       "    </tr>\n",
       "    <tr>\n",
       "      <th>1</th>\n",
       "      <td>ugx0CjOMzazClkFzU2xasmDZaoIqOUAZPsH1q0teWCg=</td>\n",
       "      <td>1</td>\n",
       "      <td>5.0</td>\n",
       "      <td>28.0</td>\n",
       "      <td>1.0</td>\n",
       "      <td>3.0</td>\n",
       "      <td>20131223.0</td>\n",
       "      <td>0.0</td>\n",
       "      <td>30.0</td>\n",
       "      <td>149.0</td>\n",
       "      <td>149.0</td>\n",
       "      <td>2.0</td>\n",
       "      <td>20170316.0</td>\n",
       "      <td>20170419.0</td>\n",
       "      <td>2.0</td>\n",
       "      <td>20170301.0</td>\n",
       "      <td>2.0</td>\n",
       "      <td>0.0</td>\n",
       "      <td>0.0</td>\n",
       "      <td>1.0</td>\n",
       "      <td>21.0</td>\n",
       "      <td>16.0</td>\n",
       "      <td>8830.0</td>\n",
       "    </tr>\n",
       "    <tr>\n",
       "      <th>2</th>\n",
       "      <td>ugx0CjOMzazClkFzU2xasmDZaoIqOUAZPsH1q0teWCg=</td>\n",
       "      <td>1</td>\n",
       "      <td>5.0</td>\n",
       "      <td>28.0</td>\n",
       "      <td>1.0</td>\n",
       "      <td>3.0</td>\n",
       "      <td>20131223.0</td>\n",
       "      <td>0.0</td>\n",
       "      <td>30.0</td>\n",
       "      <td>149.0</td>\n",
       "      <td>149.0</td>\n",
       "      <td>2.0</td>\n",
       "      <td>20170316.0</td>\n",
       "      <td>20170419.0</td>\n",
       "      <td>2.0</td>\n",
       "      <td>20170319.0</td>\n",
       "      <td>0.0</td>\n",
       "      <td>0.0</td>\n",
       "      <td>0.0</td>\n",
       "      <td>0.0</td>\n",
       "      <td>34.0</td>\n",
       "      <td>17.0</td>\n",
       "      <td>7884.0</td>\n",
       "    </tr>\n",
       "    <tr>\n",
       "      <th>3</th>\n",
       "      <td>ugx0CjOMzazClkFzU2xasmDZaoIqOUAZPsH1q0teWCg=</td>\n",
       "      <td>1</td>\n",
       "      <td>5.0</td>\n",
       "      <td>28.0</td>\n",
       "      <td>1.0</td>\n",
       "      <td>3.0</td>\n",
       "      <td>20131223.0</td>\n",
       "      <td>0.0</td>\n",
       "      <td>30.0</td>\n",
       "      <td>149.0</td>\n",
       "      <td>149.0</td>\n",
       "      <td>2.0</td>\n",
       "      <td>20170316.0</td>\n",
       "      <td>20170419.0</td>\n",
       "      <td>2.0</td>\n",
       "      <td>20170316.0</td>\n",
       "      <td>15.0</td>\n",
       "      <td>0.0</td>\n",
       "      <td>0.0</td>\n",
       "      <td>1.0</td>\n",
       "      <td>38.0</td>\n",
       "      <td>17.0</td>\n",
       "      <td>9030.0</td>\n",
       "    </tr>\n",
       "    <tr>\n",
       "      <th>4</th>\n",
       "      <td>ugx0CjOMzazClkFzU2xasmDZaoIqOUAZPsH1q0teWCg=</td>\n",
       "      <td>1</td>\n",
       "      <td>5.0</td>\n",
       "      <td>28.0</td>\n",
       "      <td>1.0</td>\n",
       "      <td>3.0</td>\n",
       "      <td>20131223.0</td>\n",
       "      <td>0.0</td>\n",
       "      <td>30.0</td>\n",
       "      <td>149.0</td>\n",
       "      <td>149.0</td>\n",
       "      <td>2.0</td>\n",
       "      <td>20170316.0</td>\n",
       "      <td>20170419.0</td>\n",
       "      <td>2.0</td>\n",
       "      <td>20170310.0</td>\n",
       "      <td>0.0</td>\n",
       "      <td>0.0</td>\n",
       "      <td>0.0</td>\n",
       "      <td>0.0</td>\n",
       "      <td>8.0</td>\n",
       "      <td>8.0</td>\n",
       "      <td>1870.0</td>\n",
       "    </tr>\n",
       "  </tbody>\n",
       "</table>\n",
       "</div>"
      ],
      "text/plain": [
       "                                           msno  is_churn  city    bd  gender  \\\n",
       "0  ugx0CjOMzazClkFzU2xasmDZaoIqOUAZPsH1q0teWCg=         1   5.0  28.0     1.0   \n",
       "1  ugx0CjOMzazClkFzU2xasmDZaoIqOUAZPsH1q0teWCg=         1   5.0  28.0     1.0   \n",
       "2  ugx0CjOMzazClkFzU2xasmDZaoIqOUAZPsH1q0teWCg=         1   5.0  28.0     1.0   \n",
       "3  ugx0CjOMzazClkFzU2xasmDZaoIqOUAZPsH1q0teWCg=         1   5.0  28.0     1.0   \n",
       "4  ugx0CjOMzazClkFzU2xasmDZaoIqOUAZPsH1q0teWCg=         1   5.0  28.0     1.0   \n",
       "\n",
       "   registered_via  registration_init_time  payment_method_id  \\\n",
       "0             3.0              20131223.0                0.0   \n",
       "1             3.0              20131223.0                0.0   \n",
       "2             3.0              20131223.0                0.0   \n",
       "3             3.0              20131223.0                0.0   \n",
       "4             3.0              20131223.0                0.0   \n",
       "\n",
       "   payment_plan_days  plan_list_price  actual_amount_paid  is_auto_renew  \\\n",
       "0               30.0            149.0               149.0            2.0   \n",
       "1               30.0            149.0               149.0            2.0   \n",
       "2               30.0            149.0               149.0            2.0   \n",
       "3               30.0            149.0               149.0            2.0   \n",
       "4               30.0            149.0               149.0            2.0   \n",
       "\n",
       "   transaction_date  membership_expire_date  is_cancel        date  num_25  \\\n",
       "0        20170316.0              20170419.0        2.0  20170305.0     7.0   \n",
       "1        20170316.0              20170419.0        2.0  20170301.0     2.0   \n",
       "2        20170316.0              20170419.0        2.0  20170319.0     0.0   \n",
       "3        20170316.0              20170419.0        2.0  20170316.0    15.0   \n",
       "4        20170316.0              20170419.0        2.0  20170310.0     0.0   \n",
       "\n",
       "   num_50  num_75  num_985  num_100  num_unq  total_secs  \n",
       "0     0.0     3.0      0.0     71.0     68.0     17600.0  \n",
       "1     0.0     0.0      1.0     21.0     16.0      8830.0  \n",
       "2     0.0     0.0      0.0     34.0     17.0      7884.0  \n",
       "3     0.0     0.0      1.0     38.0     17.0      9030.0  \n",
       "4     0.0     0.0      0.0      8.0      8.0      1870.0  "
      ]
     },
     "execution_count": 8,
     "metadata": {},
     "output_type": "execute_result"
    }
   ],
   "source": [
    "# setting max_columns to 100, so it displays all the columns of wsdm dataset\n",
    "pd.set_option('display.max_columns', 100)\n",
    "# displaying head (top 5) rows of wsdm dataset\n",
    "wsdm_dataset.head()"
   ]
  },
  {
   "cell_type": "code",
   "execution_count": 9,
   "metadata": {},
   "outputs": [],
   "source": [
    "# saving new dataset\n",
    "wsdm_dataset.to_csv(r\"D:\\Work_Masterarbeit\\wsdm\\preprocessed_3\\prepared_train.csv\", index=False)"
   ]
  },
  {
   "cell_type": "code",
   "execution_count": 10,
   "metadata": {
    "scrolled": true
   },
   "outputs": [
    {
     "data": {
      "text/plain": [
       "Index(['msno', 'is_churn', 'city', 'bd', 'gender', 'registered_via',\n",
       "       'registration_init_time', 'payment_method_id', 'payment_plan_days',\n",
       "       'plan_list_price', 'actual_amount_paid', 'is_auto_renew',\n",
       "       'transaction_date', 'membership_expire_date', 'is_cancel', 'date',\n",
       "       'num_25', 'num_50', 'num_75', 'num_985', 'num_100', 'num_unq',\n",
       "       'total_secs'],\n",
       "      dtype='object')"
      ]
     },
     "execution_count": 10,
     "metadata": {},
     "output_type": "execute_result"
    }
   ],
   "source": [
    "# reading csv file for removing duplicates\n",
    "wsdm_dataset = pd.read_csv(r\"D:\\Work_Masterarbeit\\wsdm\\preprocessed_3\\prepared_train.csv\")\n",
    "# getting all columns of train dataset\n",
    "wsdm_dataset.columns"
   ]
  },
  {
   "cell_type": "code",
   "execution_count": 11,
   "metadata": {
    "scrolled": false
   },
   "outputs": [],
   "source": [
    "# # removing all duplicate rows for a particular id\n",
    "# wsdm_dataset = wsdm_dataset.drop_duplicates('msno', keep='first', inplace=False)\n",
    "# # setting max_columns to 100, so it displays all the columns of train dataset\n",
    "# pd.set_option('display.max_columns', 100)\n",
    "# # displaying head (top 10) rows of train dataset\n",
    "# wsdm_dataset.head(10)"
   ]
  },
  {
   "cell_type": "code",
   "execution_count": 12,
   "metadata": {},
   "outputs": [
    {
     "data": {
      "text/plain": [
       "(16887877, 23)"
      ]
     },
     "execution_count": 12,
     "metadata": {},
     "output_type": "execute_result"
    }
   ],
   "source": [
    "# getting shape of wsdm dataset\n",
    "wsdm_dataset.shape"
   ]
  },
  {
   "cell_type": "code",
   "execution_count": 13,
   "metadata": {},
   "outputs": [],
   "source": [
    "# getting columns and converting them to list\n",
    "cols = wsdm_dataset.columns.tolist()\n",
    "# saving them for further use\n",
    "np.savez_compressed(r\"D:\\Work_Masterarbeit\\wsdm\\preprocessed_3\\columns.npz\", cols)"
   ]
  },
  {
   "cell_type": "code",
   "execution_count": 14,
   "metadata": {},
   "outputs": [],
   "source": [
    "# saving actual wsdm dataset\n",
    "wsdm_dataset.to_csv(r\"D:\\Work_Masterarbeit\\wsdm\\preprocessed_3\\actual_train.csv\", index=False)"
   ]
  },
  {
   "cell_type": "markdown",
   "metadata": {},
   "source": [
    "<h2> 3.2 Train Test Split"
   ]
  },
  {
   "cell_type": "code",
   "execution_count": 15,
   "metadata": {
    "scrolled": true
   },
   "outputs": [
    {
     "data": {
      "text/html": [
       "<div>\n",
       "<style scoped>\n",
       "    .dataframe tbody tr th:only-of-type {\n",
       "        vertical-align: middle;\n",
       "    }\n",
       "\n",
       "    .dataframe tbody tr th {\n",
       "        vertical-align: top;\n",
       "    }\n",
       "\n",
       "    .dataframe thead th {\n",
       "        text-align: right;\n",
       "    }\n",
       "</style>\n",
       "<table border=\"1\" class=\"dataframe\">\n",
       "  <thead>\n",
       "    <tr style=\"text-align: right;\">\n",
       "      <th></th>\n",
       "      <th>msno</th>\n",
       "      <th>is_churn</th>\n",
       "      <th>city</th>\n",
       "      <th>bd</th>\n",
       "      <th>gender</th>\n",
       "      <th>registered_via</th>\n",
       "      <th>registration_init_time</th>\n",
       "      <th>payment_method_id</th>\n",
       "      <th>payment_plan_days</th>\n",
       "      <th>plan_list_price</th>\n",
       "      <th>actual_amount_paid</th>\n",
       "      <th>is_auto_renew</th>\n",
       "      <th>transaction_date</th>\n",
       "      <th>membership_expire_date</th>\n",
       "      <th>is_cancel</th>\n",
       "      <th>date</th>\n",
       "      <th>num_25</th>\n",
       "      <th>num_50</th>\n",
       "      <th>num_75</th>\n",
       "      <th>num_985</th>\n",
       "      <th>num_100</th>\n",
       "      <th>num_unq</th>\n",
       "      <th>total_secs</th>\n",
       "    </tr>\n",
       "  </thead>\n",
       "  <tbody>\n",
       "    <tr>\n",
       "      <th>0</th>\n",
       "      <td>ugx0CjOMzazClkFzU2xasmDZaoIqOUAZPsH1q0teWCg=</td>\n",
       "      <td>1</td>\n",
       "      <td>5.0</td>\n",
       "      <td>28.0</td>\n",
       "      <td>1.0</td>\n",
       "      <td>3.0</td>\n",
       "      <td>20131223.0</td>\n",
       "      <td>0.0</td>\n",
       "      <td>30.0</td>\n",
       "      <td>149.0</td>\n",
       "      <td>149.0</td>\n",
       "      <td>2.0</td>\n",
       "      <td>20170316.0</td>\n",
       "      <td>20170419.0</td>\n",
       "      <td>2.0</td>\n",
       "      <td>20170305.0</td>\n",
       "      <td>7.0</td>\n",
       "      <td>0.0</td>\n",
       "      <td>3.0</td>\n",
       "      <td>0.0</td>\n",
       "      <td>71.0</td>\n",
       "      <td>68.0</td>\n",
       "      <td>17600.0</td>\n",
       "    </tr>\n",
       "    <tr>\n",
       "      <th>1</th>\n",
       "      <td>ugx0CjOMzazClkFzU2xasmDZaoIqOUAZPsH1q0teWCg=</td>\n",
       "      <td>1</td>\n",
       "      <td>5.0</td>\n",
       "      <td>28.0</td>\n",
       "      <td>1.0</td>\n",
       "      <td>3.0</td>\n",
       "      <td>20131223.0</td>\n",
       "      <td>0.0</td>\n",
       "      <td>30.0</td>\n",
       "      <td>149.0</td>\n",
       "      <td>149.0</td>\n",
       "      <td>2.0</td>\n",
       "      <td>20170316.0</td>\n",
       "      <td>20170419.0</td>\n",
       "      <td>2.0</td>\n",
       "      <td>20170301.0</td>\n",
       "      <td>2.0</td>\n",
       "      <td>0.0</td>\n",
       "      <td>0.0</td>\n",
       "      <td>1.0</td>\n",
       "      <td>21.0</td>\n",
       "      <td>16.0</td>\n",
       "      <td>8830.0</td>\n",
       "    </tr>\n",
       "    <tr>\n",
       "      <th>2</th>\n",
       "      <td>ugx0CjOMzazClkFzU2xasmDZaoIqOUAZPsH1q0teWCg=</td>\n",
       "      <td>1</td>\n",
       "      <td>5.0</td>\n",
       "      <td>28.0</td>\n",
       "      <td>1.0</td>\n",
       "      <td>3.0</td>\n",
       "      <td>20131223.0</td>\n",
       "      <td>0.0</td>\n",
       "      <td>30.0</td>\n",
       "      <td>149.0</td>\n",
       "      <td>149.0</td>\n",
       "      <td>2.0</td>\n",
       "      <td>20170316.0</td>\n",
       "      <td>20170419.0</td>\n",
       "      <td>2.0</td>\n",
       "      <td>20170319.0</td>\n",
       "      <td>0.0</td>\n",
       "      <td>0.0</td>\n",
       "      <td>0.0</td>\n",
       "      <td>0.0</td>\n",
       "      <td>34.0</td>\n",
       "      <td>17.0</td>\n",
       "      <td>7884.0</td>\n",
       "    </tr>\n",
       "    <tr>\n",
       "      <th>3</th>\n",
       "      <td>ugx0CjOMzazClkFzU2xasmDZaoIqOUAZPsH1q0teWCg=</td>\n",
       "      <td>1</td>\n",
       "      <td>5.0</td>\n",
       "      <td>28.0</td>\n",
       "      <td>1.0</td>\n",
       "      <td>3.0</td>\n",
       "      <td>20131223.0</td>\n",
       "      <td>0.0</td>\n",
       "      <td>30.0</td>\n",
       "      <td>149.0</td>\n",
       "      <td>149.0</td>\n",
       "      <td>2.0</td>\n",
       "      <td>20170316.0</td>\n",
       "      <td>20170419.0</td>\n",
       "      <td>2.0</td>\n",
       "      <td>20170316.0</td>\n",
       "      <td>15.0</td>\n",
       "      <td>0.0</td>\n",
       "      <td>0.0</td>\n",
       "      <td>1.0</td>\n",
       "      <td>38.0</td>\n",
       "      <td>17.0</td>\n",
       "      <td>9030.0</td>\n",
       "    </tr>\n",
       "    <tr>\n",
       "      <th>4</th>\n",
       "      <td>ugx0CjOMzazClkFzU2xasmDZaoIqOUAZPsH1q0teWCg=</td>\n",
       "      <td>1</td>\n",
       "      <td>5.0</td>\n",
       "      <td>28.0</td>\n",
       "      <td>1.0</td>\n",
       "      <td>3.0</td>\n",
       "      <td>20131223.0</td>\n",
       "      <td>0.0</td>\n",
       "      <td>30.0</td>\n",
       "      <td>149.0</td>\n",
       "      <td>149.0</td>\n",
       "      <td>2.0</td>\n",
       "      <td>20170316.0</td>\n",
       "      <td>20170419.0</td>\n",
       "      <td>2.0</td>\n",
       "      <td>20170310.0</td>\n",
       "      <td>0.0</td>\n",
       "      <td>0.0</td>\n",
       "      <td>0.0</td>\n",
       "      <td>0.0</td>\n",
       "      <td>8.0</td>\n",
       "      <td>8.0</td>\n",
       "      <td>1870.0</td>\n",
       "    </tr>\n",
       "  </tbody>\n",
       "</table>\n",
       "</div>"
      ],
      "text/plain": [
       "                                           msno  is_churn  city    bd  gender  \\\n",
       "0  ugx0CjOMzazClkFzU2xasmDZaoIqOUAZPsH1q0teWCg=         1   5.0  28.0     1.0   \n",
       "1  ugx0CjOMzazClkFzU2xasmDZaoIqOUAZPsH1q0teWCg=         1   5.0  28.0     1.0   \n",
       "2  ugx0CjOMzazClkFzU2xasmDZaoIqOUAZPsH1q0teWCg=         1   5.0  28.0     1.0   \n",
       "3  ugx0CjOMzazClkFzU2xasmDZaoIqOUAZPsH1q0teWCg=         1   5.0  28.0     1.0   \n",
       "4  ugx0CjOMzazClkFzU2xasmDZaoIqOUAZPsH1q0teWCg=         1   5.0  28.0     1.0   \n",
       "\n",
       "   registered_via  registration_init_time  payment_method_id  \\\n",
       "0             3.0              20131223.0                0.0   \n",
       "1             3.0              20131223.0                0.0   \n",
       "2             3.0              20131223.0                0.0   \n",
       "3             3.0              20131223.0                0.0   \n",
       "4             3.0              20131223.0                0.0   \n",
       "\n",
       "   payment_plan_days  plan_list_price  actual_amount_paid  is_auto_renew  \\\n",
       "0               30.0            149.0               149.0            2.0   \n",
       "1               30.0            149.0               149.0            2.0   \n",
       "2               30.0            149.0               149.0            2.0   \n",
       "3               30.0            149.0               149.0            2.0   \n",
       "4               30.0            149.0               149.0            2.0   \n",
       "\n",
       "   transaction_date  membership_expire_date  is_cancel        date  num_25  \\\n",
       "0        20170316.0              20170419.0        2.0  20170305.0     7.0   \n",
       "1        20170316.0              20170419.0        2.0  20170301.0     2.0   \n",
       "2        20170316.0              20170419.0        2.0  20170319.0     0.0   \n",
       "3        20170316.0              20170419.0        2.0  20170316.0    15.0   \n",
       "4        20170316.0              20170419.0        2.0  20170310.0     0.0   \n",
       "\n",
       "   num_50  num_75  num_985  num_100  num_unq  total_secs  \n",
       "0     0.0     3.0      0.0     71.0     68.0     17600.0  \n",
       "1     0.0     0.0      1.0     21.0     16.0      8830.0  \n",
       "2     0.0     0.0      0.0     34.0     17.0      7884.0  \n",
       "3     0.0     0.0      1.0     38.0     17.0      9030.0  \n",
       "4     0.0     0.0      0.0      8.0      8.0      1870.0  "
      ]
     },
     "execution_count": 15,
     "metadata": {},
     "output_type": "execute_result"
    }
   ],
   "source": [
    "# loading actual wsdm data\n",
    "wsdm_data = pd.read_csv(r\"D:\\Work_Masterarbeit\\wsdm\\preprocessed_3\\actual_train.csv\")\n",
    "# setting max_columns to 100, so it displays all the columns of train data\n",
    "pd.set_option('display.max_columns', 100)\n",
    "# displaying head (top 5) rows of wsdm data\n",
    "wsdm_data.head()"
   ]
  },
  {
   "cell_type": "code",
   "execution_count": 16,
   "metadata": {},
   "outputs": [
    {
     "data": {
      "text/plain": [
       "False"
      ]
     },
     "execution_count": 16,
     "metadata": {},
     "output_type": "execute_result"
    }
   ],
   "source": [
    "# checking for null values\n",
    "wsdm_data.isnull().values.any()"
   ]
  },
  {
   "cell_type": "code",
   "execution_count": 17,
   "metadata": {},
   "outputs": [],
   "source": [
    "# replacing all nan and infinity to 0\n",
    "wsdm_data = wsdm_data.replace(np.nan, 0, inplace=False)\n",
    "wsdm_data = wsdm_data.replace(np.inf, 0, inplace=False)"
   ]
  },
  {
   "cell_type": "code",
   "execution_count": 18,
   "metadata": {},
   "outputs": [],
   "source": [
    "## Sample 50% of Data due to memory restrictions\n",
    "wsdm_data = wsdm_data.sample(frac=.5)"
   ]
  },
  {
   "cell_type": "code",
   "execution_count": 19,
   "metadata": {},
   "outputs": [],
   "source": [
    "# https://stackoverflow.com/a/29651514\n",
    "def normalize(df):\n",
    "    result1 = df.copy()\n",
    "    for feature_name in df.columns:\n",
    "        if (str(feature_name) != str('msno') and str(feature_name)!=str('is_churn')):\n",
    "            max_value = df[feature_name].max()\n",
    "            min_value = df[feature_name].min()\n",
    "            result1[feature_name] = (df[feature_name] - min_value) / (max_value - min_value)\n",
    "    return result1\n",
    "\n",
    "\n",
    "wsdm_dataset = normalize(wsdm_data)"
   ]
  },
  {
   "cell_type": "code",
   "execution_count": 20,
   "metadata": {},
   "outputs": [
    {
     "data": {
      "text/plain": [
       "array([0, 0, 0, ..., 0, 0, 0], dtype=int64)"
      ]
     },
     "execution_count": 20,
     "metadata": {},
     "output_type": "execute_result"
    }
   ],
   "source": [
    "# getting labels for y\n",
    "labels = wsdm_dataset['is_churn'].values\n",
    "labels"
   ]
  },
  {
   "cell_type": "code",
   "execution_count": 21,
   "metadata": {
    "scrolled": true
   },
   "outputs": [
    {
     "data": {
      "text/html": [
       "<div>\n",
       "<style scoped>\n",
       "    .dataframe tbody tr th:only-of-type {\n",
       "        vertical-align: middle;\n",
       "    }\n",
       "\n",
       "    .dataframe tbody tr th {\n",
       "        vertical-align: top;\n",
       "    }\n",
       "\n",
       "    .dataframe thead th {\n",
       "        text-align: right;\n",
       "    }\n",
       "</style>\n",
       "<table border=\"1\" class=\"dataframe\">\n",
       "  <thead>\n",
       "    <tr style=\"text-align: right;\">\n",
       "      <th></th>\n",
       "      <th>city</th>\n",
       "      <th>bd</th>\n",
       "      <th>gender</th>\n",
       "      <th>registered_via</th>\n",
       "      <th>registration_init_time</th>\n",
       "      <th>payment_method_id</th>\n",
       "      <th>payment_plan_days</th>\n",
       "      <th>plan_list_price</th>\n",
       "      <th>actual_amount_paid</th>\n",
       "      <th>is_auto_renew</th>\n",
       "      <th>transaction_date</th>\n",
       "      <th>membership_expire_date</th>\n",
       "      <th>is_cancel</th>\n",
       "      <th>date</th>\n",
       "      <th>num_25</th>\n",
       "      <th>num_50</th>\n",
       "      <th>num_75</th>\n",
       "      <th>num_985</th>\n",
       "      <th>num_100</th>\n",
       "      <th>num_unq</th>\n",
       "      <th>total_secs</th>\n",
       "    </tr>\n",
       "  </thead>\n",
       "  <tbody>\n",
       "    <tr>\n",
       "      <th>9516294</th>\n",
       "      <td>0.590909</td>\n",
       "      <td>0.342857</td>\n",
       "      <td>1.0</td>\n",
       "      <td>0.692308</td>\n",
       "      <td>0.158286</td>\n",
       "      <td>0.829268</td>\n",
       "      <td>1.0</td>\n",
       "      <td>0.827778</td>\n",
       "      <td>0.827778</td>\n",
       "      <td>0.5</td>\n",
       "      <td>1.000000</td>\n",
       "      <td>0.003350</td>\n",
       "      <td>0.0</td>\n",
       "      <td>0.266667</td>\n",
       "      <td>0.133333</td>\n",
       "      <td>0.75</td>\n",
       "      <td>0.000000</td>\n",
       "      <td>0.000000</td>\n",
       "      <td>0.918919</td>\n",
       "      <td>0.223881</td>\n",
       "      <td>0.863850</td>\n",
       "    </tr>\n",
       "    <tr>\n",
       "      <th>1584328</th>\n",
       "      <td>0.045455</td>\n",
       "      <td>0.385714</td>\n",
       "      <td>0.0</td>\n",
       "      <td>0.538462</td>\n",
       "      <td>0.695942</td>\n",
       "      <td>1.000000</td>\n",
       "      <td>1.0</td>\n",
       "      <td>0.550000</td>\n",
       "      <td>0.550000</td>\n",
       "      <td>0.5</td>\n",
       "      <td>0.999654</td>\n",
       "      <td>0.003251</td>\n",
       "      <td>0.0</td>\n",
       "      <td>0.466667</td>\n",
       "      <td>0.200000</td>\n",
       "      <td>0.50</td>\n",
       "      <td>0.333333</td>\n",
       "      <td>0.000000</td>\n",
       "      <td>0.189189</td>\n",
       "      <td>0.223881</td>\n",
       "      <td>0.202400</td>\n",
       "    </tr>\n",
       "    <tr>\n",
       "      <th>5281487</th>\n",
       "      <td>0.590909</td>\n",
       "      <td>0.385714</td>\n",
       "      <td>0.5</td>\n",
       "      <td>0.692308</td>\n",
       "      <td>0.543794</td>\n",
       "      <td>0.804878</td>\n",
       "      <td>1.0</td>\n",
       "      <td>0.827778</td>\n",
       "      <td>0.827778</td>\n",
       "      <td>0.5</td>\n",
       "      <td>1.000000</td>\n",
       "      <td>0.003350</td>\n",
       "      <td>0.0</td>\n",
       "      <td>0.000000</td>\n",
       "      <td>0.133333</td>\n",
       "      <td>0.00</td>\n",
       "      <td>0.000000</td>\n",
       "      <td>0.000000</td>\n",
       "      <td>0.081081</td>\n",
       "      <td>0.089552</td>\n",
       "      <td>0.083464</td>\n",
       "    </tr>\n",
       "    <tr>\n",
       "      <th>15777914</th>\n",
       "      <td>0.363636</td>\n",
       "      <td>0.371429</td>\n",
       "      <td>0.5</td>\n",
       "      <td>0.538462</td>\n",
       "      <td>0.697504</td>\n",
       "      <td>1.000000</td>\n",
       "      <td>1.0</td>\n",
       "      <td>0.716667</td>\n",
       "      <td>0.716667</td>\n",
       "      <td>0.5</td>\n",
       "      <td>0.999011</td>\n",
       "      <td>0.003037</td>\n",
       "      <td>0.0</td>\n",
       "      <td>0.200000</td>\n",
       "      <td>0.000000</td>\n",
       "      <td>0.00</td>\n",
       "      <td>0.000000</td>\n",
       "      <td>0.000000</td>\n",
       "      <td>0.040541</td>\n",
       "      <td>0.029851</td>\n",
       "      <td>0.045175</td>\n",
       "    </tr>\n",
       "    <tr>\n",
       "      <th>10878112</th>\n",
       "      <td>0.045455</td>\n",
       "      <td>0.385714</td>\n",
       "      <td>0.0</td>\n",
       "      <td>0.538462</td>\n",
       "      <td>0.852113</td>\n",
       "      <td>1.000000</td>\n",
       "      <td>1.0</td>\n",
       "      <td>0.827778</td>\n",
       "      <td>0.827778</td>\n",
       "      <td>0.5</td>\n",
       "      <td>0.998665</td>\n",
       "      <td>0.002921</td>\n",
       "      <td>0.0</td>\n",
       "      <td>0.900000</td>\n",
       "      <td>0.266667</td>\n",
       "      <td>0.25</td>\n",
       "      <td>0.000000</td>\n",
       "      <td>0.000000</td>\n",
       "      <td>0.445946</td>\n",
       "      <td>0.477612</td>\n",
       "      <td>0.381325</td>\n",
       "    </tr>\n",
       "    <tr>\n",
       "      <th>...</th>\n",
       "      <td>...</td>\n",
       "      <td>...</td>\n",
       "      <td>...</td>\n",
       "      <td>...</td>\n",
       "      <td>...</td>\n",
       "      <td>...</td>\n",
       "      <td>...</td>\n",
       "      <td>...</td>\n",
       "      <td>...</td>\n",
       "      <td>...</td>\n",
       "      <td>...</td>\n",
       "      <td>...</td>\n",
       "      <td>...</td>\n",
       "      <td>...</td>\n",
       "      <td>...</td>\n",
       "      <td>...</td>\n",
       "      <td>...</td>\n",
       "      <td>...</td>\n",
       "      <td>...</td>\n",
       "      <td>...</td>\n",
       "      <td>...</td>\n",
       "    </tr>\n",
       "    <tr>\n",
       "      <th>16086030</th>\n",
       "      <td>0.045455</td>\n",
       "      <td>0.385714</td>\n",
       "      <td>0.0</td>\n",
       "      <td>0.692308</td>\n",
       "      <td>0.772155</td>\n",
       "      <td>0.926829</td>\n",
       "      <td>1.0</td>\n",
       "      <td>0.827778</td>\n",
       "      <td>0.827778</td>\n",
       "      <td>0.0</td>\n",
       "      <td>0.999753</td>\n",
       "      <td>0.003268</td>\n",
       "      <td>0.0</td>\n",
       "      <td>0.200000</td>\n",
       "      <td>0.200000</td>\n",
       "      <td>0.75</td>\n",
       "      <td>0.666667</td>\n",
       "      <td>1.000000</td>\n",
       "      <td>0.297297</td>\n",
       "      <td>0.164179</td>\n",
       "      <td>0.324674</td>\n",
       "    </tr>\n",
       "    <tr>\n",
       "      <th>1035822</th>\n",
       "      <td>0.045455</td>\n",
       "      <td>0.385714</td>\n",
       "      <td>0.0</td>\n",
       "      <td>1.000000</td>\n",
       "      <td>0.998377</td>\n",
       "      <td>0.731707</td>\n",
       "      <td>1.0</td>\n",
       "      <td>0.827778</td>\n",
       "      <td>0.827778</td>\n",
       "      <td>0.5</td>\n",
       "      <td>0.999011</td>\n",
       "      <td>0.001386</td>\n",
       "      <td>0.5</td>\n",
       "      <td>0.366667</td>\n",
       "      <td>0.133333</td>\n",
       "      <td>0.75</td>\n",
       "      <td>0.666667</td>\n",
       "      <td>0.333333</td>\n",
       "      <td>0.229730</td>\n",
       "      <td>0.432836</td>\n",
       "      <td>0.245175</td>\n",
       "    </tr>\n",
       "    <tr>\n",
       "      <th>13381453</th>\n",
       "      <td>0.045455</td>\n",
       "      <td>0.385714</td>\n",
       "      <td>0.0</td>\n",
       "      <td>0.538462</td>\n",
       "      <td>0.852213</td>\n",
       "      <td>1.000000</td>\n",
       "      <td>1.0</td>\n",
       "      <td>0.550000</td>\n",
       "      <td>0.550000</td>\n",
       "      <td>0.5</td>\n",
       "      <td>0.999357</td>\n",
       "      <td>0.003152</td>\n",
       "      <td>0.0</td>\n",
       "      <td>0.400000</td>\n",
       "      <td>0.466667</td>\n",
       "      <td>0.25</td>\n",
       "      <td>0.333333</td>\n",
       "      <td>0.000000</td>\n",
       "      <td>0.094595</td>\n",
       "      <td>0.208955</td>\n",
       "      <td>0.100104</td>\n",
       "    </tr>\n",
       "    <tr>\n",
       "      <th>4679300</th>\n",
       "      <td>1.000000</td>\n",
       "      <td>0.371429</td>\n",
       "      <td>0.5</td>\n",
       "      <td>0.230769</td>\n",
       "      <td>0.616153</td>\n",
       "      <td>0.951220</td>\n",
       "      <td>1.0</td>\n",
       "      <td>0.827778</td>\n",
       "      <td>0.827778</td>\n",
       "      <td>0.5</td>\n",
       "      <td>1.000000</td>\n",
       "      <td>0.004803</td>\n",
       "      <td>0.0</td>\n",
       "      <td>0.900000</td>\n",
       "      <td>0.666667</td>\n",
       "      <td>0.00</td>\n",
       "      <td>0.666667</td>\n",
       "      <td>0.666667</td>\n",
       "      <td>0.229730</td>\n",
       "      <td>0.432836</td>\n",
       "      <td>0.251956</td>\n",
       "    </tr>\n",
       "    <tr>\n",
       "      <th>6994514</th>\n",
       "      <td>0.636364</td>\n",
       "      <td>0.285714</td>\n",
       "      <td>1.0</td>\n",
       "      <td>0.692308</td>\n",
       "      <td>0.921357</td>\n",
       "      <td>0.951220</td>\n",
       "      <td>1.0</td>\n",
       "      <td>0.827778</td>\n",
       "      <td>0.827778</td>\n",
       "      <td>0.5</td>\n",
       "      <td>0.994909</td>\n",
       "      <td>0.002954</td>\n",
       "      <td>0.0</td>\n",
       "      <td>0.733333</td>\n",
       "      <td>0.066667</td>\n",
       "      <td>0.00</td>\n",
       "      <td>0.000000</td>\n",
       "      <td>0.000000</td>\n",
       "      <td>0.054054</td>\n",
       "      <td>0.044776</td>\n",
       "      <td>0.049791</td>\n",
       "    </tr>\n",
       "  </tbody>\n",
       "</table>\n",
       "<p>8443938 rows × 21 columns</p>\n",
       "</div>"
      ],
      "text/plain": [
       "              city        bd  gender  registered_via  registration_init_time  \\\n",
       "9516294   0.590909  0.342857     1.0        0.692308                0.158286   \n",
       "1584328   0.045455  0.385714     0.0        0.538462                0.695942   \n",
       "5281487   0.590909  0.385714     0.5        0.692308                0.543794   \n",
       "15777914  0.363636  0.371429     0.5        0.538462                0.697504   \n",
       "10878112  0.045455  0.385714     0.0        0.538462                0.852113   \n",
       "...            ...       ...     ...             ...                     ...   \n",
       "16086030  0.045455  0.385714     0.0        0.692308                0.772155   \n",
       "1035822   0.045455  0.385714     0.0        1.000000                0.998377   \n",
       "13381453  0.045455  0.385714     0.0        0.538462                0.852213   \n",
       "4679300   1.000000  0.371429     0.5        0.230769                0.616153   \n",
       "6994514   0.636364  0.285714     1.0        0.692308                0.921357   \n",
       "\n",
       "          payment_method_id  payment_plan_days  plan_list_price  \\\n",
       "9516294            0.829268                1.0         0.827778   \n",
       "1584328            1.000000                1.0         0.550000   \n",
       "5281487            0.804878                1.0         0.827778   \n",
       "15777914           1.000000                1.0         0.716667   \n",
       "10878112           1.000000                1.0         0.827778   \n",
       "...                     ...                ...              ...   \n",
       "16086030           0.926829                1.0         0.827778   \n",
       "1035822            0.731707                1.0         0.827778   \n",
       "13381453           1.000000                1.0         0.550000   \n",
       "4679300            0.951220                1.0         0.827778   \n",
       "6994514            0.951220                1.0         0.827778   \n",
       "\n",
       "          actual_amount_paid  is_auto_renew  transaction_date  \\\n",
       "9516294             0.827778            0.5          1.000000   \n",
       "1584328             0.550000            0.5          0.999654   \n",
       "5281487             0.827778            0.5          1.000000   \n",
       "15777914            0.716667            0.5          0.999011   \n",
       "10878112            0.827778            0.5          0.998665   \n",
       "...                      ...            ...               ...   \n",
       "16086030            0.827778            0.0          0.999753   \n",
       "1035822             0.827778            0.5          0.999011   \n",
       "13381453            0.550000            0.5          0.999357   \n",
       "4679300             0.827778            0.5          1.000000   \n",
       "6994514             0.827778            0.5          0.994909   \n",
       "\n",
       "          membership_expire_date  is_cancel      date    num_25  num_50  \\\n",
       "9516294                 0.003350        0.0  0.266667  0.133333    0.75   \n",
       "1584328                 0.003251        0.0  0.466667  0.200000    0.50   \n",
       "5281487                 0.003350        0.0  0.000000  0.133333    0.00   \n",
       "15777914                0.003037        0.0  0.200000  0.000000    0.00   \n",
       "10878112                0.002921        0.0  0.900000  0.266667    0.25   \n",
       "...                          ...        ...       ...       ...     ...   \n",
       "16086030                0.003268        0.0  0.200000  0.200000    0.75   \n",
       "1035822                 0.001386        0.5  0.366667  0.133333    0.75   \n",
       "13381453                0.003152        0.0  0.400000  0.466667    0.25   \n",
       "4679300                 0.004803        0.0  0.900000  0.666667    0.00   \n",
       "6994514                 0.002954        0.0  0.733333  0.066667    0.00   \n",
       "\n",
       "            num_75   num_985   num_100   num_unq  total_secs  \n",
       "9516294   0.000000  0.000000  0.918919  0.223881    0.863850  \n",
       "1584328   0.333333  0.000000  0.189189  0.223881    0.202400  \n",
       "5281487   0.000000  0.000000  0.081081  0.089552    0.083464  \n",
       "15777914  0.000000  0.000000  0.040541  0.029851    0.045175  \n",
       "10878112  0.000000  0.000000  0.445946  0.477612    0.381325  \n",
       "...            ...       ...       ...       ...         ...  \n",
       "16086030  0.666667  1.000000  0.297297  0.164179    0.324674  \n",
       "1035822   0.666667  0.333333  0.229730  0.432836    0.245175  \n",
       "13381453  0.333333  0.000000  0.094595  0.208955    0.100104  \n",
       "4679300   0.666667  0.666667  0.229730  0.432836    0.251956  \n",
       "6994514   0.000000  0.000000  0.054054  0.044776    0.049791  \n",
       "\n",
       "[8443938 rows x 21 columns]"
      ]
     },
     "execution_count": 21,
     "metadata": {},
     "output_type": "execute_result"
    }
   ],
   "source": [
    "# getting labels for X\n",
    "data = wsdm_dataset.drop(['msno', 'is_churn'], axis=1, inplace=False)\n",
    "data"
   ]
  },
  {
   "cell_type": "code",
   "execution_count": 22,
   "metadata": {},
   "outputs": [
    {
     "name": "stdout",
     "output_type": "stream",
     "text": [
      "(5910756, 21) (5910756,)\n",
      "(2533182, 21) (2533182,)\n"
     ]
    }
   ],
   "source": [
    "# train test split\n",
    "X_train, X_test, y_train, y_test = train_test_split(data, labels, test_size=0.3, random_state=42)\n",
    "\n",
    "print(X_train.shape, y_train.shape)\n",
    "print(X_test.shape, y_test.shape)"
   ]
  },
  {
   "cell_type": "code",
   "execution_count": 23,
   "metadata": {
    "scrolled": false
   },
   "outputs": [
    {
     "data": {
      "text/plain": [
       "array([[0.04545455, 0.38571429, 0.        , ..., 0.54054054, 0.91044776,\n",
       "        0.59467917],\n",
       "       [0.04545455, 0.38571429, 0.        , ..., 0.35135135, 0.32835821,\n",
       "        0.36932704],\n",
       "       [0.63636364, 0.38571429, 1.        , ..., 0.01351351, 0.        ,\n",
       "        0.01054768],\n",
       "       ...,\n",
       "       [0.04545455, 0.38571429, 0.        , ..., 0.2027027 , 0.26865672,\n",
       "        0.18622844],\n",
       "       [0.18181818, 0.37142857, 0.5       , ..., 0.5       , 0.6119403 ,\n",
       "        0.54094938],\n",
       "       [0.18181818, 0.37142857, 0.5       , ..., 0.01351351, 0.01492537,\n",
       "        0.02097021]])"
      ]
     },
     "execution_count": 23,
     "metadata": {},
     "output_type": "execute_result"
    }
   ],
   "source": [
    "# converting X_train to numpy array\n",
    "wsdm_arr = X_train.values\n",
    "wsdm_arr"
   ]
  },
  {
   "cell_type": "code",
   "execution_count": 39,
   "metadata": {},
   "outputs": [
    {
     "data": {
      "text/plain": [
       "(5910756, 21)"
      ]
     },
     "execution_count": 39,
     "metadata": {},
     "output_type": "execute_result"
    }
   ],
   "source": [
    "# checking shape of train array\n",
    "wsdm_arr.shape"
   ]
  },
  {
   "cell_type": "code",
   "execution_count": 25,
   "metadata": {},
   "outputs": [],
   "source": [
    "# saving it for further use\n",
    "np.savez_compressed(r\"D:\\Work_Masterarbeit\\wsdm\\preprocessed_3\\actual_train.npz\", wsdm_arr)"
   ]
  },
  {
   "cell_type": "code",
   "execution_count": 26,
   "metadata": {},
   "outputs": [
    {
     "data": {
      "text/plain": [
       "array([0, 0, 0, ..., 0, 0, 0], dtype=int64)"
      ]
     },
     "execution_count": 26,
     "metadata": {},
     "output_type": "execute_result"
    }
   ],
   "source": [
    "# displaying y_train\n",
    "wsdm_labels_arr = y_train\n",
    "wsdm_labels_arr"
   ]
  },
  {
   "cell_type": "code",
   "execution_count": 27,
   "metadata": {},
   "outputs": [
    {
     "data": {
      "text/plain": [
       "(5910756,)"
      ]
     },
     "execution_count": 27,
     "metadata": {},
     "output_type": "execute_result"
    }
   ],
   "source": [
    "# checking shape of train labels\n",
    "wsdm_labels_arr.shape"
   ]
  },
  {
   "cell_type": "code",
   "execution_count": 28,
   "metadata": {},
   "outputs": [],
   "source": [
    "# saving it for further use\n",
    "np.savez_compressed(r\"D:\\Work_Masterarbeit\\wsdm\\preprocessed_3\\actual_wsdm_labels.npz\", wsdm_labels_arr)"
   ]
  },
  {
   "cell_type": "code",
   "execution_count": 29,
   "metadata": {
    "scrolled": true
   },
   "outputs": [
    {
     "data": {
      "text/plain": [
       "array([[0.68181818, 0.38571429, 0.        , ..., 0.08108108, 0.07462687,\n",
       "        0.08085546],\n",
       "       [0.04545455, 0.38571429, 0.        , ..., 0.02702703, 0.02985075,\n",
       "        0.02176312],\n",
       "       [0.04545455, 0.38571429, 0.        , ..., 0.52702703, 0.59701493,\n",
       "        0.53625454],\n",
       "       ...,\n",
       "       [0.04545455, 0.38571429, 0.        , ..., 0.12162162, 0.11940299,\n",
       "        0.12592588],\n",
       "       [0.04545455, 0.38571429, 0.        , ..., 0.47297297, 0.6119403 ,\n",
       "        0.48951484],\n",
       "       [0.04545455, 0.38571429, 0.        , ..., 0.17567568, 0.1641791 ,\n",
       "        0.17235259]])"
      ]
     },
     "execution_count": 29,
     "metadata": {},
     "output_type": "execute_result"
    }
   ],
   "source": [
    "# converting X_test to numpy array\n",
    "X_arr = X_test.values\n",
    "X_arr"
   ]
  },
  {
   "cell_type": "code",
   "execution_count": 30,
   "metadata": {
    "scrolled": true
   },
   "outputs": [
    {
     "data": {
      "text/plain": [
       "(2533182, 21)"
      ]
     },
     "execution_count": 30,
     "metadata": {},
     "output_type": "execute_result"
    }
   ],
   "source": [
    "# checking shape of test array\n",
    "X_arr.shape"
   ]
  },
  {
   "cell_type": "code",
   "execution_count": 31,
   "metadata": {},
   "outputs": [],
   "source": [
    "# saving it for further use\n",
    "np.savez_compressed(r\"D:\\Work_Masterarbeit\\wsdm\\preprocessed_3\\actual_cv.npz\", X_arr)"
   ]
  },
  {
   "cell_type": "code",
   "execution_count": 32,
   "metadata": {},
   "outputs": [
    {
     "data": {
      "text/plain": [
       "array([1, 0, 0, ..., 1, 0, 0], dtype=int64)"
      ]
     },
     "execution_count": 32,
     "metadata": {},
     "output_type": "execute_result"
    }
   ],
   "source": [
    "# displaying y_test\n",
    "X_labels_arr = y_test\n",
    "X_labels_arr"
   ]
  },
  {
   "cell_type": "code",
   "execution_count": 33,
   "metadata": {},
   "outputs": [
    {
     "data": {
      "text/plain": [
       "(2533182,)"
      ]
     },
     "execution_count": 33,
     "metadata": {},
     "output_type": "execute_result"
    }
   ],
   "source": [
    "# checking shape of test labels array\n",
    "X_labels_arr.shape"
   ]
  },
  {
   "cell_type": "code",
   "execution_count": 34,
   "metadata": {},
   "outputs": [],
   "source": [
    "# saving it for further use\n",
    "np.savez_compressed(r\"D:\\Work_Masterarbeit\\wsdm\\preprocessed_3\\actual_cv_labels.npz\", X_labels_arr)"
   ]
  },
  {
   "cell_type": "markdown",
   "metadata": {},
   "source": [
    "<h1> 5. Modelling"
   ]
  },
  {
   "cell_type": "code",
   "execution_count": 41,
   "metadata": {},
   "outputs": [],
   "source": [
    "# loading library\n",
    "import warnings\n",
    "warnings.filterwarnings(\"ignore\")\n",
    "\n",
    "import numpy as np\n",
    "import pandas as pd\n",
    "import joblib\n",
    "import matplotlib.pyplot as plt\n",
    "import seaborn as sns\n",
    "\n",
    "from sklearn.model_selection import RandomizedSearchCV\n",
    "from sklearn.model_selection import GridSearchCV\n",
    "\n",
    "from sklearn.metrics import log_loss\n",
    "\n",
    "from sklearn.linear_model import LogisticRegression\n",
    "from sklearn.tree import DecisionTreeClassifier\n",
    "from sklearn.ensemble import RandomForestClassifier\n",
    "import xgboost as xgb"
   ]
  },
  {
   "cell_type": "code",
   "execution_count": 42,
   "metadata": {
    "scrolled": true
   },
   "outputs": [],
   "source": [
    "X_train = np.load(r\"D:\\Work_Masterarbeit\\wsdm\\preprocessed_3\\actual_train.npz\")\n",
    "y_train = np.load(r\"D:\\Work_Masterarbeit\\wsdm\\preprocessed_3\\actual_wsdm_labels.npz\")\n",
    "X_test = np.load(r\"D:\\Work_Masterarbeit\\wsdm\\preprocessed_3\\actual_cv.npz\")\n",
    "y_test = np.load(r\"D:\\Work_Masterarbeit\\wsdm\\preprocessed_3\\actual_cv_labels.npz\")"
   ]
  },
  {
   "cell_type": "code",
   "execution_count": 43,
   "metadata": {
    "scrolled": false
   },
   "outputs": [
    {
     "name": "stdout",
     "output_type": "stream",
     "text": [
      "(5910756, 21) (5910756,)\n",
      "(2533182, 21) (2533182,)\n"
     ]
    }
   ],
   "source": [
    "X_train = X_train['arr_0']\n",
    "X_test = X_test['arr_0']\n",
    "y_train = y_train['arr_0']\n",
    "y_test = y_test['arr_0']\n",
    "\n",
    "# getting shapes\n",
    "print(X_train.shape, y_train.shape)\n",
    "print(X_test.shape, y_test.shape)"
   ]
  },
  {
   "cell_type": "code",
   "execution_count": 44,
   "metadata": {},
   "outputs": [],
   "source": [
    "# loading columns\n",
    "cols = np.load(r\"D:\\Work_Masterarbeit\\wsdm\\preprocessed_3\\columns.npz\")\n",
    "# converting numpy array to python list\n",
    "cols = cols['arr_0'].tolist()\n",
    "# removing first two cols 'msno' and 'is_churn'\n",
    "cols = cols[2:]"
   ]
  },
  {
   "cell_type": "markdown",
   "metadata": {},
   "source": [
    "<h3> Logistic Regression"
   ]
  },
  {
   "cell_type": "code",
   "execution_count": 68,
   "metadata": {},
   "outputs": [
    {
     "name": "stdout",
     "output_type": "stream",
     "text": [
      "Wall time: 2min 14s\n"
     ]
    },
    {
     "data": {
      "text/plain": [
       "LogisticRegression(C=10, class_weight='balanced', n_jobs=-1, solver='newton-cg')"
      ]
     },
     "execution_count": 68,
     "metadata": {},
     "output_type": "execute_result"
    }
   ],
   "source": [
    "%%time\n",
    "\n",
    "# fitting logistic regression model with best parameter values\n",
    "lr_model = LogisticRegression(penalty='l2', tol=0.0001, C=10, solver='newton-cg', class_weight='balanced', n_jobs=-1)\n",
    "lr_model.fit(X_train, y_train)"
   ]
  },
  {
   "cell_type": "code",
   "execution_count": 69,
   "metadata": {
    "scrolled": true
   },
   "outputs": [
    {
     "data": {
      "text/plain": [
       "['D:\\\\Work_Masterarbeit\\\\wsdm\\\\preprocessed_3\\\\finalized_model_lr.sav']"
      ]
     },
     "execution_count": 69,
     "metadata": {},
     "output_type": "execute_result"
    }
   ],
   "source": [
    "# Reference: https://machinelearningmastery.com/save-load-machine-learning-models-python-scikit-learn/#:~:text=Saving%20Your%20Model-,Save%20Your%20Model%20with%20pickle,it%20to%20make%20new%20predictions.\n",
    "# saving the trained logistic regression ML model\n",
    "filename = r\"D:\\Work_Masterarbeit\\wsdm\\preprocessed_3\\finalized_model_lr.sav\"\n",
    "joblib.dump(lr_model, filename)"
   ]
  },
  {
   "cell_type": "code",
   "execution_count": 70,
   "metadata": {},
   "outputs": [],
   "source": [
    "# loading the best model from disk\n",
    "filename = r\"D:\\Work_Masterarbeit\\wsdm\\preprocessed_3\\finalized_model_lr.sav\"\n",
    "loaded_model = joblib.load(filename)"
   ]
  },
  {
   "cell_type": "markdown",
   "metadata": {},
   "source": [
    "<h3> Model Evaluation"
   ]
  },
  {
   "cell_type": "code",
   "execution_count": 71,
   "metadata": {
    "scrolled": true
   },
   "outputs": [
    {
     "name": "stdout",
     "output_type": "stream",
     "text": [
      "Accuracy: 0.8273207373177293\n",
      "F1 score weighted: 0.8509097408248447\n",
      "F1 score macro: 0.6691593882381189\n",
      "Recall: 0.8273207373177293\n",
      "Precision: 0.8918860491383352\n",
      "\n",
      " clasification report:\n",
      "               precision    recall  f1-score   support\n",
      "\n",
      "           0       0.96      0.85      0.90   2272948\n",
      "           1       0.33      0.66      0.44    260234\n",
      "\n",
      "    accuracy                           0.83   2533182\n",
      "   macro avg       0.64      0.75      0.67   2533182\n",
      "weighted avg       0.89      0.83      0.85   2533182\n",
      "\n",
      "\n",
      " confussion matrix:\n",
      " [[1923621  349327]\n",
      " [  88101  172133]]\n"
     ]
    }
   ],
   "source": [
    "from sklearn.metrics import classification_report,confusion_matrix\n",
    "from sklearn.metrics import f1_score\n",
    "from sklearn.metrics import recall_score\n",
    "from sklearn.metrics import precision_score\n",
    "from sklearn.metrics import accuracy_score\n",
    "\n",
    "lr_predict=lr_model.predict(X_test)\n",
    "lr_predict\n",
    "\n",
    "\n",
    "print('Accuracy:', accuracy_score(y_test, lr_predict))\n",
    "print('F1 score weighted:', f1_score(y_test, lr_predict,average='weighted'))\n",
    "print('F1 score macro:', f1_score(y_test, lr_predict, average='macro'))\n",
    "print('Recall:', recall_score(y_test, lr_predict,average='weighted'))\n",
    "print('Precision:', precision_score(y_test, lr_predict,average='weighted'))\n",
    "print('\\n clasification report:\\n', classification_report(y_test, lr_predict))\n",
    "print('\\n confussion matrix:\\n',confusion_matrix(y_test, lr_predict))"
   ]
  },
  {
   "cell_type": "code",
   "execution_count": 72,
   "metadata": {},
   "outputs": [
    {
     "name": "stdout",
     "output_type": "stream",
     "text": [
      "Test log-loss:  0.49378311939416736\n"
     ]
    }
   ],
   "source": [
    "## Logloss\n",
    "# predicting probabilities for X_cv\n",
    "pred_test = loaded_model.predict_proba(X_test)\n",
    "# getting probabilities corresponding to class label 1 only\n",
    "pred_test = pred_test[:,1]\n",
    "# calculating log loss\n",
    "print('Test log-loss: ', log_loss(y_test, pred_test))"
   ]
  },
  {
   "cell_type": "markdown",
   "metadata": {},
   "source": [
    "<h2> Decision Tree"
   ]
  },
  {
   "cell_type": "code",
   "execution_count": 73,
   "metadata": {},
   "outputs": [
    {
     "name": "stdout",
     "output_type": "stream",
     "text": [
      "Wall time: 34.8 s\n"
     ]
    },
    {
     "data": {
      "text/plain": [
       "DecisionTreeClassifier(max_depth=5, min_samples_split=3)"
      ]
     },
     "execution_count": 73,
     "metadata": {},
     "output_type": "execute_result"
    }
   ],
   "source": [
    "%%time\n",
    "\n",
    "# training a decision tree classifier model with best parameters\n",
    "dtc_model = DecisionTreeClassifier(criterion='gini', splitter='best', max_depth=5, min_samples_split=3, min_samples_leaf=1)\n",
    "dtc_model.fit(X_train, y_train)"
   ]
  },
  {
   "cell_type": "code",
   "execution_count": 74,
   "metadata": {},
   "outputs": [
    {
     "data": {
      "text/plain": [
       "['D:\\\\Work_Masterarbeit\\\\wsdm\\\\preprocessed_3\\\\finalized_model_dtc.sav']"
      ]
     },
     "execution_count": 74,
     "metadata": {},
     "output_type": "execute_result"
    }
   ],
   "source": [
    "# https://machinelearningmastery.com/save-load-machine-learning-models-python-scikit-learn/#:~:text=Saving%20Your%20Model-,Save%20Your%20Model%20with%20pickle,it%20to%20make%20new%20predictions.\n",
    "# saving the decision tree classifier model\n",
    "filename = r\"D:\\Work_Masterarbeit\\wsdm\\preprocessed_3\\finalized_model_dtc.sav\"\n",
    "joblib.dump(dtc_model, filename)"
   ]
  },
  {
   "cell_type": "code",
   "execution_count": 75,
   "metadata": {},
   "outputs": [],
   "source": [
    "# loading the best decision tree classifier model from disk\n",
    "filename = r\"D:\\Work_Masterarbeit\\wsdm\\preprocessed_3\\finalized_model_dtc.sav\"\n",
    "loaded_model = joblib.load(filename)"
   ]
  },
  {
   "cell_type": "markdown",
   "metadata": {},
   "source": [
    "<h3>Model Evaluation"
   ]
  },
  {
   "cell_type": "code",
   "execution_count": 76,
   "metadata": {
    "scrolled": false
   },
   "outputs": [
    {
     "name": "stdout",
     "output_type": "stream",
     "text": [
      "Accuracy: 0.9551725853097014\n",
      "F1 score weighted: 0.9533674046400298\n",
      "F1 score macro: 0.8687300489193444\n",
      "Recall: 0.9551725853097014\n",
      "Precision: 0.9529912079877343\n",
      "\n",
      " clasification report:\n",
      "               precision    recall  f1-score   support\n",
      "\n",
      "           0       0.97      0.98      0.98   2272948\n",
      "           1       0.84      0.70      0.76    260234\n",
      "\n",
      "    accuracy                           0.96   2533182\n",
      "   macro avg       0.90      0.84      0.87   2533182\n",
      "weighted avg       0.95      0.96      0.95   2533182\n",
      "\n",
      "\n",
      " confussion matrix:\n",
      " [[2237634   35314]\n",
      " [  78242  181992]]\n"
     ]
    }
   ],
   "source": [
    "from sklearn.metrics import classification_report,confusion_matrix\n",
    "from sklearn.metrics import f1_score\n",
    "from sklearn.metrics import recall_score\n",
    "from sklearn.metrics import precision_score\n",
    "from sklearn.metrics import accuracy_score\n",
    "\n",
    "dtc_modelpred=dtc_model.predict(X_test)\n",
    "dtc_modelpred\n",
    "\n",
    "\n",
    "print('Accuracy:', accuracy_score(y_test, dtc_modelpred))\n",
    "print('F1 score weighted:', f1_score(y_test, dtc_modelpred,average='weighted'))\n",
    "print('F1 score macro:', f1_score(y_test, dtc_modelpred, average='macro'))\n",
    "print('Recall:', recall_score(y_test, dtc_modelpred,average='weighted'))\n",
    "print('Precision:', precision_score(y_test, dtc_modelpred,average='weighted'))\n",
    "print('\\n clasification report:\\n', classification_report(y_test, dtc_modelpred))\n",
    "print('\\n confussion matrix:\\n',confusion_matrix(y_test, dtc_modelpred))"
   ]
  },
  {
   "cell_type": "code",
   "execution_count": 77,
   "metadata": {
    "scrolled": false
   },
   "outputs": [
    {
     "name": "stdout",
     "output_type": "stream",
     "text": [
      "Test log-loss:  0.14579857183696102\n"
     ]
    }
   ],
   "source": [
    "## Logloss\n",
    "# predicting probabilities for X_cv\n",
    "pred_test = loaded_model.predict_proba(X_test)\n",
    "# getting probabilities corresponding to class label 1 only\n",
    "pred_test = pred_test[:,1]\n",
    "# calculating log loss\n",
    "print('Test log-loss: ', log_loss(y_test, pred_test))"
   ]
  },
  {
   "cell_type": "markdown",
   "metadata": {},
   "source": [
    "## Random Forest"
   ]
  },
  {
   "cell_type": "code",
   "execution_count": 78,
   "metadata": {},
   "outputs": [
    {
     "name": "stdout",
     "output_type": "stream",
     "text": [
      "Wall time: 26min 31s\n"
     ]
    },
    {
     "data": {
      "text/plain": [
       "RandomForestClassifier(bootstrap=False, max_depth=15, max_features='sqrt',\n",
       "                       min_samples_leaf=2, min_samples_split=3,\n",
       "                       n_estimators=500, n_jobs=-1)"
      ]
     },
     "execution_count": 78,
     "metadata": {},
     "output_type": "execute_result"
    }
   ],
   "source": [
    "%%time\n",
    "\n",
    "# training the random forest classifier for best hyper parameters\n",
    "rf_model = RandomForestClassifier(n_estimators=500, criterion='gini', max_depth=15, min_samples_split=3, min_samples_leaf=2, max_features='sqrt', bootstrap=False, n_jobs=-1)\n",
    "rf_model.fit(X_train, y_train)"
   ]
  },
  {
   "cell_type": "code",
   "execution_count": 79,
   "metadata": {},
   "outputs": [
    {
     "data": {
      "text/plain": [
       "['D:\\\\Work_Masterarbeit\\\\wsdm\\\\preprocessed_3\\\\finalized_model_rf.sav']"
      ]
     },
     "execution_count": 79,
     "metadata": {},
     "output_type": "execute_result"
    }
   ],
   "source": [
    "# https://machinelearningmastery.com/save-load-machine-learning-models-python-scikit-learn/#:~:text=Saving%20Your%20Model-,Save%20Your%20Model%20with%20pickle,it%20to%20make%20new%20predictions.\n",
    "# saving the decision tree classifier model\n",
    "filename = r\"D:\\Work_Masterarbeit\\wsdm\\preprocessed_3\\finalized_model_rf.sav\"\n",
    "joblib.dump(rf_model, filename)"
   ]
  },
  {
   "cell_type": "code",
   "execution_count": 80,
   "metadata": {},
   "outputs": [],
   "source": [
    "# loading the best model from disk\n",
    "filename = r\"D:\\Work_Masterarbeit\\wsdm\\preprocessed_3\\finalized_model_rf.sav\"\n",
    "loaded_model = joblib.load(filename)"
   ]
  },
  {
   "cell_type": "markdown",
   "metadata": {},
   "source": [
    "<h3>Model Evaluation"
   ]
  },
  {
   "cell_type": "code",
   "execution_count": 81,
   "metadata": {},
   "outputs": [
    {
     "name": "stdout",
     "output_type": "stream",
     "text": [
      "Accuracy: 0.9650487015934899\n",
      "F1 score weighted: 0.9636635850282442\n",
      "F1 score macro: 0.8977695814709494\n",
      "Recall: 0.9650487015934899\n",
      "Precision: 0.9637491432419677\n",
      "\n",
      " clasification report:\n",
      "               precision    recall  f1-score   support\n",
      "\n",
      "           0       0.97      0.99      0.98   2272948\n",
      "           1       0.89      0.75      0.81    260234\n",
      "\n",
      "    accuracy                           0.97   2533182\n",
      "   macro avg       0.93      0.87      0.90   2533182\n",
      "weighted avg       0.96      0.97      0.96   2533182\n",
      "\n",
      "\n",
      " confussion matrix:\n",
      " [[2249833   23115]\n",
      " [  65423  194811]]\n"
     ]
    }
   ],
   "source": [
    "from sklearn.metrics import classification_report,confusion_matrix\n",
    "from sklearn.metrics import f1_score\n",
    "from sklearn.metrics import recall_score\n",
    "from sklearn.metrics import precision_score\n",
    "from sklearn.metrics import accuracy_score\n",
    "\n",
    "rf_modelpred=rf_model.predict(X_test)\n",
    "rf_modelpred\n",
    "\n",
    "\n",
    "print('Accuracy:', accuracy_score(y_test, rf_modelpred))\n",
    "print('F1 score weighted:', f1_score(y_test, rf_modelpred,average='weighted'))\n",
    "print('F1 score macro:', f1_score(y_test, rf_modelpred, average='macro'))\n",
    "print('Recall:', recall_score(y_test, rf_modelpred,average='weighted'))\n",
    "print('Precision:', precision_score(y_test, rf_modelpred,average='weighted'))\n",
    "print('\\n clasification report:\\n', classification_report(y_test, rf_modelpred))\n",
    "print('\\n confussion matrix:\\n',confusion_matrix(y_test, rf_modelpred))"
   ]
  },
  {
   "cell_type": "code",
   "execution_count": 82,
   "metadata": {},
   "outputs": [
    {
     "name": "stdout",
     "output_type": "stream",
     "text": [
      "Test log-loss:  0.10445284741332707\n"
     ]
    }
   ],
   "source": [
    "## Logloss\n",
    "# predicting probabilities for X_cv\n",
    "pred_test = loaded_model.predict_proba(X_test)\n",
    "# getting probabilities corresponding to class label 1 only\n",
    "pred_test = pred_test[:,1]\n",
    "# calculating log loss\n",
    "print('Test log-loss: ', log_loss(y_test, pred_test))"
   ]
  },
  {
   "cell_type": "code",
   "execution_count": null,
   "metadata": {},
   "outputs": [],
   "source": []
  },
  {
   "cell_type": "code",
   "execution_count": null,
   "metadata": {},
   "outputs": [],
   "source": []
  },
  {
   "cell_type": "code",
   "execution_count": null,
   "metadata": {},
   "outputs": [],
   "source": []
  }
 ],
 "metadata": {
  "colab": {
   "authorship_tag": "ABX9TyOlBJ/DHS1tE19RvmuJAd/k",
   "collapsed_sections": [],
   "name": "BASELINE_WSDM.ipynb",
   "provenance": []
  },
  "kernelspec": {
   "display_name": "Python 3 (ipykernel)",
   "language": "python",
   "name": "python3"
  },
  "language_info": {
   "codemirror_mode": {
    "name": "ipython",
    "version": 3
   },
   "file_extension": ".py",
   "mimetype": "text/x-python",
   "name": "python",
   "nbconvert_exporter": "python",
   "pygments_lexer": "ipython3",
   "version": "3.9.12"
  }
 },
 "nbformat": 4,
 "nbformat_minor": 1
}
