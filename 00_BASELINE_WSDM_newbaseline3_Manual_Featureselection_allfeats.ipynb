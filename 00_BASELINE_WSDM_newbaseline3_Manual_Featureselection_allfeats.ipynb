{
 "cells": [
  {
   "cell_type": "code",
   "execution_count": 509,
   "metadata": {
    "executionInfo": {
     "elapsed": 232,
     "status": "ok",
     "timestamp": 1643537698691,
     "user": {
      "displayName": "Markus",
      "photoUrl": "https://lh3.googleusercontent.com/a/default-user=s64",
      "userId": "08156928817414143810"
     },
     "user_tz": -60
    },
    "id": "59Atc0GfduwM"
   },
   "outputs": [],
   "source": [
    "from multiprocessing import Pool, cpu_count\n",
    "import gc; gc.enable()\n",
    "import xgboost as xgb\n",
    "import pandas as pd\n",
    "import numpy as np\n",
    "from sklearn import *\n",
    "from datetime import datetime\n",
    "import sklearn\n",
    "from sklearn.model_selection import cross_val_score, GridSearchCV\n",
    "from sklearn.linear_model import LogisticRegression\n",
    "from sklearn.tree import DecisionTreeClassifier\n",
    "from sklearn.ensemble import RandomForestClassifier\n",
    "from sklearn.model_selection import train_test_split\n",
    "from sklearn.metrics import classification_report,confusion_matrix\n",
    "from sklearn.model_selection import RandomizedSearchCV\n",
    "from sklearn.linear_model import LogisticRegression"
   ]
  },
  {
   "cell_type": "markdown",
   "metadata": {},
   "source": [
    "<h2>...Feature Engineering"
   ]
  },
  {
   "cell_type": "code",
   "execution_count": null,
   "metadata": {},
   "outputs": [],
   "source": []
  },
  {
   "cell_type": "markdown",
   "metadata": {},
   "source": [
    "## Vorbereitung zum Modellinput"
   ]
  },
  {
   "cell_type": "markdown",
   "metadata": {},
   "source": [
    "<h3>Der Adaptive Domain Labeling Ansatz setzt ab hier auf. Dateien werden als train.csv und test.csv in SQLite importiert und manipuliert und anschließend in folgenden Dateien bereitgestellt"
   ]
  },
  {
   "cell_type": "code",
   "execution_count": 116,
   "metadata": {
    "scrolled": true
   },
   "outputs": [],
   "source": [
    "# Einlesen der Feature Engineerten Daten\n",
    "\n",
    "## Fertige Feature export Datei #1 einlesen\n",
    "wsdm_dataset = pd.read_csv(r\"D:\\Work_Masterarbeit\\wsdm\\preprocessed_4\\export_wsdm.csv\")\n",
    "\n",
    "## Labels einlesen\n",
    "wsdm_dataset_labels = pd.read_csv(r\"D:\\Work_Masterarbeit\\wsdm\\train_v2.csv\")"
   ]
  },
  {
   "cell_type": "code",
   "execution_count": 117,
   "metadata": {},
   "outputs": [],
   "source": [
    "# Merge die Features der Trainigsdaten\n",
    "wsdm_dataset = pd.merge(wsdm_dataset, wsdm_dataset_labels, on='msno', how='inner')"
   ]
  },
  {
   "cell_type": "code",
   "execution_count": 118,
   "metadata": {
    "scrolled": true
   },
   "outputs": [],
   "source": [
    "#Spalten an Anfang verschieben train\n",
    "first_column = wsdm_dataset.pop('msno')\n",
    "second_column = wsdm_dataset.pop('is_churn')\n",
    "wsdm_dataset.insert(0, 'msno', first_column)\n",
    "wsdm_dataset.insert(1, 'is_churn', second_column)"
   ]
  },
  {
   "cell_type": "code",
   "execution_count": 119,
   "metadata": {},
   "outputs": [],
   "source": [
    "# reference: https://medium.com/@vincentteyssier/optimizing-the-size-of-a-pandas-dataframe-for-low-memory-environment-5f07db3d72e\n",
    "# reference: https://numpy.org/doc/stable/reference/generated/numpy.iinfo.html\n",
    "# reference: https://numpy.org/doc/stable/reference/generated/numpy.finfo.html\n",
    "\n",
    "def datatype_changer(dataset):\n",
    "    # iterating through all the columns in the dataframe\n",
    "    for col in dataset.columns:\n",
    "        # getting column's datatype\n",
    "        col_type = dataset[col].dtype\n",
    "        \n",
    "        # checking if datatype of column is 'object' or not\n",
    "        # if column type is not object\n",
    "        if (col_type == int) or (col_type == float):\n",
    "            # getting minimum value of a column\n",
    "            min_val = dataset[col].min()\n",
    "            # getting maximum value of a column\n",
    "            max_val = dataset[col].max()\n",
    "            # checking whether the datatype contain first 3 characters as int or not, if int\n",
    "            if str(col_type)[:3] == 'int':\n",
    "                # cheking the minimal and maximal value for int8, int16, int32 and int64 in numpy\n",
    "                if min_val > np.iinfo(np.int8).min and max_val < np.iinfo(np.int8).max:\n",
    "                    dataset[col] = dataset[col].astype(np.int8)\n",
    "                elif min_val > np.iinfo(np.int16).min and max_val < np.iinfo(np.int16).max:\n",
    "                    dataset[col] = dataset[col].astype(np.int16)\n",
    "                elif min_val > np.iinfo(np.int32).min and max_val < np.iinfo(np.int32).max:\n",
    "                    dataset[col] = dataset[col].astype(np.int32)\n",
    "                else:\n",
    "                    dataset[col] = dataset[col].astype(np.int64)\n",
    "            else:\n",
    "                # if it is non int, which is ultimately float\n",
    "                # cheking the minimal and maximal value for float16, float32 and float64 in numpy\n",
    "                if min_val > np.finfo(np.float16).min and max_val < np.finfo(np.float16).max:\n",
    "                    dataset[col] = dataset[col].astype(np.float16)\n",
    "                elif min_val > np.finfo(np.float32).min and max_val < np.finfo(np.float32).max:\n",
    "                    dataset[col] = dataset[col].astype(np.float32)\n",
    "                else:\n",
    "                    dataset[col] = dataset[col].astype(np.float64)\n",
    "        else:\n",
    "            # keeping rest of them to category datatype instead of object\n",
    "            dataset[col] = dataset[col].astype('category')\n",
    "            \n",
    "    # returning head of the dataframe\n",
    "    return dataset"
   ]
  },
  {
   "cell_type": "code",
   "execution_count": 120,
   "metadata": {},
   "outputs": [],
   "source": [
    "#Doppelte Features entfernen\n",
    "# wsdm_dataset = wsdm_dataset.loc[:,~wsdm_dataset.T.duplicated(keep='first')]"
   ]
  },
  {
   "cell_type": "code",
   "execution_count": 121,
   "metadata": {},
   "outputs": [],
   "source": [
    "#Spalten mit Nullvalues entfernen\n",
    "wsdm_dataset = wsdm_dataset.drop(['DiffMAXdateMAXdate','msno.1'], axis=1, inplace=False)"
   ]
  },
  {
   "cell_type": "code",
   "execution_count": 122,
   "metadata": {},
   "outputs": [],
   "source": [
    "## Datentypen korrigieren\n",
    "wsdm_dataset = datatype_changer(wsdm_dataset)"
   ]
  },
  {
   "cell_type": "code",
   "execution_count": 123,
   "metadata": {
    "scrolled": true
   },
   "outputs": [],
   "source": [
    "# saving wsdm file\n",
    "wsdm_dataset.to_csv(r\"D:\\Work_Masterarbeit\\wsdm\\preprocessed_4\\wsdm_FA_adaptive_dl.csv\", index=False)"
   ]
  },
  {
   "cell_type": "markdown",
   "metadata": {},
   "source": [
    "<h1>3. Prepare Data for Modelling"
   ]
  },
  {
   "cell_type": "code",
   "execution_count": 124,
   "metadata": {
    "scrolled": false
   },
   "outputs": [],
   "source": [
    "# loading wsdm dataset\n",
    "wsdm_dataset = pd.read_csv(r\"D:\\Work_Masterarbeit\\wsdm\\preprocessed_4\\wsdm_FA_adaptive_dl.csv\")"
   ]
  },
  {
   "cell_type": "code",
   "execution_count": 125,
   "metadata": {
    "scrolled": true
   },
   "outputs": [],
   "source": [
    "# getting columns and converting them to list\n",
    "cols = wsdm_dataset.columns.tolist()\n",
    "# saving them for further use\n",
    "np.savez_compressed(r\"D:\\Work_Masterarbeit\\wsdm\\preprocessed_4\\columns.npz\", cols)"
   ]
  },
  {
   "cell_type": "code",
   "execution_count": 126,
   "metadata": {},
   "outputs": [],
   "source": [
    "# saving actual train dataset\n",
    "wsdm_dataset.to_csv(r\"D:\\Work_Masterarbeit\\wsdm\\preprocessed_4\\actual_train.csv\", index=False)"
   ]
  },
  {
   "cell_type": "markdown",
   "metadata": {},
   "source": [
    "<h2> 3.2 Train Test Split"
   ]
  },
  {
   "cell_type": "code",
   "execution_count": 11,
   "metadata": {
    "scrolled": false
   },
   "outputs": [],
   "source": [
    "# loading actual wsdm data\n",
    "wsdm_data = pd.read_csv(r\"D:\\Work_Masterarbeit\\wsdm\\preprocessed_4\\actual_train.csv\")"
   ]
  },
  {
   "cell_type": "code",
   "execution_count": 14,
   "metadata": {
    "scrolled": true
   },
   "outputs": [
    {
     "data": {
      "text/plain": [
       "False"
      ]
     },
     "execution_count": 14,
     "metadata": {},
     "output_type": "execute_result"
    }
   ],
   "source": [
    "# checking for null values\n",
    "wsdm_data.isnull().values.any()"
   ]
  },
  {
   "cell_type": "code",
   "execution_count": 15,
   "metadata": {},
   "outputs": [],
   "source": [
    "# replacing all nan and infinity to 0\n",
    "wsdm_data = wsdm_data.replace(np.nan, 0, inplace=False)\n",
    "wsdm_data = wsdm_data.replace(np.inf, 0, inplace=False)"
   ]
  },
  {
   "cell_type": "code",
   "execution_count": 16,
   "metadata": {},
   "outputs": [],
   "source": [
    "## Sample 50% of Data due to memory restrictions\n",
    "wsdm_data = wsdm_data.sample(frac=.5)"
   ]
  },
  {
   "cell_type": "code",
   "execution_count": 17,
   "metadata": {},
   "outputs": [],
   "source": [
    "# https://stackoverflow.com/a/29651514\n",
    "def normalize(df):\n",
    "    result1 = df.copy()\n",
    "    for feature_name in df.columns:\n",
    "        if (str(feature_name) != str('msno') and str(feature_name)!=str('is_churn')):\n",
    "            max_value = df[feature_name].max()\n",
    "            min_value = df[feature_name].min()\n",
    "            result1[feature_name] = (df[feature_name] - min_value) / (max_value - min_value)\n",
    "    return result1\n",
    "\n",
    "wsdm_dataset = normalize(wsdm_data)"
   ]
  },
  {
   "cell_type": "code",
   "execution_count": 22,
   "metadata": {},
   "outputs": [],
   "source": [
    "## Spalten mit Null Values entfernen\n",
    "wsdm_dataset = wsdm_dataset.drop(['DiffMAXtransaction_dateMAXtransaction_date','DiffMAXmembership_expire_dateMAXmembership_expire_date','DiffMINdateMINdate','DiffMINtransaction_dateMINtransaction_date','DiffMINmembership_expire_dateMINmembership_expire_date'], axis=1, inplace=False)"
   ]
  },
  {
   "cell_type": "code",
   "execution_count": 26,
   "metadata": {},
   "outputs": [
    {
     "data": {
      "text/plain": [
       "array([0, 0, 0, ..., 0, 1, 0], dtype=int64)"
      ]
     },
     "execution_count": 26,
     "metadata": {},
     "output_type": "execute_result"
    }
   ],
   "source": [
    "# getting labels for y\n",
    "labels = wsdm_dataset['is_churn'].values\n",
    "labels"
   ]
  },
  {
   "cell_type": "code",
   "execution_count": 27,
   "metadata": {
    "scrolled": true
   },
   "outputs": [
    {
     "data": {
      "text/html": [
       "<div>\n",
       "<style scoped>\n",
       "    .dataframe tbody tr th:only-of-type {\n",
       "        vertical-align: middle;\n",
       "    }\n",
       "\n",
       "    .dataframe tbody tr th {\n",
       "        vertical-align: top;\n",
       "    }\n",
       "\n",
       "    .dataframe thead th {\n",
       "        text-align: right;\n",
       "    }\n",
       "</style>\n",
       "<table border=\"1\" class=\"dataframe\">\n",
       "  <thead>\n",
       "    <tr style=\"text-align: right;\">\n",
       "      <th></th>\n",
       "      <th>AVGregistered_via</th>\n",
       "      <th>AVGpayment_plan_days</th>\n",
       "      <th>AVGgender</th>\n",
       "      <th>AVGcity</th>\n",
       "      <th>AVGbd</th>\n",
       "      <th>AVGpayment_method_id</th>\n",
       "      <th>AVGis_auto_renew</th>\n",
       "      <th>AVGplan_list_price</th>\n",
       "      <th>AVGactual_amount_paid</th>\n",
       "      <th>AVGnum_unq</th>\n",
       "      <th>...</th>\n",
       "      <th>MAXcitystock</th>\n",
       "      <th>MAXbdstock</th>\n",
       "      <th>MAXpayment_method_idstock</th>\n",
       "      <th>MAXis_auto_renewstock</th>\n",
       "      <th>MAXplan_list_pricestock</th>\n",
       "      <th>MAXactual_amount_paidstock</th>\n",
       "      <th>MAXnum_unqstock</th>\n",
       "      <th>MAXnum_25stock</th>\n",
       "      <th>MAXnum_100stock</th>\n",
       "      <th>MAXtotal_secsstock</th>\n",
       "    </tr>\n",
       "  </thead>\n",
       "  <tbody>\n",
       "    <tr>\n",
       "      <th>633810</th>\n",
       "      <td>0.538462</td>\n",
       "      <td>1.0</td>\n",
       "      <td>0.0</td>\n",
       "      <td>0.045455</td>\n",
       "      <td>0.385714</td>\n",
       "      <td>1.000000</td>\n",
       "      <td>0.5</td>\n",
       "      <td>0.550000</td>\n",
       "      <td>0.550000</td>\n",
       "      <td>0.338358</td>\n",
       "      <td>...</td>\n",
       "      <td>0.045455</td>\n",
       "      <td>0.385714</td>\n",
       "      <td>1.000000</td>\n",
       "      <td>0.5</td>\n",
       "      <td>0.550000</td>\n",
       "      <td>0.550000</td>\n",
       "      <td>0.761194</td>\n",
       "      <td>0.266667</td>\n",
       "      <td>0.756757</td>\n",
       "      <td>0.729786</td>\n",
       "    </tr>\n",
       "    <tr>\n",
       "      <th>580746</th>\n",
       "      <td>0.000000</td>\n",
       "      <td>1.0</td>\n",
       "      <td>0.0</td>\n",
       "      <td>0.000000</td>\n",
       "      <td>0.385714</td>\n",
       "      <td>1.000000</td>\n",
       "      <td>0.5</td>\n",
       "      <td>0.550000</td>\n",
       "      <td>0.550000</td>\n",
       "      <td>0.223881</td>\n",
       "      <td>...</td>\n",
       "      <td>0.000000</td>\n",
       "      <td>0.385714</td>\n",
       "      <td>1.000000</td>\n",
       "      <td>0.5</td>\n",
       "      <td>0.550000</td>\n",
       "      <td>0.550000</td>\n",
       "      <td>0.223881</td>\n",
       "      <td>0.133333</td>\n",
       "      <td>0.189189</td>\n",
       "      <td>0.202398</td>\n",
       "    </tr>\n",
       "    <tr>\n",
       "      <th>57286</th>\n",
       "      <td>0.538462</td>\n",
       "      <td>1.0</td>\n",
       "      <td>0.0</td>\n",
       "      <td>0.045455</td>\n",
       "      <td>0.385714</td>\n",
       "      <td>1.000000</td>\n",
       "      <td>0.5</td>\n",
       "      <td>0.550000</td>\n",
       "      <td>0.550000</td>\n",
       "      <td>0.125373</td>\n",
       "      <td>...</td>\n",
       "      <td>0.045455</td>\n",
       "      <td>0.385714</td>\n",
       "      <td>1.000000</td>\n",
       "      <td>0.5</td>\n",
       "      <td>0.550000</td>\n",
       "      <td>0.550000</td>\n",
       "      <td>0.223881</td>\n",
       "      <td>0.466667</td>\n",
       "      <td>0.148649</td>\n",
       "      <td>0.194260</td>\n",
       "    </tr>\n",
       "    <tr>\n",
       "      <th>216879</th>\n",
       "      <td>0.538462</td>\n",
       "      <td>1.0</td>\n",
       "      <td>0.0</td>\n",
       "      <td>0.045455</td>\n",
       "      <td>0.385714</td>\n",
       "      <td>1.000000</td>\n",
       "      <td>0.5</td>\n",
       "      <td>0.827778</td>\n",
       "      <td>0.827778</td>\n",
       "      <td>0.223881</td>\n",
       "      <td>...</td>\n",
       "      <td>0.045455</td>\n",
       "      <td>0.385714</td>\n",
       "      <td>1.000000</td>\n",
       "      <td>0.5</td>\n",
       "      <td>0.827778</td>\n",
       "      <td>0.827778</td>\n",
       "      <td>0.223881</td>\n",
       "      <td>0.133333</td>\n",
       "      <td>0.189189</td>\n",
       "      <td>0.202398</td>\n",
       "    </tr>\n",
       "    <tr>\n",
       "      <th>934769</th>\n",
       "      <td>0.692308</td>\n",
       "      <td>1.0</td>\n",
       "      <td>0.5</td>\n",
       "      <td>1.000000</td>\n",
       "      <td>0.385714</td>\n",
       "      <td>0.975610</td>\n",
       "      <td>0.5</td>\n",
       "      <td>0.827778</td>\n",
       "      <td>0.827778</td>\n",
       "      <td>0.345373</td>\n",
       "      <td>...</td>\n",
       "      <td>1.000000</td>\n",
       "      <td>0.385714</td>\n",
       "      <td>0.975610</td>\n",
       "      <td>0.5</td>\n",
       "      <td>0.827778</td>\n",
       "      <td>0.827778</td>\n",
       "      <td>0.910448</td>\n",
       "      <td>0.933333</td>\n",
       "      <td>0.527027</td>\n",
       "      <td>0.533124</td>\n",
       "    </tr>\n",
       "    <tr>\n",
       "      <th>...</th>\n",
       "      <td>...</td>\n",
       "      <td>...</td>\n",
       "      <td>...</td>\n",
       "      <td>...</td>\n",
       "      <td>...</td>\n",
       "      <td>...</td>\n",
       "      <td>...</td>\n",
       "      <td>...</td>\n",
       "      <td>...</td>\n",
       "      <td>...</td>\n",
       "      <td>...</td>\n",
       "      <td>...</td>\n",
       "      <td>...</td>\n",
       "      <td>...</td>\n",
       "      <td>...</td>\n",
       "      <td>...</td>\n",
       "      <td>...</td>\n",
       "      <td>...</td>\n",
       "      <td>...</td>\n",
       "      <td>...</td>\n",
       "      <td>...</td>\n",
       "    </tr>\n",
       "    <tr>\n",
       "      <th>423797</th>\n",
       "      <td>0.692308</td>\n",
       "      <td>1.0</td>\n",
       "      <td>0.5</td>\n",
       "      <td>0.227273</td>\n",
       "      <td>0.428571</td>\n",
       "      <td>0.804878</td>\n",
       "      <td>0.5</td>\n",
       "      <td>0.827778</td>\n",
       "      <td>0.827778</td>\n",
       "      <td>0.135373</td>\n",
       "      <td>...</td>\n",
       "      <td>0.227273</td>\n",
       "      <td>0.428571</td>\n",
       "      <td>0.804878</td>\n",
       "      <td>0.5</td>\n",
       "      <td>0.827778</td>\n",
       "      <td>0.827778</td>\n",
       "      <td>0.477612</td>\n",
       "      <td>0.600000</td>\n",
       "      <td>0.364865</td>\n",
       "      <td>0.365987</td>\n",
       "    </tr>\n",
       "    <tr>\n",
       "      <th>745578</th>\n",
       "      <td>0.230769</td>\n",
       "      <td>1.0</td>\n",
       "      <td>1.0</td>\n",
       "      <td>0.590909</td>\n",
       "      <td>0.528571</td>\n",
       "      <td>0.951220</td>\n",
       "      <td>0.5</td>\n",
       "      <td>0.827778</td>\n",
       "      <td>0.827778</td>\n",
       "      <td>0.425373</td>\n",
       "      <td>...</td>\n",
       "      <td>0.590909</td>\n",
       "      <td>0.528571</td>\n",
       "      <td>0.951220</td>\n",
       "      <td>0.5</td>\n",
       "      <td>0.827778</td>\n",
       "      <td>0.827778</td>\n",
       "      <td>0.731343</td>\n",
       "      <td>0.466667</td>\n",
       "      <td>0.743243</td>\n",
       "      <td>0.710693</td>\n",
       "    </tr>\n",
       "    <tr>\n",
       "      <th>40990</th>\n",
       "      <td>0.692308</td>\n",
       "      <td>1.0</td>\n",
       "      <td>1.0</td>\n",
       "      <td>0.818182</td>\n",
       "      <td>0.328571</td>\n",
       "      <td>0.926829</td>\n",
       "      <td>0.0</td>\n",
       "      <td>0.827778</td>\n",
       "      <td>0.827778</td>\n",
       "      <td>0.233881</td>\n",
       "      <td>...</td>\n",
       "      <td>0.818182</td>\n",
       "      <td>0.328571</td>\n",
       "      <td>0.926829</td>\n",
       "      <td>0.0</td>\n",
       "      <td>0.827778</td>\n",
       "      <td>0.827778</td>\n",
       "      <td>0.597015</td>\n",
       "      <td>0.600000</td>\n",
       "      <td>0.635135</td>\n",
       "      <td>0.642670</td>\n",
       "    </tr>\n",
       "    <tr>\n",
       "      <th>47436</th>\n",
       "      <td>0.230769</td>\n",
       "      <td>1.0</td>\n",
       "      <td>1.0</td>\n",
       "      <td>0.590909</td>\n",
       "      <td>0.271429</td>\n",
       "      <td>0.000000</td>\n",
       "      <td>1.0</td>\n",
       "      <td>0.827778</td>\n",
       "      <td>0.827778</td>\n",
       "      <td>0.604478</td>\n",
       "      <td>...</td>\n",
       "      <td>0.590909</td>\n",
       "      <td>0.271429</td>\n",
       "      <td>0.000000</td>\n",
       "      <td>1.0</td>\n",
       "      <td>0.827778</td>\n",
       "      <td>0.827778</td>\n",
       "      <td>0.761194</td>\n",
       "      <td>0.800000</td>\n",
       "      <td>0.540541</td>\n",
       "      <td>0.543765</td>\n",
       "    </tr>\n",
       "    <tr>\n",
       "      <th>368910</th>\n",
       "      <td>0.538462</td>\n",
       "      <td>1.0</td>\n",
       "      <td>0.0</td>\n",
       "      <td>0.045455</td>\n",
       "      <td>0.385714</td>\n",
       "      <td>1.000000</td>\n",
       "      <td>0.5</td>\n",
       "      <td>0.555556</td>\n",
       "      <td>0.555556</td>\n",
       "      <td>0.165672</td>\n",
       "      <td>...</td>\n",
       "      <td>0.045455</td>\n",
       "      <td>0.385714</td>\n",
       "      <td>1.000000</td>\n",
       "      <td>0.5</td>\n",
       "      <td>0.555556</td>\n",
       "      <td>0.555556</td>\n",
       "      <td>0.358209</td>\n",
       "      <td>0.133333</td>\n",
       "      <td>0.324324</td>\n",
       "      <td>0.357641</td>\n",
       "    </tr>\n",
       "  </tbody>\n",
       "</table>\n",
       "<p>485480 rows × 134 columns</p>\n",
       "</div>"
      ],
      "text/plain": [
       "        AVGregistered_via  AVGpayment_plan_days  AVGgender   AVGcity  \\\n",
       "633810           0.538462                   1.0        0.0  0.045455   \n",
       "580746           0.000000                   1.0        0.0  0.000000   \n",
       "57286            0.538462                   1.0        0.0  0.045455   \n",
       "216879           0.538462                   1.0        0.0  0.045455   \n",
       "934769           0.692308                   1.0        0.5  1.000000   \n",
       "...                   ...                   ...        ...       ...   \n",
       "423797           0.692308                   1.0        0.5  0.227273   \n",
       "745578           0.230769                   1.0        1.0  0.590909   \n",
       "40990            0.692308                   1.0        1.0  0.818182   \n",
       "47436            0.230769                   1.0        1.0  0.590909   \n",
       "368910           0.538462                   1.0        0.0  0.045455   \n",
       "\n",
       "           AVGbd  AVGpayment_method_id  AVGis_auto_renew  AVGplan_list_price  \\\n",
       "633810  0.385714              1.000000               0.5            0.550000   \n",
       "580746  0.385714              1.000000               0.5            0.550000   \n",
       "57286   0.385714              1.000000               0.5            0.550000   \n",
       "216879  0.385714              1.000000               0.5            0.827778   \n",
       "934769  0.385714              0.975610               0.5            0.827778   \n",
       "...          ...                   ...               ...                 ...   \n",
       "423797  0.428571              0.804878               0.5            0.827778   \n",
       "745578  0.528571              0.951220               0.5            0.827778   \n",
       "40990   0.328571              0.926829               0.0            0.827778   \n",
       "47436   0.271429              0.000000               1.0            0.827778   \n",
       "368910  0.385714              1.000000               0.5            0.555556   \n",
       "\n",
       "        AVGactual_amount_paid  AVGnum_unq  ...  MAXcitystock  MAXbdstock  \\\n",
       "633810               0.550000    0.338358  ...      0.045455    0.385714   \n",
       "580746               0.550000    0.223881  ...      0.000000    0.385714   \n",
       "57286                0.550000    0.125373  ...      0.045455    0.385714   \n",
       "216879               0.827778    0.223881  ...      0.045455    0.385714   \n",
       "934769               0.827778    0.345373  ...      1.000000    0.385714   \n",
       "...                       ...         ...  ...           ...         ...   \n",
       "423797               0.827778    0.135373  ...      0.227273    0.428571   \n",
       "745578               0.827778    0.425373  ...      0.590909    0.528571   \n",
       "40990                0.827778    0.233881  ...      0.818182    0.328571   \n",
       "47436                0.827778    0.604478  ...      0.590909    0.271429   \n",
       "368910               0.555556    0.165672  ...      0.045455    0.385714   \n",
       "\n",
       "        MAXpayment_method_idstock  MAXis_auto_renewstock  \\\n",
       "633810                   1.000000                    0.5   \n",
       "580746                   1.000000                    0.5   \n",
       "57286                    1.000000                    0.5   \n",
       "216879                   1.000000                    0.5   \n",
       "934769                   0.975610                    0.5   \n",
       "...                           ...                    ...   \n",
       "423797                   0.804878                    0.5   \n",
       "745578                   0.951220                    0.5   \n",
       "40990                    0.926829                    0.0   \n",
       "47436                    0.000000                    1.0   \n",
       "368910                   1.000000                    0.5   \n",
       "\n",
       "        MAXplan_list_pricestock  MAXactual_amount_paidstock  MAXnum_unqstock  \\\n",
       "633810                 0.550000                    0.550000         0.761194   \n",
       "580746                 0.550000                    0.550000         0.223881   \n",
       "57286                  0.550000                    0.550000         0.223881   \n",
       "216879                 0.827778                    0.827778         0.223881   \n",
       "934769                 0.827778                    0.827778         0.910448   \n",
       "...                         ...                         ...              ...   \n",
       "423797                 0.827778                    0.827778         0.477612   \n",
       "745578                 0.827778                    0.827778         0.731343   \n",
       "40990                  0.827778                    0.827778         0.597015   \n",
       "47436                  0.827778                    0.827778         0.761194   \n",
       "368910                 0.555556                    0.555556         0.358209   \n",
       "\n",
       "        MAXnum_25stock  MAXnum_100stock  MAXtotal_secsstock  \n",
       "633810        0.266667         0.756757            0.729786  \n",
       "580746        0.133333         0.189189            0.202398  \n",
       "57286         0.466667         0.148649            0.194260  \n",
       "216879        0.133333         0.189189            0.202398  \n",
       "934769        0.933333         0.527027            0.533124  \n",
       "...                ...              ...                 ...  \n",
       "423797        0.600000         0.364865            0.365987  \n",
       "745578        0.466667         0.743243            0.710693  \n",
       "40990         0.600000         0.635135            0.642670  \n",
       "47436         0.800000         0.540541            0.543765  \n",
       "368910        0.133333         0.324324            0.357641  \n",
       "\n",
       "[485480 rows x 134 columns]"
      ]
     },
     "execution_count": 27,
     "metadata": {},
     "output_type": "execute_result"
    }
   ],
   "source": [
    "# getting labels for X\n",
    "data = wsdm_dataset.drop(['msno', 'is_churn'], axis=1, inplace=False)\n",
    "data"
   ]
  },
  {
   "cell_type": "markdown",
   "metadata": {},
   "source": [
    "<h2> Daten aufteilen in 70% Training und 30% Test"
   ]
  },
  {
   "cell_type": "code",
   "execution_count": 28,
   "metadata": {
    "scrolled": true
   },
   "outputs": [
    {
     "name": "stdout",
     "output_type": "stream",
     "text": [
      "(339836, 134) (339836,)\n",
      "(145644, 134) (145644,)\n"
     ]
    }
   ],
   "source": [
    "# train test split\n",
    "X_train, X_test, y_train, y_test = train_test_split(data, labels, test_size=0.3, random_state=42)\n",
    "\n",
    "print(X_train.shape, y_train.shape)\n",
    "print(X_test.shape, y_test.shape)"
   ]
  },
  {
   "cell_type": "code",
   "execution_count": 29,
   "metadata": {
    "scrolled": true
   },
   "outputs": [
    {
     "data": {
      "text/plain": [
       "array([[0.53846154, 1.        , 0.        , ..., 0.2       , 0.45945946,\n",
       "        0.42096921],\n",
       "       [0.30769231, 1.        , 0.5       , ..., 0.8       , 0.33783784,\n",
       "        0.41992591],\n",
       "       [0.69230769, 1.        , 1.        , ..., 0.8       , 0.82432432,\n",
       "        0.73604542],\n",
       "       ...,\n",
       "       [0.53846154, 1.        , 0.        , ..., 0.2       , 0.04054054,\n",
       "        0.04577291],\n",
       "       [0.53846154, 1.        , 0.        , ..., 0.13333333, 0.2027027 ,\n",
       "        0.20897091],\n",
       "       [0.53846154, 1.        , 0.5       , ..., 0.66666667, 0.87837838,\n",
       "        0.85654643]])"
      ]
     },
     "execution_count": 29,
     "metadata": {},
     "output_type": "execute_result"
    }
   ],
   "source": [
    "# converting X_train to numpy array\n",
    "wsdm_arr = X_train.values\n",
    "wsdm_arr"
   ]
  },
  {
   "cell_type": "code",
   "execution_count": 30,
   "metadata": {},
   "outputs": [
    {
     "data": {
      "text/plain": [
       "(339836, 134)"
      ]
     },
     "execution_count": 30,
     "metadata": {},
     "output_type": "execute_result"
    }
   ],
   "source": [
    "wsdm_arr.shape"
   ]
  },
  {
   "cell_type": "code",
   "execution_count": 31,
   "metadata": {},
   "outputs": [],
   "source": [
    "# saving it for further use\n",
    "np.savez_compressed(r\"D:\\Work_Masterarbeit\\wsdm\\preprocessed_4\\actual_train.npz\", wsdm_arr)"
   ]
  },
  {
   "cell_type": "code",
   "execution_count": 32,
   "metadata": {},
   "outputs": [
    {
     "data": {
      "text/plain": [
       "array([0, 1, 0, ..., 0, 0, 1], dtype=int64)"
      ]
     },
     "execution_count": 32,
     "metadata": {},
     "output_type": "execute_result"
    }
   ],
   "source": [
    "# displaying y_train\n",
    "wsdm_labels_arr = y_train\n",
    "wsdm_labels_arr"
   ]
  },
  {
   "cell_type": "code",
   "execution_count": 33,
   "metadata": {},
   "outputs": [
    {
     "data": {
      "text/plain": [
       "(339836,)"
      ]
     },
     "execution_count": 33,
     "metadata": {},
     "output_type": "execute_result"
    }
   ],
   "source": [
    "wsdm_labels_arr.shape"
   ]
  },
  {
   "cell_type": "code",
   "execution_count": 34,
   "metadata": {},
   "outputs": [],
   "source": [
    "# saving it for further use\n",
    "np.savez_compressed(r\"D:\\Work_Masterarbeit\\wsdm\\preprocessed_4\\actual_wsdm_labels.npz\", wsdm_labels_arr)"
   ]
  },
  {
   "cell_type": "code",
   "execution_count": 35,
   "metadata": {
    "scrolled": true
   },
   "outputs": [
    {
     "data": {
      "text/plain": [
       "array([[0.69230769, 1.        , 1.        , ..., 0.93333333, 0.71621622,\n",
       "        0.72404749],\n",
       "       [0.69230769, 1.        , 0.        , ..., 0.86666667, 0.86486486,\n",
       "        0.97078764],\n",
       "       [0.53846154, 1.        , 0.        , ..., 0.13333333, 0.18918919,\n",
       "        0.20239813],\n",
       "       ...,\n",
       "       [0.53846154, 1.        , 0.        , ..., 0.13333333, 0.60810811,\n",
       "        0.59363515],\n",
       "       [0.53846154, 1.        , 1.        , ..., 0.4       , 0.14864865,\n",
       "        0.13573134],\n",
       "       [0.69230769, 1.        , 1.        , ..., 0.73333333, 0.56756757,\n",
       "        0.55795433]])"
      ]
     },
     "execution_count": 35,
     "metadata": {},
     "output_type": "execute_result"
    }
   ],
   "source": [
    "# converting X_test to numpy array\n",
    "X_arr = X_test.values\n",
    "X_arr"
   ]
  },
  {
   "cell_type": "code",
   "execution_count": 36,
   "metadata": {},
   "outputs": [
    {
     "data": {
      "text/plain": [
       "(145644, 134)"
      ]
     },
     "execution_count": 36,
     "metadata": {},
     "output_type": "execute_result"
    }
   ],
   "source": [
    "# checking shape of test array\n",
    "X_arr.shape"
   ]
  },
  {
   "cell_type": "code",
   "execution_count": 37,
   "metadata": {},
   "outputs": [],
   "source": [
    "# saving it for further use\n",
    "np.savez_compressed(r\"D:\\Work_Masterarbeit\\wsdm\\preprocessed_4\\actual_test.npz\", X_arr)"
   ]
  },
  {
   "cell_type": "code",
   "execution_count": 38,
   "metadata": {},
   "outputs": [
    {
     "data": {
      "text/plain": [
       "array([0, 0, 0, ..., 0, 0, 0], dtype=int64)"
      ]
     },
     "execution_count": 38,
     "metadata": {},
     "output_type": "execute_result"
    }
   ],
   "source": [
    "# displaying y_test\n",
    "X_labels_arr = y_test\n",
    "X_labels_arr"
   ]
  },
  {
   "cell_type": "code",
   "execution_count": 39,
   "metadata": {
    "scrolled": false
   },
   "outputs": [
    {
     "data": {
      "text/plain": [
       "(145644,)"
      ]
     },
     "execution_count": 39,
     "metadata": {},
     "output_type": "execute_result"
    }
   ],
   "source": [
    "# checking shape of test labels array\n",
    "X_labels_arr.shape"
   ]
  },
  {
   "cell_type": "code",
   "execution_count": 40,
   "metadata": {},
   "outputs": [],
   "source": [
    "# saving it for further use\n",
    "np.savez_compressed(r\"D:\\Work_Masterarbeit\\wsdm\\preprocessed_4\\actual_test_labels.npz\", X_labels_arr)"
   ]
  },
  {
   "cell_type": "markdown",
   "metadata": {},
   "source": [
    "<h1> 5. Modelling"
   ]
  },
  {
   "cell_type": "code",
   "execution_count": 22,
   "metadata": {},
   "outputs": [],
   "source": [
    "# loading library\n",
    "import warnings\n",
    "warnings.filterwarnings(\"ignore\")\n",
    "\n",
    "import numpy as np\n",
    "import pandas as pd\n",
    "import joblib\n",
    "import matplotlib.pyplot as plt\n",
    "import seaborn as sns\n",
    "#from prettytable import PrettyTable\n",
    "\n",
    "from sklearn.model_selection import RandomizedSearchCV\n",
    "from sklearn.model_selection import GridSearchCV\n",
    "\n",
    "from sklearn.metrics import log_loss\n",
    "\n",
    "from sklearn.linear_model import LogisticRegression\n",
    "from sklearn.tree import DecisionTreeClassifier\n",
    "from sklearn.ensemble import RandomForestClassifier\n",
    "#import lightgbm as lgb\n",
    "import xgboost as xgb\n",
    "from sklearn import metrics\n",
    "#import catboost as cb\n"
   ]
  },
  {
   "cell_type": "code",
   "execution_count": 23,
   "metadata": {},
   "outputs": [],
   "source": [
    "X_train = np.load(r\"D:\\Work_Masterarbeit\\wsdm\\preprocessed_4\\actual_train.npz\")\n",
    "y_train = np.load(r\"D:\\Work_Masterarbeit\\wsdm\\preprocessed_4\\actual_wsdm_labels.npz\")\n",
    "X_test = np.load(r\"D:\\Work_Masterarbeit\\wsdm\\preprocessed_4\\actual_test.npz\")\n",
    "y_test = np.load(r\"D:\\Work_Masterarbeit\\wsdm\\preprocessed_4\\actual_test_labels.npz\")"
   ]
  },
  {
   "cell_type": "code",
   "execution_count": 24,
   "metadata": {
    "scrolled": false
   },
   "outputs": [
    {
     "name": "stdout",
     "output_type": "stream",
     "text": [
      "(679672, 134) (679672,)\n",
      "(291288, 134) (291288,)\n"
     ]
    }
   ],
   "source": [
    "X_train = X_train['arr_0']\n",
    "X_test = X_test['arr_0']\n",
    "y_train = y_train['arr_0']\n",
    "y_test = y_test['arr_0']\n",
    "\n",
    "# getting shapes\n",
    "print(X_train.shape, y_train.shape)\n",
    "print(X_test.shape, y_test.shape)"
   ]
  },
  {
   "cell_type": "code",
   "execution_count": 25,
   "metadata": {},
   "outputs": [],
   "source": [
    "# loading columns\n",
    "cols = np.load(r\"D:\\Work_Masterarbeit\\wsdm\\preprocessed_4\\columns.npz\")\n",
    "# converting numpy array to python list\n",
    "cols = cols['arr_0'].tolist()\n",
    "# removing first two cols 'msno' and 'is_churn'\n",
    "cols.remove('msno')\n",
    "cols.remove('is_churn')"
   ]
  },
  {
   "cell_type": "markdown",
   "metadata": {},
   "source": [
    "<h1> Logistic Regression"
   ]
  },
  {
   "cell_type": "code",
   "execution_count": null,
   "metadata": {},
   "outputs": [],
   "source": [
    "%%time\n",
    "\n",
    "# fitting logistic regression model with best parameter values\n",
    "lr_model = LogisticRegression(penalty='l2', tol=0.001, C=10, solver='newton-cg', class_weight='balanced', n_jobs=-1)\n",
    "lr_model.fit(X_train, y_train)"
   ]
  },
  {
   "cell_type": "code",
   "execution_count": 7,
   "metadata": {},
   "outputs": [
    {
     "data": {
      "text/plain": [
       "['D:\\\\Work_Masterarbeit\\\\wsdm\\\\preprocessed_4\\\\finalized_model_lr.sav']"
      ]
     },
     "execution_count": 7,
     "metadata": {},
     "output_type": "execute_result"
    }
   ],
   "source": [
    "# Reference: https://machinelearningmastery.com/save-load-machine-learning-models-python-scikit-learn/#:~:text=Saving%20Your%20Model-,Save%20Your%20Model%20with%20pickle,it%20to%20make%20new%20predictions.\n",
    "# saving the trained logistic regression ML model\n",
    "filename = r\"D:\\Work_Masterarbeit\\wsdm\\preprocessed_4\\finalized_model_lr.sav\"\n",
    "joblib.dump(lr_model, filename)"
   ]
  },
  {
   "cell_type": "code",
   "execution_count": 8,
   "metadata": {},
   "outputs": [],
   "source": [
    "# loading the best model from disk\n",
    "filename = r\"D:\\Work_Masterarbeit\\wsdm\\preprocessed_4\\finalized_model_lr.sav\"\n",
    "loaded_model = joblib.load(filename)"
   ]
  },
  {
   "cell_type": "code",
   "execution_count": 9,
   "metadata": {},
   "outputs": [
    {
     "name": "stdout",
     "output_type": "stream",
     "text": [
      "Test log-loss:  0.38628029454606805\n"
     ]
    }
   ],
   "source": [
    "## Logloss\n",
    "# predicting probabilities for X_cv\n",
    "pred_test = loaded_model.predict_proba(X_test)\n",
    "# getting probabilities corresponding to class label 1 only\n",
    "pred_test = pred_test[:,1]\n",
    "# calculating log loss\n",
    "print('Test log-loss: ', log_loss(y_test, pred_test))"
   ]
  },
  {
   "cell_type": "markdown",
   "metadata": {},
   "source": [
    "<h3>Model Evaluation"
   ]
  },
  {
   "cell_type": "code",
   "execution_count": 10,
   "metadata": {
    "scrolled": true
   },
   "outputs": [
    {
     "name": "stdout",
     "output_type": "stream",
     "text": [
      "Accuracy: 0.8706503529153278\n",
      "F1 score weighted: 0.8881011628878378\n",
      "F1 score macro: 0.7209141783253386\n",
      "Recall: 0.8706503529153278\n",
      "Precision: 0.9203116988346374\n",
      "\n",
      " clasification report:\n",
      "               precision    recall  f1-score   support\n",
      "\n",
      "           0       0.97      0.88      0.93    132379\n",
      "           1       0.39      0.76      0.52     13265\n",
      "\n",
      "    accuracy                           0.87    145644\n",
      "   macro avg       0.68      0.82      0.72    145644\n",
      "weighted avg       0.92      0.87      0.89    145644\n",
      "\n",
      "\n",
      " confussion matrix:\n",
      " [[116743  15636]\n",
      " [  3203  10062]]\n"
     ]
    }
   ],
   "source": [
    "from sklearn.metrics import classification_report,confusion_matrix\n",
    "from sklearn.metrics import f1_score\n",
    "from sklearn.metrics import recall_score\n",
    "from sklearn.metrics import precision_score\n",
    "from sklearn.metrics import accuracy_score\n",
    "\n",
    "lr_predict=lr_model.predict(X_test)\n",
    "lr_predict\n",
    "\n",
    "\n",
    "print('Accuracy:', accuracy_score(y_test, lr_predict))\n",
    "print('F1 score weighted:', f1_score(y_test, lr_predict,average='weighted'))\n",
    "print('F1 score macro:', f1_score(y_test, lr_predict, average='macro'))\n",
    "print('Recall:', recall_score(y_test, lr_predict,average='weighted'))\n",
    "print('Precision:', precision_score(y_test, lr_predict,average='weighted'))\n",
    "print('\\n clasification report:\\n', classification_report(y_test, lr_predict))\n",
    "print('\\n confussion matrix:\\n',confusion_matrix(y_test, lr_predict))"
   ]
  },
  {
   "cell_type": "markdown",
   "metadata": {},
   "source": [
    "<h2> Decision Tree"
   ]
  },
  {
   "cell_type": "code",
   "execution_count": 17,
   "metadata": {
    "scrolled": true
   },
   "outputs": [
    {
     "name": "stdout",
     "output_type": "stream",
     "text": [
      "Wall time: 42 s\n"
     ]
    },
    {
     "data": {
      "text/plain": [
       "DecisionTreeClassifier(max_depth=15)"
      ]
     },
     "execution_count": 17,
     "metadata": {},
     "output_type": "execute_result"
    }
   ],
   "source": [
    "%%time\n",
    "\n",
    "# training a decision tree classifier model with best parameters\n",
    "dtc_model = DecisionTreeClassifier(criterion='gini', splitter='best', max_depth=15, min_samples_split=2, min_samples_leaf=1)\n",
    "dtc_model.fit(X_train, y_train)"
   ]
  },
  {
   "cell_type": "code",
   "execution_count": null,
   "metadata": {},
   "outputs": [],
   "source": [
    "#Alternative Getunte Hyperparemeter"
   ]
  },
  {
   "cell_type": "code",
   "execution_count": 26,
   "metadata": {},
   "outputs": [
    {
     "name": "stdout",
     "output_type": "stream",
     "text": [
      "Wall time: 14.3 s\n"
     ]
    },
    {
     "data": {
      "text/plain": [
       "DecisionTreeClassifier(max_depth=5)"
      ]
     },
     "execution_count": 26,
     "metadata": {},
     "output_type": "execute_result"
    }
   ],
   "source": [
    "%%time\n",
    "\n",
    "# training a decision tree classifier model with best parameters\n",
    "dtc_model = DecisionTreeClassifier(criterion='gini', splitter='best', max_depth=5, min_samples_split=2, min_samples_leaf=1)\n",
    "dtc_model.fit(X_train, y_train)"
   ]
  },
  {
   "cell_type": "code",
   "execution_count": 31,
   "metadata": {
    "scrolled": true
   },
   "outputs": [
    {
     "data": {
      "text/plain": [
       "['D:\\\\Work_Masterarbeit\\\\wsdm\\\\preprocessed_4\\\\finalized_model_dtc.sav']"
      ]
     },
     "execution_count": 31,
     "metadata": {},
     "output_type": "execute_result"
    }
   ],
   "source": [
    "# https://machinelearningmastery.com/save-load-machine-learning-models-python-scikit-learn/#:~:text=Saving%20Your%20Model-,Save%20Your%20Model%20with%20pickle,it%20to%20make%20new%20predictions.\n",
    "# saving the decision tree classifier model\n",
    "filename = r\"D:\\Work_Masterarbeit\\wsdm\\preprocessed_4\\finalized_model_dtc.sav\"\n",
    "joblib.dump(dtc_model, filename)"
   ]
  },
  {
   "cell_type": "code",
   "execution_count": 32,
   "metadata": {},
   "outputs": [],
   "source": [
    "# loading the best decision tree classifier model from disk\n",
    "filename = r\"D:\\Work_Masterarbeit\\wsdm\\preprocessed_4\\finalized_model_dtc.sav\"\n",
    "loaded_model = joblib.load(filename)"
   ]
  },
  {
   "cell_type": "code",
   "execution_count": 33,
   "metadata": {},
   "outputs": [
    {
     "name": "stdout",
     "output_type": "stream",
     "text": [
      "Test log-loss:  0.08018315207449239\n"
     ]
    }
   ],
   "source": [
    "## Logloss\n",
    "# predicting probabilities for X_cv\n",
    "pred_test = loaded_model.predict_proba(X_test)\n",
    "# getting probabilities corresponding to class label 1 only\n",
    "pred_test = pred_test[:,1]\n",
    "# calculating log loss\n",
    "print('Test log-loss: ', log_loss(y_test, pred_test))"
   ]
  },
  {
   "cell_type": "markdown",
   "metadata": {},
   "source": [
    "<h3> Model Evaluation"
   ]
  },
  {
   "cell_type": "code",
   "execution_count": 30,
   "metadata": {
    "scrolled": false
   },
   "outputs": [
    {
     "name": "stdout",
     "output_type": "stream",
     "text": [
      "Accuracy: 0.9771772266622724\n",
      "F1 score weighted: 0.9766833474727454\n",
      "F1 score macro: 0.927075050495153\n",
      "Recall: 0.9771772266622724\n",
      "Precision: 0.9765803989322328\n",
      "\n",
      " clasification report:\n",
      "               precision    recall  f1-score   support\n",
      "\n",
      "           0       0.98      0.99      0.99    265175\n",
      "           1       0.91      0.83      0.87     26113\n",
      "\n",
      "    accuracy                           0.98    291288\n",
      "   macro avg       0.95      0.91      0.93    291288\n",
      "weighted avg       0.98      0.98      0.98    291288\n",
      "\n",
      "\n",
      " confussion matrix:\n",
      " [[263041   2134]\n",
      " [  4514  21599]]\n"
     ]
    }
   ],
   "source": [
    "from sklearn.metrics import classification_report,confusion_matrix\n",
    "from sklearn.metrics import f1_score\n",
    "from sklearn.metrics import recall_score\n",
    "from sklearn.metrics import precision_score\n",
    "from sklearn.metrics import accuracy_score\n",
    "\n",
    "dtc_modelpred=dtc_model.predict(X_test)\n",
    "dtc_modelpred\n",
    "\n",
    "\n",
    "print('Accuracy:', accuracy_score(y_test, dtc_modelpred))\n",
    "print('F1 score weighted:', f1_score(y_test, dtc_modelpred,average='weighted'))\n",
    "print('F1 score macro:', f1_score(y_test, dtc_modelpred, average='macro'))\n",
    "print('Recall:', recall_score(y_test, dtc_modelpred,average='weighted'))\n",
    "print('Precision:', precision_score(y_test, dtc_modelpred,average='weighted'))\n",
    "print('\\n clasification report:\\n', classification_report(y_test, dtc_modelpred))\n",
    "print('\\n confussion matrix:\\n',confusion_matrix(y_test, dtc_modelpred))"
   ]
  },
  {
   "cell_type": "code",
   "execution_count": null,
   "metadata": {},
   "outputs": [],
   "source": []
  },
  {
   "cell_type": "markdown",
   "metadata": {},
   "source": [
    "<h3>Randomforest"
   ]
  },
  {
   "cell_type": "code",
   "execution_count": 58,
   "metadata": {},
   "outputs": [
    {
     "name": "stdout",
     "output_type": "stream",
     "text": [
      "Wall time: 3min 11s\n"
     ]
    },
    {
     "data": {
      "text/plain": [
       "RandomForestClassifier(max_depth=15, max_features='sqrt', min_samples_leaf=2,\n",
       "                       min_samples_split=5, n_estimators=1000, n_jobs=-1)"
      ]
     },
     "execution_count": 58,
     "metadata": {},
     "output_type": "execute_result"
    }
   ],
   "source": [
    "%%time\n",
    "\n",
    "# training the random forest classifier for best hyper parameters\n",
    "rf_model = RandomForestClassifier(n_estimators=1000, criterion='gini', max_depth=15, min_samples_split=5, min_samples_leaf=2, max_features='sqrt', bootstrap=True, n_jobs=-1)\n",
    "rf_model.fit(X_train, y_train)"
   ]
  },
  {
   "cell_type": "code",
   "execution_count": 163,
   "metadata": {},
   "outputs": [
    {
     "name": "stdout",
     "output_type": "stream",
     "text": [
      "Accuracy: 0.9815749361456703\n",
      "F1 score weighted: 0.9815703214999454\n",
      "F1 score macro: 0.943529409904396\n",
      "Recall: 0.9815749361456703\n",
      "Precision: 0.9815657618957192\n",
      "\n",
      " clasification report:\n",
      "               precision    recall  f1-score   support\n",
      "\n",
      "           0       0.99      0.99      0.99    265175\n",
      "           1       0.90      0.90      0.90     26113\n",
      "\n",
      "    accuracy                           0.98    291288\n",
      "   macro avg       0.94      0.94      0.94    291288\n",
      "weighted avg       0.98      0.98      0.98    291288\n",
      "\n",
      "\n",
      " confussion matrix:\n",
      " [[262506   2669]\n",
      " [  2698  23415]]\n"
     ]
    }
   ],
   "source": [
    "from sklearn.metrics import classification_report,confusion_matrix\n",
    "from sklearn.metrics import f1_score\n",
    "from sklearn.metrics import recall_score\n",
    "from sklearn.metrics import precision_score\n",
    "from sklearn.metrics import accuracy_score\n",
    "\n",
    "rf_modelpred=rf_model.predict(X_test)\n",
    "rf_modelpred\n",
    "\n",
    "\n",
    "print('Accuracy:', accuracy_score(y_test, rf_modelpred))\n",
    "print('F1 score weighted:', f1_score(y_test, rf_modelpred,average='weighted'))\n",
    "print('F1 score macro:', f1_score(y_test, rf_modelpred, average='macro'))\n",
    "print('Recall:', recall_score(y_test, rf_modelpred,average='weighted'))\n",
    "print('Precision:', precision_score(y_test, rf_modelpred,average='weighted'))\n",
    "print('\\n clasification report:\\n', classification_report(y_test, rf_modelpred))\n",
    "print('\\n confussion matrix:\\n',confusion_matrix(y_test, rf_modelpred))"
   ]
  },
  {
   "cell_type": "code",
   "execution_count": 59,
   "metadata": {},
   "outputs": [
    {
     "data": {
      "text/plain": [
       "['D:\\\\Work_Masterarbeit\\\\wsdm\\\\preprocessed_4\\\\finalized_model_rf.sav']"
      ]
     },
     "execution_count": 59,
     "metadata": {},
     "output_type": "execute_result"
    }
   ],
   "source": [
    "# https://machinelearningmastery.com/save-load-machine-learning-models-python-scikit-learn/#:~:text=Saving%20Your%20Model-,Save%20Your%20Model%20with%20pickle,it%20to%20make%20new%20predictions.\n",
    "# saving the decision tree classifier model\n",
    "filename = r\"D:\\Work_Masterarbeit\\wsdm\\preprocessed_4\\finalized_model_rf.sav\"\n",
    "joblib.dump(rf_model, filename)"
   ]
  },
  {
   "cell_type": "code",
   "execution_count": 60,
   "metadata": {},
   "outputs": [],
   "source": [
    "# loading the best decision tree classifier model from disk\n",
    "filename = r\"D:\\Work_Masterarbeit\\wsdm\\preprocessed_4\\finalized_model_rf.sav\"\n",
    "loaded_model = joblib.load(filename)"
   ]
  },
  {
   "cell_type": "code",
   "execution_count": 61,
   "metadata": {},
   "outputs": [
    {
     "name": "stdout",
     "output_type": "stream",
     "text": [
      "train log-loss:  0.033807998045762004\n",
      "cv log-loss:  0.04629969230037218\n"
     ]
    }
   ],
   "source": [
    "## Logloss\n",
    "# predicting probabilities for X_cv\n",
    "pred_test = loaded_model.predict_proba(X_test)\n",
    "# getting probabilities corresponding to class label 1 only\n",
    "pred_test = pred_test[:,1]\n",
    "# calculating log loss\n",
    "print('Test log-loss: ', log_loss(y_test, pred_test))"
   ]
  },
  {
   "cell_type": "code",
   "execution_count": null,
   "metadata": {},
   "outputs": [],
   "source": []
  },
  {
   "cell_type": "markdown",
   "metadata": {},
   "source": [
    "<h3>XGBoost"
   ]
  },
  {
   "cell_type": "code",
   "execution_count": 55,
   "metadata": {},
   "outputs": [],
   "source": [
    "# creating DMatrix for train, cv, and test\n",
    "train = xgb.DMatrix(X_train, label=y_train, feature_names=cols, nthread=-1)\n",
    "test = xgb.DMatrix(X_test, label=y_test, feature_names=cols, nthread=-1)"
   ]
  },
  {
   "cell_type": "code",
   "execution_count": 56,
   "metadata": {},
   "outputs": [],
   "source": [
    "# setting parameters\n",
    "params = {'objective' : 'binary:logistic',\n",
    "          'eval_metric' : 'logloss'}"
   ]
  },
  {
   "cell_type": "code",
   "execution_count": 57,
   "metadata": {
    "scrolled": false
   },
   "outputs": [
    {
     "name": "stdout",
     "output_type": "stream",
     "text": [
      "Wall time: 5.92 s\n"
     ]
    }
   ],
   "source": [
    "%%time\n",
    "\n",
    "# train the xgboost model\n",
    "xgb_model = xgb.train(params, train, 12, verbose_eval=True)"
   ]
  },
  {
   "cell_type": "code",
   "execution_count": 39,
   "metadata": {},
   "outputs": [],
   "source": [
    "# saving model\n",
    "xgb_model.save_model('finalized_model_xgb_train.sav')"
   ]
  },
  {
   "cell_type": "code",
   "execution_count": 40,
   "metadata": {},
   "outputs": [],
   "source": [
    "# loading model\n",
    "xgb_model = xgb.Booster(model_file='finalized_model_xgb_train.sav')"
   ]
  },
  {
   "cell_type": "code",
   "execution_count": 41,
   "metadata": {
    "scrolled": true
   },
   "outputs": [
    {
     "data": {
      "text/plain": [
       "0.057003232714586655"
      ]
     },
     "execution_count": 41,
     "metadata": {},
     "output_type": "execute_result"
    }
   ],
   "source": [
    "# predicting probabilities for train data\n",
    "pred_train = xgb_model.predict(train)\n",
    "# calculating log-loss\n",
    "log_loss(y_train, pred_train)"
   ]
  },
  {
   "cell_type": "code",
   "execution_count": 42,
   "metadata": {},
   "outputs": [
    {
     "data": {
      "text/plain": [
       "0.058018775835654714"
      ]
     },
     "execution_count": 42,
     "metadata": {},
     "output_type": "execute_result"
    }
   ],
   "source": [
    "# predicting probabilities for train data\n",
    "pred_test = xgb_model.predict(test)\n",
    "# calculating log-loss\n",
    "log_loss(y_test, pred_test)"
   ]
  },
  {
   "cell_type": "markdown",
   "metadata": {},
   "source": [
    "## Feature Importance"
   ]
  },
  {
   "cell_type": "code",
   "execution_count": 17,
   "metadata": {},
   "outputs": [
    {
     "data": {
      "text/plain": [
       "Text(0.5, 1.0, 'Feature importance for xgboost model')"
      ]
     },
     "execution_count": 17,
     "metadata": {},
     "output_type": "execute_result"
    },
    {
     "data": {
      "image/png": "[encoded data removed]",
      "text/plain": [
       "<Figure size 432x288 with 1 Axes>"
      ]
     },
     "metadata": {
      "needs_background": "light"
     },
     "output_type": "display_data"
    }
   ],
   "source": [
    "# plotting important features\n",
    "xgb.plot_importance(xgb_model, max_num_features=20, height=1)\n",
    "plt.title('Feature importance for xgboost model')"
   ]
  },
  {
   "cell_type": "markdown",
   "metadata": {},
   "source": [
    "## Model Evaluation"
   ]
  },
  {
   "cell_type": "code",
   "execution_count": 59,
   "metadata": {
    "scrolled": false
   },
   "outputs": [
    {
     "data": {
      "text/plain": [
       "array([0.02627885, 0.9876609 , 0.01698989, ..., 0.01291492, 0.01291492,\n",
       "       0.01291492], dtype=float32)"
      ]
     },
     "execution_count": 59,
     "metadata": {},
     "output_type": "execute_result"
    }
   ],
   "source": [
    "from sklearn.metrics import classification_report,confusion_matrix\n",
    "from sklearn.metrics import f1_score\n",
    "from sklearn.metrics import recall_score\n",
    "from sklearn.metrics import precision_score\n",
    "from sklearn.metrics import accuracy_score\n",
    "\n",
    "xgb_modelpred=xgb_model.predict(test)\n",
    "xgb_modelpred\n",
    "\n"
   ]
  }
 ],
 "metadata": {
  "colab": {
   "authorship_tag": "ABX9TyOlBJ/DHS1tE19RvmuJAd/k",
   "collapsed_sections": [],
   "name": "BASELINE_WSDM.ipynb",
   "provenance": []
  },
  "kernelspec": {
   "display_name": "Python 3 (ipykernel)",
   "language": "python",
   "name": "python3"
  },
  "language_info": {
   "codemirror_mode": {
    "name": "ipython",
    "version": 3
   },
   "file_extension": ".py",
   "mimetype": "text/x-python",
   "name": "python",
   "nbconvert_exporter": "python",
   "pygments_lexer": "ipython3",
   "version": "3.9.7"
  }
 },
 "nbformat": 4,
 "nbformat_minor": 1
}
