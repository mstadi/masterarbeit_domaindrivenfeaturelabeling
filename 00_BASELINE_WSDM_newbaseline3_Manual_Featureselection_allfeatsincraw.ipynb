{
 "cells": [
  {
   "cell_type": "code",
   "execution_count": 1,
   "metadata": {
    "executionInfo": {
     "elapsed": 232,
     "status": "ok",
     "timestamp": 1643537698691,
     "user": {
      "displayName": "Markus",
      "photoUrl": "https://lh3.googleusercontent.com/a/default-user=s64",
      "userId": "08156928817414143810"
     },
     "user_tz": -60
    },
    "id": "59Atc0GfduwM"
   },
   "outputs": [],
   "source": [
    "from multiprocessing import Pool, cpu_count\n",
    "import gc; gc.enable()\n",
    "\n",
    "import pandas as pd\n",
    "import numpy as np\n",
    "from sklearn import *\n",
    "from datetime import datetime\n",
    "import sklearn\n",
    "from sklearn.model_selection import cross_val_score, GridSearchCV\n",
    "from sklearn.linear_model import LogisticRegression\n",
    "from sklearn.tree import DecisionTreeClassifier\n",
    "from sklearn.ensemble import RandomForestClassifier\n",
    "from sklearn.model_selection import train_test_split\n",
    "from sklearn.metrics import classification_report,confusion_matrix\n",
    "from sklearn.model_selection import RandomizedSearchCV\n",
    "from sklearn.linear_model import LogisticRegression"
   ]
  },
  {
   "cell_type": "markdown",
   "metadata": {},
   "source": [
    "<h2>Feature Engineering"
   ]
  },
  {
   "cell_type": "markdown",
   "metadata": {},
   "source": [
    "<h3>Der Adaptive Domain Labeling Ansatz setzt ab hier auf. Dateien werden als train.csv und test.csv in SQLite importiert und manipuliert und anschließend in folgenden Dateien bereitgestellt"
   ]
  },
  {
   "cell_type": "code",
   "execution_count": 4,
   "metadata": {
    "scrolled": true
   },
   "outputs": [],
   "source": [
    "# Einlesen der Feature Engineerten Daten\n",
    "\n",
    "## Fertige Feature export Datei #1 einlesen\n",
    "wsdm_dataset = pd.read_csv(r\"D:\\Work_Masterarbeit\\wsdm\\preprocessed_4\\export_wsdm.csv\")\n",
    "\n",
    "## Labels einlesen\n",
    "wsdm_dataset_labels = pd.read_csv(r\"D:\\Work_Masterarbeit\\wsdm\\train_v2.csv\")"
   ]
  },
  {
   "cell_type": "code",
   "execution_count": 5,
   "metadata": {},
   "outputs": [],
   "source": [
    "# Merge die Features der Trainigsdaten\n",
    "wsdm_dataset = pd.merge(wsdm_dataset, wsdm_dataset_labels, on='msno', how='inner')"
   ]
  },
  {
   "cell_type": "code",
   "execution_count": 6,
   "metadata": {
    "scrolled": true
   },
   "outputs": [],
   "source": [
    "#Spalten an Anfang verschieben train\n",
    "first_column = wsdm_dataset.pop('msno')\n",
    "second_column = wsdm_dataset.pop('is_churn')\n",
    "wsdm_dataset.insert(0, 'msno', first_column)\n",
    "wsdm_dataset.insert(1, 'is_churn', second_column)"
   ]
  },
  {
   "cell_type": "code",
   "execution_count": 2,
   "metadata": {},
   "outputs": [],
   "source": [
    "# reference: https://medium.com/@vincentteyssier/optimizing-the-size-of-a-pandas-dataframe-for-low-memory-environment-5f07db3d72e\n",
    "# reference: https://numpy.org/doc/stable/reference/generated/numpy.iinfo.html\n",
    "# reference: https://numpy.org/doc/stable/reference/generated/numpy.finfo.html\n",
    "\n",
    "def datatype_changer(dataset):\n",
    "    # iterating through all the columns in the dataframe\n",
    "    for col in dataset.columns:\n",
    "        # getting column's datatype\n",
    "        col_type = dataset[col].dtype\n",
    "        \n",
    "        # checking if datatype of column is 'object' or not\n",
    "        # if column type is not object\n",
    "        if (col_type == int) or (col_type == float):\n",
    "            # getting minimum value of a column\n",
    "            min_val = dataset[col].min()\n",
    "            # getting maximum value of a column\n",
    "            max_val = dataset[col].max()\n",
    "            # checking whether the datatype contain first 3 characters as int or not, if int\n",
    "            if str(col_type)[:3] == 'int':\n",
    "                # cheking the minimal and maximal value for int8, int16, int32 and int64 in numpy\n",
    "                if min_val > np.iinfo(np.int8).min and max_val < np.iinfo(np.int8).max:\n",
    "                    dataset[col] = dataset[col].astype(np.int8)\n",
    "                elif min_val > np.iinfo(np.int16).min and max_val < np.iinfo(np.int16).max:\n",
    "                    dataset[col] = dataset[col].astype(np.int16)\n",
    "                elif min_val > np.iinfo(np.int32).min and max_val < np.iinfo(np.int32).max:\n",
    "                    dataset[col] = dataset[col].astype(np.int32)\n",
    "                else:\n",
    "                    dataset[col] = dataset[col].astype(np.int64)\n",
    "            else:\n",
    "                # if it is non int, which is ultimately float\n",
    "                # cheking the minimal and maximal value for float16, float32 and float64 in numpy\n",
    "                if min_val > np.finfo(np.float16).min and max_val < np.finfo(np.float16).max:\n",
    "                    dataset[col] = dataset[col].astype(np.float16)\n",
    "                elif min_val > np.finfo(np.float32).min and max_val < np.finfo(np.float32).max:\n",
    "                    dataset[col] = dataset[col].astype(np.float32)\n",
    "                else:\n",
    "                    dataset[col] = dataset[col].astype(np.float64)\n",
    "        else:\n",
    "            # keeping rest of them to category datatype instead of object\n",
    "            dataset[col] = dataset[col].astype('category')\n",
    "            \n",
    "    # returning head of the dataframe\n",
    "    return dataset"
   ]
  },
  {
   "cell_type": "code",
   "execution_count": 8,
   "metadata": {},
   "outputs": [],
   "source": [
    "#Doppelte Features entfernen\n",
    "# wsdm_dataset = wsdm_dataset.loc[:,~wsdm_dataset.T.duplicated(keep='first')]"
   ]
  },
  {
   "cell_type": "code",
   "execution_count": 9,
   "metadata": {},
   "outputs": [],
   "source": [
    "#Spalten mit Nullvalues entfernen\n",
    "wsdm_dataset = wsdm_dataset.drop(['DiffMAXdateMAXdate'], axis=1, inplace=False)"
   ]
  },
  {
   "cell_type": "code",
   "execution_count": 10,
   "metadata": {},
   "outputs": [],
   "source": [
    "## Datentypen korrigieren\n",
    "wsdm_dataset = datatype_changer(wsdm_dataset)"
   ]
  },
  {
   "cell_type": "code",
   "execution_count": 11,
   "metadata": {},
   "outputs": [
    {
     "data": {
      "text/plain": [
       "msno                    0\n",
       "is_churn                0\n",
       "AVGregistered_via       0\n",
       "AVGpayment_plan_days    0\n",
       "AVGgender               0\n",
       "                       ..\n",
       "MAXnum_unqstock         0\n",
       "MAXnum_25stock          0\n",
       "MAXnum_100stock         0\n",
       "MAXtotal_secsstock      0\n",
       "msno.1                  0\n",
       "Length: 142, dtype: int64"
      ]
     },
     "execution_count": 11,
     "metadata": {},
     "output_type": "execute_result"
    }
   ],
   "source": [
    "wsdm_dataset.isnull().sum()"
   ]
  },
  {
   "cell_type": "code",
   "execution_count": 12,
   "metadata": {
    "scrolled": true
   },
   "outputs": [],
   "source": [
    "# saving wsdm file\n",
    "wsdm_dataset.to_csv(r\"D:\\Work_Masterarbeit\\wsdm\\preprocessed_4\\wsdm_FA_adaptive_dl.csv\", index=False)"
   ]
  },
  {
   "cell_type": "markdown",
   "metadata": {},
   "source": [
    "<h1>3. Prepare Data for Modelling"
   ]
  },
  {
   "cell_type": "code",
   "execution_count": 3,
   "metadata": {
    "scrolled": false
   },
   "outputs": [],
   "source": [
    "# loading wsdm dataset\n",
    "wsdm_dataset = pd.read_csv(r\"D:\\Work_Masterarbeit\\wsdm\\preprocessed_4\\wsdm_FA_adaptive_dl.csv\")"
   ]
  },
  {
   "cell_type": "code",
   "execution_count": 4,
   "metadata": {},
   "outputs": [],
   "source": [
    "# saving actual train dataset\n",
    "wsdm_dataset.to_csv(r\"D:\\Work_Masterarbeit\\wsdm\\preprocessed_4\\actual_train.csv\", index=False)"
   ]
  },
  {
   "cell_type": "markdown",
   "metadata": {},
   "source": [
    "<h2> 3.2 Train Test Split"
   ]
  },
  {
   "cell_type": "code",
   "execution_count": 5,
   "metadata": {
    "scrolled": false
   },
   "outputs": [],
   "source": [
    "# loading actual wsdm data\n",
    "wsdm_data = pd.read_csv(r\"D:\\Work_Masterarbeit\\wsdm\\preprocessed_4\\actual_train.csv\")"
   ]
  },
  {
   "cell_type": "code",
   "execution_count": 6,
   "metadata": {},
   "outputs": [],
   "source": [
    "# Load RAW Data\n",
    "wsdm_dataset_raw = pd.read_csv(r\"D:\\Work_Masterarbeit\\wsdm\\preprocessed_2\\train.csv\")"
   ]
  },
  {
   "cell_type": "code",
   "execution_count": 7,
   "metadata": {},
   "outputs": [],
   "source": [
    "# Merging with RAW Data\n",
    "wsdm_dataset = pd.merge(wsdm_dataset_raw, wsdm_data, on='msno', how='left')"
   ]
  },
  {
   "cell_type": "code",
   "execution_count": 8,
   "metadata": {},
   "outputs": [
    {
     "data": {
      "text/plain": [
       "(16887877, 164)"
      ]
     },
     "execution_count": 8,
     "metadata": {},
     "output_type": "execute_result"
    }
   ],
   "source": [
    "wsdm_dataset.shape"
   ]
  },
  {
   "cell_type": "code",
   "execution_count": 9,
   "metadata": {},
   "outputs": [],
   "source": [
    "## Sample 50% of Data due to memory restrictions\n",
    "wsdm_data = wsdm_dataset.sample(frac=.5)"
   ]
  },
  {
   "cell_type": "code",
   "execution_count": 10,
   "metadata": {},
   "outputs": [],
   "source": [
    "#Typkonvertierung\n",
    "wsdm_data['transaction_date'] = wsdm_data['transaction_date'].str.replace('-', '').astype(float)\n",
    "wsdm_data['date'] = wsdm_data['date'].str.replace('-', '').astype(float)\n",
    "wsdm_data['registration_init_time'] = wsdm_data['registration_init_time'].str.replace('-', '').astype(float)\n",
    "wsdm_data['membership_expire_date'] = wsdm_data['membership_expire_date'].str.replace('-', '').astype(float)"
   ]
  },
  {
   "cell_type": "code",
   "execution_count": 11,
   "metadata": {},
   "outputs": [],
   "source": [
    "#Entfernen unnötiger Spalten\n",
    "wsdm_data = wsdm_data.drop(['msno.1'], axis=1, inplace=False)"
   ]
  },
  {
   "cell_type": "code",
   "execution_count": 12,
   "metadata": {},
   "outputs": [],
   "source": [
    "# https://stackoverflow.com/a/29651514\n",
    "def normalize(df):\n",
    "    result1 = df.copy()\n",
    "    for feature_name in df.columns:\n",
    "        if (str(feature_name) != str('msno') and str(feature_name)!=str('is_churn')):\n",
    "            max_value = df[feature_name].max()\n",
    "            min_value = df[feature_name].min()\n",
    "            result1[feature_name] = (df[feature_name] - min_value) / (max_value - min_value)\n",
    "    return result1\n",
    "\n",
    "wsdm_data = normalize(wsdm_data)"
   ]
  },
  {
   "cell_type": "code",
   "execution_count": 13,
   "metadata": {
    "scrolled": true
   },
   "outputs": [
    {
     "data": {
      "text/plain": [
       "True"
      ]
     },
     "execution_count": 13,
     "metadata": {},
     "output_type": "execute_result"
    }
   ],
   "source": [
    "# checking for null values\n",
    "wsdm_data.isnull().values.any()"
   ]
  },
  {
   "cell_type": "code",
   "execution_count": 14,
   "metadata": {
    "scrolled": false
   },
   "outputs": [],
   "source": [
    "wsdm_data = datatype_changer(wsdm_data)"
   ]
  },
  {
   "cell_type": "code",
   "execution_count": 15,
   "metadata": {},
   "outputs": [],
   "source": [
    "# getting columns and converting them to list\n",
    "cols = wsdm_data.columns.tolist()\n",
    "# saving them for further use\n",
    "np.savez_compressed(r\"D:\\Work_Masterarbeit\\wsdm\\preprocessed_4\\columns_incraw.npz\", cols)"
   ]
  },
  {
   "cell_type": "code",
   "execution_count": 16,
   "metadata": {},
   "outputs": [],
   "source": [
    "# replacing all nan and infinity to 0\n",
    "wsdm_data = wsdm_data.replace(np.nan, 0, inplace=False)\n",
    "wsdm_data = wsdm_data.replace(np.inf, 0, inplace=False)"
   ]
  },
  {
   "cell_type": "code",
   "execution_count": 17,
   "metadata": {},
   "outputs": [
    {
     "data": {
      "text/html": [
       "<div>\n",
       "<style scoped>\n",
       "    .dataframe tbody tr th:only-of-type {\n",
       "        vertical-align: middle;\n",
       "    }\n",
       "\n",
       "    .dataframe tbody tr th {\n",
       "        vertical-align: top;\n",
       "    }\n",
       "\n",
       "    .dataframe thead th {\n",
       "        text-align: right;\n",
       "    }\n",
       "</style>\n",
       "<table border=\"1\" class=\"dataframe\">\n",
       "  <thead>\n",
       "    <tr style=\"text-align: right;\">\n",
       "      <th></th>\n",
       "      <th>msno</th>\n",
       "      <th>is_churn_x</th>\n",
       "      <th>city</th>\n",
       "      <th>bd</th>\n",
       "      <th>gender</th>\n",
       "      <th>registered_via</th>\n",
       "      <th>registration_init_time</th>\n",
       "      <th>payment_method_id</th>\n",
       "      <th>payment_plan_days</th>\n",
       "      <th>plan_list_price</th>\n",
       "      <th>...</th>\n",
       "      <th>MAXcitystock</th>\n",
       "      <th>MAXbdstock</th>\n",
       "      <th>MAXpayment_method_idstock</th>\n",
       "      <th>MAXis_auto_renewstock</th>\n",
       "      <th>MAXplan_list_pricestock</th>\n",
       "      <th>MAXactual_amount_paidstock</th>\n",
       "      <th>MAXnum_unqstock</th>\n",
       "      <th>MAXnum_25stock</th>\n",
       "      <th>MAXnum_100stock</th>\n",
       "      <th>MAXtotal_secsstock</th>\n",
       "    </tr>\n",
       "  </thead>\n",
       "  <tbody>\n",
       "    <tr>\n",
       "      <th>4130337</th>\n",
       "      <td>4J7qpOlq4Ph73NKRa8A6467pI8kZL/yS7b4P/9lLe94=</td>\n",
       "      <td>0.0</td>\n",
       "      <td>0.227295</td>\n",
       "      <td>0.528809</td>\n",
       "      <td>1.0</td>\n",
       "      <td>0.692383</td>\n",
       "      <td>0.234497</td>\n",
       "      <td>0.975586</td>\n",
       "      <td>1.0</td>\n",
       "      <td>0.827637</td>\n",
       "      <td>...</td>\n",
       "      <td>0.227295</td>\n",
       "      <td>0.528809</td>\n",
       "      <td>0.975586</td>\n",
       "      <td>0.5</td>\n",
       "      <td>0.827637</td>\n",
       "      <td>0.827637</td>\n",
       "      <td>0.671875</td>\n",
       "      <td>0.466553</td>\n",
       "      <td>0.864746</td>\n",
       "      <td>0.883301</td>\n",
       "    </tr>\n",
       "    <tr>\n",
       "      <th>10276491</th>\n",
       "      <td>TXmElz+ayCjss0TB3Rkx7t9jng1aDlKA1MREpdbIE4I=</td>\n",
       "      <td>1.0</td>\n",
       "      <td>0.590820</td>\n",
       "      <td>0.399902</td>\n",
       "      <td>1.0</td>\n",
       "      <td>0.230713</td>\n",
       "      <td>0.691406</td>\n",
       "      <td>0.951172</td>\n",
       "      <td>1.0</td>\n",
       "      <td>0.827637</td>\n",
       "      <td>...</td>\n",
       "      <td>0.590820</td>\n",
       "      <td>0.399902</td>\n",
       "      <td>0.951172</td>\n",
       "      <td>0.5</td>\n",
       "      <td>0.827637</td>\n",
       "      <td>0.827637</td>\n",
       "      <td>0.955078</td>\n",
       "      <td>1.000000</td>\n",
       "      <td>0.905273</td>\n",
       "      <td>0.916992</td>\n",
       "    </tr>\n",
       "    <tr>\n",
       "      <th>16861633</th>\n",
       "      <td>u7srW/4bbLDuKgVTyZcNuS0dsvUVvAxyk8D876AyFUI=</td>\n",
       "      <td>0.0</td>\n",
       "      <td>0.045441</td>\n",
       "      <td>0.385742</td>\n",
       "      <td>0.0</td>\n",
       "      <td>0.538574</td>\n",
       "      <td>0.925293</td>\n",
       "      <td>1.000000</td>\n",
       "      <td>1.0</td>\n",
       "      <td>0.549805</td>\n",
       "      <td>...</td>\n",
       "      <td>0.045441</td>\n",
       "      <td>0.385742</td>\n",
       "      <td>1.000000</td>\n",
       "      <td>0.5</td>\n",
       "      <td>0.549805</td>\n",
       "      <td>0.549805</td>\n",
       "      <td>0.582031</td>\n",
       "      <td>0.733398</td>\n",
       "      <td>0.500000</td>\n",
       "      <td>0.508789</td>\n",
       "    </tr>\n",
       "    <tr>\n",
       "      <th>4403731</th>\n",
       "      <td>Tcp+Hw+sddFv3KUqrIWgUrCCILehpM4OK1vVK/L9w7s=</td>\n",
       "      <td>0.0</td>\n",
       "      <td>0.045441</td>\n",
       "      <td>0.385742</td>\n",
       "      <td>0.0</td>\n",
       "      <td>0.538574</td>\n",
       "      <td>0.849121</td>\n",
       "      <td>1.000000</td>\n",
       "      <td>1.0</td>\n",
       "      <td>0.549805</td>\n",
       "      <td>...</td>\n",
       "      <td>0.045441</td>\n",
       "      <td>0.385742</td>\n",
       "      <td>1.000000</td>\n",
       "      <td>0.5</td>\n",
       "      <td>0.549805</td>\n",
       "      <td>0.549805</td>\n",
       "      <td>0.910645</td>\n",
       "      <td>0.333252</td>\n",
       "      <td>0.878418</td>\n",
       "      <td>0.791016</td>\n",
       "    </tr>\n",
       "    <tr>\n",
       "      <th>11842115</th>\n",
       "      <td>kJJKLqnz+Exi/diWLSSGlBZn5Q/p2HY0cvynl+WfKlM=</td>\n",
       "      <td>0.0</td>\n",
       "      <td>0.045441</td>\n",
       "      <td>0.385742</td>\n",
       "      <td>0.0</td>\n",
       "      <td>0.538574</td>\n",
       "      <td>0.695801</td>\n",
       "      <td>1.000000</td>\n",
       "      <td>1.0</td>\n",
       "      <td>0.827637</td>\n",
       "      <td>...</td>\n",
       "      <td>0.045441</td>\n",
       "      <td>0.385742</td>\n",
       "      <td>1.000000</td>\n",
       "      <td>0.5</td>\n",
       "      <td>0.827637</td>\n",
       "      <td>0.827637</td>\n",
       "      <td>0.746094</td>\n",
       "      <td>0.466553</td>\n",
       "      <td>0.500000</td>\n",
       "      <td>0.472656</td>\n",
       "    </tr>\n",
       "  </tbody>\n",
       "</table>\n",
       "<p>5 rows × 163 columns</p>\n",
       "</div>"
      ],
      "text/plain": [
       "                                                  msno  is_churn_x      city  \\\n",
       "4130337   4J7qpOlq4Ph73NKRa8A6467pI8kZL/yS7b4P/9lLe94=         0.0  0.227295   \n",
       "10276491  TXmElz+ayCjss0TB3Rkx7t9jng1aDlKA1MREpdbIE4I=         1.0  0.590820   \n",
       "16861633  u7srW/4bbLDuKgVTyZcNuS0dsvUVvAxyk8D876AyFUI=         0.0  0.045441   \n",
       "4403731   Tcp+Hw+sddFv3KUqrIWgUrCCILehpM4OK1vVK/L9w7s=         0.0  0.045441   \n",
       "11842115  kJJKLqnz+Exi/diWLSSGlBZn5Q/p2HY0cvynl+WfKlM=         0.0  0.045441   \n",
       "\n",
       "                bd  gender  registered_via  registration_init_time  \\\n",
       "4130337   0.528809     1.0        0.692383                0.234497   \n",
       "10276491  0.399902     1.0        0.230713                0.691406   \n",
       "16861633  0.385742     0.0        0.538574                0.925293   \n",
       "4403731   0.385742     0.0        0.538574                0.849121   \n",
       "11842115  0.385742     0.0        0.538574                0.695801   \n",
       "\n",
       "          payment_method_id  payment_plan_days  plan_list_price  ...  \\\n",
       "4130337            0.975586                1.0         0.827637  ...   \n",
       "10276491           0.951172                1.0         0.827637  ...   \n",
       "16861633           1.000000                1.0         0.549805  ...   \n",
       "4403731            1.000000                1.0         0.549805  ...   \n",
       "11842115           1.000000                1.0         0.827637  ...   \n",
       "\n",
       "          MAXcitystock  MAXbdstock  MAXpayment_method_idstock  \\\n",
       "4130337       0.227295    0.528809                   0.975586   \n",
       "10276491      0.590820    0.399902                   0.951172   \n",
       "16861633      0.045441    0.385742                   1.000000   \n",
       "4403731       0.045441    0.385742                   1.000000   \n",
       "11842115      0.045441    0.385742                   1.000000   \n",
       "\n",
       "          MAXis_auto_renewstock  MAXplan_list_pricestock  \\\n",
       "4130337                     0.5                 0.827637   \n",
       "10276491                    0.5                 0.827637   \n",
       "16861633                    0.5                 0.549805   \n",
       "4403731                     0.5                 0.549805   \n",
       "11842115                    0.5                 0.827637   \n",
       "\n",
       "          MAXactual_amount_paidstock  MAXnum_unqstock  MAXnum_25stock  \\\n",
       "4130337                     0.827637         0.671875        0.466553   \n",
       "10276491                    0.827637         0.955078        1.000000   \n",
       "16861633                    0.549805         0.582031        0.733398   \n",
       "4403731                     0.549805         0.910645        0.333252   \n",
       "11842115                    0.827637         0.746094        0.466553   \n",
       "\n",
       "          MAXnum_100stock  MAXtotal_secsstock  \n",
       "4130337          0.864746            0.883301  \n",
       "10276491         0.905273            0.916992  \n",
       "16861633         0.500000            0.508789  \n",
       "4403731          0.878418            0.791016  \n",
       "11842115         0.500000            0.472656  \n",
       "\n",
       "[5 rows x 163 columns]"
      ]
     },
     "execution_count": 17,
     "metadata": {},
     "output_type": "execute_result"
    }
   ],
   "source": [
    "wsdm_data.head()"
   ]
  },
  {
   "cell_type": "code",
   "execution_count": 18,
   "metadata": {
    "scrolled": true
   },
   "outputs": [
    {
     "data": {
      "text/plain": [
       "array([0., 1., 0., ..., 0., 0., 0.], dtype=float16)"
      ]
     },
     "execution_count": 18,
     "metadata": {},
     "output_type": "execute_result"
    }
   ],
   "source": [
    "# getting labels for y\n",
    "labels = wsdm_data['is_churn_x'].values\n",
    "labels"
   ]
  },
  {
   "cell_type": "code",
   "execution_count": 19,
   "metadata": {
    "scrolled": true
   },
   "outputs": [
    {
     "data": {
      "text/html": [
       "<div>\n",
       "<style scoped>\n",
       "    .dataframe tbody tr th:only-of-type {\n",
       "        vertical-align: middle;\n",
       "    }\n",
       "\n",
       "    .dataframe tbody tr th {\n",
       "        vertical-align: top;\n",
       "    }\n",
       "\n",
       "    .dataframe thead th {\n",
       "        text-align: right;\n",
       "    }\n",
       "</style>\n",
       "<table border=\"1\" class=\"dataframe\">\n",
       "  <thead>\n",
       "    <tr style=\"text-align: right;\">\n",
       "      <th></th>\n",
       "      <th>city</th>\n",
       "      <th>bd</th>\n",
       "      <th>gender</th>\n",
       "      <th>registered_via</th>\n",
       "      <th>registration_init_time</th>\n",
       "      <th>payment_method_id</th>\n",
       "      <th>payment_plan_days</th>\n",
       "      <th>plan_list_price</th>\n",
       "      <th>actual_amount_paid</th>\n",
       "      <th>is_auto_renew</th>\n",
       "      <th>...</th>\n",
       "      <th>MAXcitystock</th>\n",
       "      <th>MAXbdstock</th>\n",
       "      <th>MAXpayment_method_idstock</th>\n",
       "      <th>MAXis_auto_renewstock</th>\n",
       "      <th>MAXplan_list_pricestock</th>\n",
       "      <th>MAXactual_amount_paidstock</th>\n",
       "      <th>MAXnum_unqstock</th>\n",
       "      <th>MAXnum_25stock</th>\n",
       "      <th>MAXnum_100stock</th>\n",
       "      <th>MAXtotal_secsstock</th>\n",
       "    </tr>\n",
       "  </thead>\n",
       "  <tbody>\n",
       "    <tr>\n",
       "      <th>4130337</th>\n",
       "      <td>0.227295</td>\n",
       "      <td>0.528809</td>\n",
       "      <td>1.0</td>\n",
       "      <td>0.692383</td>\n",
       "      <td>0.234497</td>\n",
       "      <td>0.975586</td>\n",
       "      <td>1.0</td>\n",
       "      <td>0.827637</td>\n",
       "      <td>0.827637</td>\n",
       "      <td>0.5</td>\n",
       "      <td>...</td>\n",
       "      <td>0.227295</td>\n",
       "      <td>0.528809</td>\n",
       "      <td>0.975586</td>\n",
       "      <td>0.5</td>\n",
       "      <td>0.827637</td>\n",
       "      <td>0.827637</td>\n",
       "      <td>0.671875</td>\n",
       "      <td>0.466553</td>\n",
       "      <td>0.864746</td>\n",
       "      <td>0.883301</td>\n",
       "    </tr>\n",
       "    <tr>\n",
       "      <th>10276491</th>\n",
       "      <td>0.590820</td>\n",
       "      <td>0.399902</td>\n",
       "      <td>1.0</td>\n",
       "      <td>0.230713</td>\n",
       "      <td>0.691406</td>\n",
       "      <td>0.951172</td>\n",
       "      <td>1.0</td>\n",
       "      <td>0.827637</td>\n",
       "      <td>0.827637</td>\n",
       "      <td>0.5</td>\n",
       "      <td>...</td>\n",
       "      <td>0.590820</td>\n",
       "      <td>0.399902</td>\n",
       "      <td>0.951172</td>\n",
       "      <td>0.5</td>\n",
       "      <td>0.827637</td>\n",
       "      <td>0.827637</td>\n",
       "      <td>0.955078</td>\n",
       "      <td>1.000000</td>\n",
       "      <td>0.905273</td>\n",
       "      <td>0.916992</td>\n",
       "    </tr>\n",
       "    <tr>\n",
       "      <th>16861633</th>\n",
       "      <td>0.045441</td>\n",
       "      <td>0.385742</td>\n",
       "      <td>0.0</td>\n",
       "      <td>0.538574</td>\n",
       "      <td>0.925293</td>\n",
       "      <td>1.000000</td>\n",
       "      <td>1.0</td>\n",
       "      <td>0.549805</td>\n",
       "      <td>0.549805</td>\n",
       "      <td>0.5</td>\n",
       "      <td>...</td>\n",
       "      <td>0.045441</td>\n",
       "      <td>0.385742</td>\n",
       "      <td>1.000000</td>\n",
       "      <td>0.5</td>\n",
       "      <td>0.549805</td>\n",
       "      <td>0.549805</td>\n",
       "      <td>0.582031</td>\n",
       "      <td>0.733398</td>\n",
       "      <td>0.500000</td>\n",
       "      <td>0.508789</td>\n",
       "    </tr>\n",
       "    <tr>\n",
       "      <th>4403731</th>\n",
       "      <td>0.045441</td>\n",
       "      <td>0.385742</td>\n",
       "      <td>0.0</td>\n",
       "      <td>0.538574</td>\n",
       "      <td>0.849121</td>\n",
       "      <td>1.000000</td>\n",
       "      <td>1.0</td>\n",
       "      <td>0.549805</td>\n",
       "      <td>0.549805</td>\n",
       "      <td>0.5</td>\n",
       "      <td>...</td>\n",
       "      <td>0.045441</td>\n",
       "      <td>0.385742</td>\n",
       "      <td>1.000000</td>\n",
       "      <td>0.5</td>\n",
       "      <td>0.549805</td>\n",
       "      <td>0.549805</td>\n",
       "      <td>0.910645</td>\n",
       "      <td>0.333252</td>\n",
       "      <td>0.878418</td>\n",
       "      <td>0.791016</td>\n",
       "    </tr>\n",
       "    <tr>\n",
       "      <th>11842115</th>\n",
       "      <td>0.045441</td>\n",
       "      <td>0.385742</td>\n",
       "      <td>0.0</td>\n",
       "      <td>0.538574</td>\n",
       "      <td>0.695801</td>\n",
       "      <td>1.000000</td>\n",
       "      <td>1.0</td>\n",
       "      <td>0.827637</td>\n",
       "      <td>0.827637</td>\n",
       "      <td>0.5</td>\n",
       "      <td>...</td>\n",
       "      <td>0.045441</td>\n",
       "      <td>0.385742</td>\n",
       "      <td>1.000000</td>\n",
       "      <td>0.5</td>\n",
       "      <td>0.827637</td>\n",
       "      <td>0.827637</td>\n",
       "      <td>0.746094</td>\n",
       "      <td>0.466553</td>\n",
       "      <td>0.500000</td>\n",
       "      <td>0.472656</td>\n",
       "    </tr>\n",
       "    <tr>\n",
       "      <th>...</th>\n",
       "      <td>...</td>\n",
       "      <td>...</td>\n",
       "      <td>...</td>\n",
       "      <td>...</td>\n",
       "      <td>...</td>\n",
       "      <td>...</td>\n",
       "      <td>...</td>\n",
       "      <td>...</td>\n",
       "      <td>...</td>\n",
       "      <td>...</td>\n",
       "      <td>...</td>\n",
       "      <td>...</td>\n",
       "      <td>...</td>\n",
       "      <td>...</td>\n",
       "      <td>...</td>\n",
       "      <td>...</td>\n",
       "      <td>...</td>\n",
       "      <td>...</td>\n",
       "      <td>...</td>\n",
       "      <td>...</td>\n",
       "      <td>...</td>\n",
       "    </tr>\n",
       "    <tr>\n",
       "      <th>2533911</th>\n",
       "      <td>0.227295</td>\n",
       "      <td>0.428467</td>\n",
       "      <td>1.0</td>\n",
       "      <td>0.692383</td>\n",
       "      <td>0.077698</td>\n",
       "      <td>0.951172</td>\n",
       "      <td>1.0</td>\n",
       "      <td>0.827637</td>\n",
       "      <td>0.827637</td>\n",
       "      <td>0.5</td>\n",
       "      <td>...</td>\n",
       "      <td>0.227295</td>\n",
       "      <td>0.428467</td>\n",
       "      <td>0.951172</td>\n",
       "      <td>0.5</td>\n",
       "      <td>0.827637</td>\n",
       "      <td>0.827637</td>\n",
       "      <td>0.984863</td>\n",
       "      <td>1.000000</td>\n",
       "      <td>0.892090</td>\n",
       "      <td>0.906738</td>\n",
       "    </tr>\n",
       "    <tr>\n",
       "      <th>1383048</th>\n",
       "      <td>0.772949</td>\n",
       "      <td>0.300049</td>\n",
       "      <td>1.0</td>\n",
       "      <td>0.538574</td>\n",
       "      <td>0.852051</td>\n",
       "      <td>1.000000</td>\n",
       "      <td>1.0</td>\n",
       "      <td>0.549805</td>\n",
       "      <td>0.549805</td>\n",
       "      <td>0.5</td>\n",
       "      <td>...</td>\n",
       "      <td>0.772949</td>\n",
       "      <td>0.300049</td>\n",
       "      <td>1.000000</td>\n",
       "      <td>0.5</td>\n",
       "      <td>0.549805</td>\n",
       "      <td>0.549805</td>\n",
       "      <td>0.656738</td>\n",
       "      <td>1.000000</td>\n",
       "      <td>0.716309</td>\n",
       "      <td>0.679199</td>\n",
       "    </tr>\n",
       "    <tr>\n",
       "      <th>15743692</th>\n",
       "      <td>0.772949</td>\n",
       "      <td>0.357178</td>\n",
       "      <td>0.5</td>\n",
       "      <td>0.692383</td>\n",
       "      <td>0.077515</td>\n",
       "      <td>0.975586</td>\n",
       "      <td>1.0</td>\n",
       "      <td>0.827637</td>\n",
       "      <td>0.827637</td>\n",
       "      <td>0.5</td>\n",
       "      <td>...</td>\n",
       "      <td>0.772949</td>\n",
       "      <td>0.357178</td>\n",
       "      <td>0.975586</td>\n",
       "      <td>0.5</td>\n",
       "      <td>0.827637</td>\n",
       "      <td>0.827637</td>\n",
       "      <td>0.806152</td>\n",
       "      <td>0.866699</td>\n",
       "      <td>0.945801</td>\n",
       "      <td>0.905762</td>\n",
       "    </tr>\n",
       "    <tr>\n",
       "      <th>15183433</th>\n",
       "      <td>0.227295</td>\n",
       "      <td>0.242798</td>\n",
       "      <td>0.5</td>\n",
       "      <td>0.230713</td>\n",
       "      <td>0.846680</td>\n",
       "      <td>0.926758</td>\n",
       "      <td>1.0</td>\n",
       "      <td>0.827637</td>\n",
       "      <td>0.827637</td>\n",
       "      <td>0.0</td>\n",
       "      <td>...</td>\n",
       "      <td>0.227295</td>\n",
       "      <td>0.242798</td>\n",
       "      <td>0.926758</td>\n",
       "      <td>0.0</td>\n",
       "      <td>0.827637</td>\n",
       "      <td>0.827637</td>\n",
       "      <td>0.850586</td>\n",
       "      <td>0.533203</td>\n",
       "      <td>0.526855</td>\n",
       "      <td>0.645508</td>\n",
       "    </tr>\n",
       "    <tr>\n",
       "      <th>9779114</th>\n",
       "      <td>0.636230</td>\n",
       "      <td>0.385742</td>\n",
       "      <td>0.5</td>\n",
       "      <td>0.538574</td>\n",
       "      <td>0.697754</td>\n",
       "      <td>0.951172</td>\n",
       "      <td>1.0</td>\n",
       "      <td>0.827637</td>\n",
       "      <td>0.827637</td>\n",
       "      <td>0.5</td>\n",
       "      <td>...</td>\n",
       "      <td>0.636230</td>\n",
       "      <td>0.385742</td>\n",
       "      <td>0.951172</td>\n",
       "      <td>0.5</td>\n",
       "      <td>0.827637</td>\n",
       "      <td>0.827637</td>\n",
       "      <td>0.641602</td>\n",
       "      <td>0.799805</td>\n",
       "      <td>0.837891</td>\n",
       "      <td>0.851562</td>\n",
       "    </tr>\n",
       "  </tbody>\n",
       "</table>\n",
       "<p>8443938 rows × 160 columns</p>\n",
       "</div>"
      ],
      "text/plain": [
       "              city        bd  gender  registered_via  registration_init_time  \\\n",
       "4130337   0.227295  0.528809     1.0        0.692383                0.234497   \n",
       "10276491  0.590820  0.399902     1.0        0.230713                0.691406   \n",
       "16861633  0.045441  0.385742     0.0        0.538574                0.925293   \n",
       "4403731   0.045441  0.385742     0.0        0.538574                0.849121   \n",
       "11842115  0.045441  0.385742     0.0        0.538574                0.695801   \n",
       "...            ...       ...     ...             ...                     ...   \n",
       "2533911   0.227295  0.428467     1.0        0.692383                0.077698   \n",
       "1383048   0.772949  0.300049     1.0        0.538574                0.852051   \n",
       "15743692  0.772949  0.357178     0.5        0.692383                0.077515   \n",
       "15183433  0.227295  0.242798     0.5        0.230713                0.846680   \n",
       "9779114   0.636230  0.385742     0.5        0.538574                0.697754   \n",
       "\n",
       "          payment_method_id  payment_plan_days  plan_list_price  \\\n",
       "4130337            0.975586                1.0         0.827637   \n",
       "10276491           0.951172                1.0         0.827637   \n",
       "16861633           1.000000                1.0         0.549805   \n",
       "4403731            1.000000                1.0         0.549805   \n",
       "11842115           1.000000                1.0         0.827637   \n",
       "...                     ...                ...              ...   \n",
       "2533911            0.951172                1.0         0.827637   \n",
       "1383048            1.000000                1.0         0.549805   \n",
       "15743692           0.975586                1.0         0.827637   \n",
       "15183433           0.926758                1.0         0.827637   \n",
       "9779114            0.951172                1.0         0.827637   \n",
       "\n",
       "          actual_amount_paid  is_auto_renew  ...  MAXcitystock  MAXbdstock  \\\n",
       "4130337             0.827637            0.5  ...      0.227295    0.528809   \n",
       "10276491            0.827637            0.5  ...      0.590820    0.399902   \n",
       "16861633            0.549805            0.5  ...      0.045441    0.385742   \n",
       "4403731             0.549805            0.5  ...      0.045441    0.385742   \n",
       "11842115            0.827637            0.5  ...      0.045441    0.385742   \n",
       "...                      ...            ...  ...           ...         ...   \n",
       "2533911             0.827637            0.5  ...      0.227295    0.428467   \n",
       "1383048             0.549805            0.5  ...      0.772949    0.300049   \n",
       "15743692            0.827637            0.5  ...      0.772949    0.357178   \n",
       "15183433            0.827637            0.0  ...      0.227295    0.242798   \n",
       "9779114             0.827637            0.5  ...      0.636230    0.385742   \n",
       "\n",
       "          MAXpayment_method_idstock  MAXis_auto_renewstock  \\\n",
       "4130337                    0.975586                    0.5   \n",
       "10276491                   0.951172                    0.5   \n",
       "16861633                   1.000000                    0.5   \n",
       "4403731                    1.000000                    0.5   \n",
       "11842115                   1.000000                    0.5   \n",
       "...                             ...                    ...   \n",
       "2533911                    0.951172                    0.5   \n",
       "1383048                    1.000000                    0.5   \n",
       "15743692                   0.975586                    0.5   \n",
       "15183433                   0.926758                    0.0   \n",
       "9779114                    0.951172                    0.5   \n",
       "\n",
       "          MAXplan_list_pricestock  MAXactual_amount_paidstock  \\\n",
       "4130337                  0.827637                    0.827637   \n",
       "10276491                 0.827637                    0.827637   \n",
       "16861633                 0.549805                    0.549805   \n",
       "4403731                  0.549805                    0.549805   \n",
       "11842115                 0.827637                    0.827637   \n",
       "...                           ...                         ...   \n",
       "2533911                  0.827637                    0.827637   \n",
       "1383048                  0.549805                    0.549805   \n",
       "15743692                 0.827637                    0.827637   \n",
       "15183433                 0.827637                    0.827637   \n",
       "9779114                  0.827637                    0.827637   \n",
       "\n",
       "          MAXnum_unqstock  MAXnum_25stock  MAXnum_100stock  MAXtotal_secsstock  \n",
       "4130337          0.671875        0.466553         0.864746            0.883301  \n",
       "10276491         0.955078        1.000000         0.905273            0.916992  \n",
       "16861633         0.582031        0.733398         0.500000            0.508789  \n",
       "4403731          0.910645        0.333252         0.878418            0.791016  \n",
       "11842115         0.746094        0.466553         0.500000            0.472656  \n",
       "...                   ...             ...              ...                 ...  \n",
       "2533911          0.984863        1.000000         0.892090            0.906738  \n",
       "1383048          0.656738        1.000000         0.716309            0.679199  \n",
       "15743692         0.806152        0.866699         0.945801            0.905762  \n",
       "15183433         0.850586        0.533203         0.526855            0.645508  \n",
       "9779114          0.641602        0.799805         0.837891            0.851562  \n",
       "\n",
       "[8443938 rows x 160 columns]"
      ]
     },
     "execution_count": 19,
     "metadata": {},
     "output_type": "execute_result"
    }
   ],
   "source": [
    "# getting labels for X\n",
    "data = wsdm_data.drop(['msno', 'is_churn_x','is_churn_y'], axis=1, inplace=False)\n",
    "data"
   ]
  },
  {
   "cell_type": "markdown",
   "metadata": {},
   "source": [
    "<h2> Daten aufteilen in 70% Training und 30% Test"
   ]
  },
  {
   "cell_type": "code",
   "execution_count": 20,
   "metadata": {
    "scrolled": false
   },
   "outputs": [
    {
     "name": "stdout",
     "output_type": "stream",
     "text": [
      "(5910756, 160) (5910756,)\n",
      "(2533182, 160) (2533182,)\n"
     ]
    }
   ],
   "source": [
    "# train test split\n",
    "X_train, X_test, y_train, y_test = train_test_split(data, labels, test_size=0.3, random_state=42)\n",
    "\n",
    "print(X_train.shape, y_train.shape)\n",
    "print(X_test.shape, y_test.shape)"
   ]
  },
  {
   "cell_type": "code",
   "execution_count": 21,
   "metadata": {
    "scrolled": true
   },
   "outputs": [
    {
     "data": {
      "text/plain": [
       "array([[0.22729492, 0.24279785, 1.        , ..., 0.46655273, 0.91894531,\n",
       "        0.97753906],\n",
       "       [0.68164062, 0.30004883, 0.5       , ..., 0.86669922, 0.98632812,\n",
       "        0.96826172],\n",
       "       [0.04544067, 0.38574219, 0.        , ..., 0.60009766, 0.47290039,\n",
       "        0.45605469],\n",
       "       ...,\n",
       "       [0.1817627 , 0.30004883, 0.5       , ..., 0.73339844, 0.72949219,\n",
       "        0.78759766],\n",
       "       [0.27270508, 0.35717773, 0.5       , ..., 0.39990234, 0.44604492,\n",
       "        0.51611328],\n",
       "       [0.22729492, 0.57128906, 1.        , ..., 0.86669922, 0.72949219,\n",
       "        0.7734375 ]])"
      ]
     },
     "execution_count": 21,
     "metadata": {},
     "output_type": "execute_result"
    }
   ],
   "source": [
    "# converting X_train to numpy array\n",
    "wsdm_arr = X_train.values\n",
    "wsdm_arr"
   ]
  },
  {
   "cell_type": "code",
   "execution_count": 22,
   "metadata": {},
   "outputs": [
    {
     "data": {
      "text/plain": [
       "(5910756, 160)"
      ]
     },
     "execution_count": 22,
     "metadata": {},
     "output_type": "execute_result"
    }
   ],
   "source": [
    "wsdm_arr.shape"
   ]
  },
  {
   "cell_type": "code",
   "execution_count": 23,
   "metadata": {},
   "outputs": [],
   "source": [
    "# saving it for further use\n",
    "np.savez_compressed(r\"D:\\Work_Masterarbeit\\wsdm\\preprocessed_4\\actual_train_incraw.npz\", wsdm_arr)"
   ]
  },
  {
   "cell_type": "code",
   "execution_count": 24,
   "metadata": {},
   "outputs": [
    {
     "data": {
      "text/plain": [
       "array([0., 0., 0., ..., 0., 0., 0.], dtype=float16)"
      ]
     },
     "execution_count": 24,
     "metadata": {},
     "output_type": "execute_result"
    }
   ],
   "source": [
    "# displaying y_train\n",
    "wsdm_labels_arr = y_train\n",
    "wsdm_labels_arr"
   ]
  },
  {
   "cell_type": "code",
   "execution_count": 25,
   "metadata": {},
   "outputs": [
    {
     "data": {
      "text/plain": [
       "(5910756,)"
      ]
     },
     "execution_count": 25,
     "metadata": {},
     "output_type": "execute_result"
    }
   ],
   "source": [
    "wsdm_labels_arr.shape"
   ]
  },
  {
   "cell_type": "code",
   "execution_count": 26,
   "metadata": {},
   "outputs": [],
   "source": [
    "# saving it for further use\n",
    "np.savez_compressed(r\"D:\\Work_Masterarbeit\\wsdm\\preprocessed_4\\actual_wsdm_labels_incraw.npz\", wsdm_labels_arr)"
   ]
  },
  {
   "cell_type": "code",
   "execution_count": 27,
   "metadata": {
    "scrolled": true
   },
   "outputs": [
    {
     "data": {
      "text/plain": [
       "array([[0.04544067, 0.38574219, 0.        , ..., 0.86669922, 0.59472656,\n",
       "        0.59521484],\n",
       "       [0.04544067, 0.38574219, 0.        , ..., 0.39990234, 0.09460449,\n",
       "        0.11645508],\n",
       "       [0.1817627 , 0.25708008, 0.5       , ..., 0.66650391, 0.58105469,\n",
       "        0.64550781],\n",
       "       ...,\n",
       "       [0.59082031, 0.45703125, 1.        , ..., 1.        , 0.56738281,\n",
       "        0.52148438],\n",
       "       [0.77294922, 0.32861328, 1.        , ..., 0.66650391, 0.32421875,\n",
       "        0.35253906],\n",
       "       [0.59082031, 0.64306641, 0.5       , ..., 0.79980469, 0.43237305,\n",
       "        0.3918457 ]])"
      ]
     },
     "execution_count": 27,
     "metadata": {},
     "output_type": "execute_result"
    }
   ],
   "source": [
    "# converting X_test to numpy array\n",
    "X_arr = X_test.values\n",
    "X_arr"
   ]
  },
  {
   "cell_type": "code",
   "execution_count": 28,
   "metadata": {},
   "outputs": [
    {
     "data": {
      "text/plain": [
       "(2533182, 160)"
      ]
     },
     "execution_count": 28,
     "metadata": {},
     "output_type": "execute_result"
    }
   ],
   "source": [
    "# checking shape of test array\n",
    "X_arr.shape"
   ]
  },
  {
   "cell_type": "code",
   "execution_count": 29,
   "metadata": {},
   "outputs": [],
   "source": [
    "# saving it for further use\n",
    "np.savez_compressed(r\"D:\\Work_Masterarbeit\\wsdm\\preprocessed_4\\actual_test_incraw.npz\", X_arr)"
   ]
  },
  {
   "cell_type": "code",
   "execution_count": 30,
   "metadata": {},
   "outputs": [
    {
     "data": {
      "text/plain": [
       "array([0., 0., 0., ..., 0., 0., 0.], dtype=float16)"
      ]
     },
     "execution_count": 30,
     "metadata": {},
     "output_type": "execute_result"
    }
   ],
   "source": [
    "# displaying y_test\n",
    "X_labels_arr = y_test\n",
    "X_labels_arr"
   ]
  },
  {
   "cell_type": "code",
   "execution_count": 31,
   "metadata": {
    "scrolled": false
   },
   "outputs": [
    {
     "data": {
      "text/plain": [
       "(2533182,)"
      ]
     },
     "execution_count": 31,
     "metadata": {},
     "output_type": "execute_result"
    }
   ],
   "source": [
    "# checking shape of test labels array\n",
    "X_labels_arr.shape"
   ]
  },
  {
   "cell_type": "code",
   "execution_count": 32,
   "metadata": {},
   "outputs": [],
   "source": [
    "# saving it for further use\n",
    "np.savez_compressed(r\"D:\\Work_Masterarbeit\\wsdm\\preprocessed_4\\actual_test_labels_incraw.npz\", X_labels_arr)"
   ]
  },
  {
   "cell_type": "markdown",
   "metadata": {},
   "source": [
    "<h1> 5. Modelling"
   ]
  },
  {
   "cell_type": "code",
   "execution_count": 41,
   "metadata": {},
   "outputs": [],
   "source": [
    "# loading library\n",
    "import warnings\n",
    "warnings.filterwarnings(\"ignore\")\n",
    "\n",
    "import numpy as np\n",
    "import pandas as pd\n",
    "import joblib\n",
    "import matplotlib.pyplot as plt\n",
    "#import seaborn as sns\n",
    "#from prettytable import PrettyTable\n",
    "\n",
    "from sklearn.model_selection import RandomizedSearchCV\n",
    "from sklearn.model_selection import GridSearchCV\n",
    "\n",
    "from sklearn.metrics import log_loss\n",
    "\n",
    "from sklearn.linear_model import LogisticRegression\n",
    "from sklearn.tree import DecisionTreeClassifier\n",
    "from sklearn.ensemble import RandomForestClassifier\n",
    "#import lightgbm as lgb\n",
    "#import xgboost as xgb\n",
    "from sklearn import metrics\n",
    "#import catboost as cb\n"
   ]
  },
  {
   "cell_type": "code",
   "execution_count": 42,
   "metadata": {},
   "outputs": [],
   "source": [
    "X_train = np.load(r\"D:\\Work_Masterarbeit\\wsdm\\preprocessed_4\\actual_train_incraw.npz\")\n",
    "y_train = np.load(r\"D:\\Work_Masterarbeit\\wsdm\\preprocessed_4\\actual_wsdm_labels_incraw.npz\")\n",
    "X_test = np.load(r\"D:\\Work_Masterarbeit\\wsdm\\preprocessed_4\\actual_test_incraw.npz\")\n",
    "y_test = np.load(r\"D:\\Work_Masterarbeit\\wsdm\\preprocessed_4\\actual_test_labels_incraw.npz\")"
   ]
  },
  {
   "cell_type": "code",
   "execution_count": 43,
   "metadata": {
    "scrolled": true
   },
   "outputs": [
    {
     "name": "stdout",
     "output_type": "stream",
     "text": [
      "(5910756, 160) (5910756,)\n",
      "(2533182, 160) (2533182,)\n"
     ]
    }
   ],
   "source": [
    "X_train = X_train['arr_0']\n",
    "X_test = X_test['arr_0']\n",
    "y_train = y_train['arr_0']\n",
    "y_test = y_test['arr_0']\n",
    "\n",
    "# getting shapes\n",
    "print(X_train.shape, y_train.shape)\n",
    "print(X_test.shape, y_test.shape)"
   ]
  },
  {
   "cell_type": "code",
   "execution_count": 44,
   "metadata": {},
   "outputs": [],
   "source": [
    "# loading columns\n",
    "cols = np.load(r\"D:\\Work_Masterarbeit\\wsdm\\preprocessed_4\\columns_incraw.npz\")\n",
    "# converting numpy array to python list\n",
    "cols = cols['arr_0'].tolist()\n",
    "# removing first two cols 'msno' and 'is_churn'\n",
    "cols.remove('msno')\n",
    "cols.remove('is_churn_x')"
   ]
  },
  {
   "cell_type": "markdown",
   "metadata": {},
   "source": [
    "<h1> Logistic Regression"
   ]
  },
  {
   "cell_type": "code",
   "execution_count": null,
   "metadata": {},
   "outputs": [],
   "source": [
    "%%time\n",
    "\n",
    "# fitting logistic regression model with best parameter values\n",
    "lr_model = LogisticRegression(penalty='l2', tol=0.0001, C=10, solver='newton-cg', class_weight='balanced', n_jobs=-1)\n",
    "lr_model.fit(X_train, y_train)"
   ]
  },
  {
   "cell_type": "code",
   "execution_count": null,
   "metadata": {},
   "outputs": [],
   "source": [
    "# Reference: https://machinelearningmastery.com/save-load-machine-learning-models-python-scikit-learn/#:~:text=Saving%20Your%20Model-,Save%20Your%20Model%20with%20pickle,it%20to%20make%20new%20predictions.\n",
    "# saving the trained logistic regression ML model\n",
    "filename = r\"D:\\Work_Masterarbeit\\wsdm\\preprocessed_4\\finalized_model_lr.sav\"\n",
    "joblib.dump(lr_model, filename)"
   ]
  },
  {
   "cell_type": "code",
   "execution_count": null,
   "metadata": {},
   "outputs": [],
   "source": [
    "# loading the best model from disk\n",
    "filename = r\"D:\\Work_Masterarbeit\\wsdm\\preprocessed_4\\finalized_model_lr.sav\"\n",
    "loaded_model = joblib.load(filename)"
   ]
  },
  {
   "cell_type": "code",
   "execution_count": null,
   "metadata": {},
   "outputs": [],
   "source": [
    "## Logloss\n",
    "# predicting probabilities for X_cv\n",
    "pred_test = loaded_model.predict_proba(X_test)\n",
    "# getting probabilities corresponding to class label 1 only\n",
    "pred_test = pred_test[:,1]\n",
    "# calculating log loss\n",
    "print('Test log-loss: ', log_loss(y_test, pred_test))"
   ]
  },
  {
   "cell_type": "markdown",
   "metadata": {},
   "source": [
    "<h3>Model Evaluation"
   ]
  },
  {
   "cell_type": "code",
   "execution_count": null,
   "metadata": {
    "scrolled": true
   },
   "outputs": [],
   "source": [
    "from sklearn.metrics import classification_report,confusion_matrix\n",
    "from sklearn.metrics import f1_score\n",
    "from sklearn.metrics import recall_score\n",
    "from sklearn.metrics import precision_score\n",
    "from sklearn.metrics import accuracy_score\n",
    "\n",
    "lr_predict=lr_model.predict(X_test)\n",
    "lr_predict\n",
    "\n",
    "\n",
    "print('Accuracy:', accuracy_score(y_test, lr_predict))\n",
    "print('F1 score weighted:', f1_score(y_test, lr_predict,average='weighted'))\n",
    "print('F1 score macro:', f1_score(y_test, lr_predict, average='macro'))\n",
    "print('Recall:', recall_score(y_test, lr_predict,average='weighted'))\n",
    "print('Precision:', precision_score(y_test, lr_predict,average='weighted'))\n",
    "print('\\n clasification report:\\n', classification_report(y_test, lr_predict))\n",
    "print('\\n confussion matrix:\\n',confusion_matrix(y_test, lr_predict))"
   ]
  },
  {
   "cell_type": "markdown",
   "metadata": {},
   "source": [
    "<h2> Decision Tree"
   ]
  },
  {
   "cell_type": "code",
   "execution_count": null,
   "metadata": {},
   "outputs": [],
   "source": [
    "%%time\n",
    "\n",
    "# training a decision tree classifier model with best parameters\n",
    "dtc_model = DecisionTreeClassifier(criterion='gini', splitter='best', max_depth=15, min_samples_split=2, min_samples_leaf=1)\n",
    "dtc_model.fit(X_train, y_train)"
   ]
  },
  {
   "cell_type": "code",
   "execution_count": null,
   "metadata": {},
   "outputs": [],
   "source": [
    "# https://machinelearningmastery.com/save-load-machine-learning-models-python-scikit-learn/#:~:text=Saving%20Your%20Model-,Save%20Your%20Model%20with%20pickle,it%20to%20make%20new%20predictions.\n",
    "# saving the decision tree classifier model\n",
    "filename = r\"D:\\Work_Masterarbeit\\wsdm\\preprocessed_4\\finalized_model_dtc.sav\"\n",
    "joblib.dump(dtc_model, filename)"
   ]
  },
  {
   "cell_type": "code",
   "execution_count": null,
   "metadata": {},
   "outputs": [],
   "source": [
    "# loading the best decision tree classifier model from disk\n",
    "filename = r\"D:\\Work_Masterarbeit\\wsdm\\preprocessed_4\\finalized_model_dtc.sav\"\n",
    "loaded_model = joblib.load(filename)"
   ]
  },
  {
   "cell_type": "code",
   "execution_count": null,
   "metadata": {},
   "outputs": [],
   "source": [
    "## Logloss\n",
    "# predicting probabilities for X_cv\n",
    "pred_test = loaded_model.predict_proba(X_test)\n",
    "# getting probabilities corresponding to class label 1 only\n",
    "pred_test = pred_test[:,1]\n",
    "# calculating log loss\n",
    "print('Test log-loss: ', log_loss(y_test, pred_test))"
   ]
  },
  {
   "cell_type": "markdown",
   "metadata": {},
   "source": [
    "<h3> Model Evaluation"
   ]
  },
  {
   "cell_type": "code",
   "execution_count": null,
   "metadata": {
    "scrolled": false
   },
   "outputs": [],
   "source": [
    "from sklearn.metrics import classification_report,confusion_matrix\n",
    "from sklearn.metrics import f1_score\n",
    "from sklearn.metrics import recall_score\n",
    "from sklearn.metrics import precision_score\n",
    "from sklearn.metrics import accuracy_score\n",
    "\n",
    "dtc_modelpred=dtc_model.predict(X_test)\n",
    "dtc_modelpred\n",
    "\n",
    "\n",
    "print('Accuracy:', accuracy_score(y_test, dtc_modelpred))\n",
    "print('F1 score weighted:', f1_score(y_test, dtc_modelpred,average='weighted'))\n",
    "print('F1 score macro:', f1_score(y_test, dtc_modelpred, average='macro'))\n",
    "print('Recall:', recall_score(y_test, dtc_modelpred,average='weighted'))\n",
    "print('Precision:', precision_score(y_test, dtc_modelpred,average='weighted'))\n",
    "print('\\n clasification report:\\n', classification_report(y_test, dtc_modelpred))\n",
    "print('\\n confussion matrix:\\n',confusion_matrix(y_test, dtc_modelpred))"
   ]
  },
  {
   "cell_type": "markdown",
   "metadata": {},
   "source": [
    "<h2>Randomforest"
   ]
  },
  {
   "cell_type": "code",
   "execution_count": null,
   "metadata": {},
   "outputs": [],
   "source": [
    "%%time\n",
    "\n",
    "# training the random forest classifier for best hyper parameters\n",
    "rf_model = RandomForestClassifier(n_estimators=1000, criterion='gini', max_depth=15, min_samples_split=5, min_samples_leaf=2, max_features='sqrt', bootstrap=True, n_jobs=-1)\n",
    "rf_model.fit(X_train, y_train)"
   ]
  },
  {
   "cell_type": "code",
   "execution_count": null,
   "metadata": {},
   "outputs": [],
   "source": [
    "from sklearn.metrics import classification_report,confusion_matrix\n",
    "from sklearn.metrics import f1_score\n",
    "from sklearn.metrics import recall_score\n",
    "from sklearn.metrics import precision_score\n",
    "from sklearn.metrics import accuracy_score\n",
    "\n",
    "rf_modelpred=rf_model.predict(X_test)\n",
    "rf_modelpred\n",
    "\n",
    "\n",
    "print('Accuracy:', accuracy_score(y_test, rf_modelpred))\n",
    "print('F1 score weighted:', f1_score(y_test, rf_modelpred,average='weighted'))\n",
    "print('F1 score macro:', f1_score(y_test, rf_modelpred, average='macro'))\n",
    "print('Recall:', recall_score(y_test, rf_modelpred,average='weighted'))\n",
    "print('Precision:', precision_score(y_test, rf_modelpred,average='weighted'))\n",
    "print('\\n clasification report:\\n', classification_report(y_test, rf_modelpred))\n",
    "print('\\n confussion matrix:\\n',confusion_matrix(y_test, rf_modelpred))"
   ]
  },
  {
   "cell_type": "code",
   "execution_count": null,
   "metadata": {},
   "outputs": [],
   "source": [
    "# https://machinelearningmastery.com/save-load-machine-learning-models-python-scikit-learn/#:~:text=Saving%20Your%20Model-,Save%20Your%20Model%20with%20pickle,it%20to%20make%20new%20predictions.\n",
    "# saving the decision tree classifier model\n",
    "filename = r\"D:\\Work_Masterarbeit\\wsdm\\preprocessed_4\\finalized_model_rf.sav\"\n",
    "joblib.dump(rf_model, filename)"
   ]
  },
  {
   "cell_type": "code",
   "execution_count": null,
   "metadata": {},
   "outputs": [],
   "source": [
    "# loading the best decision tree classifier model from disk\n",
    "filename = r\"D:\\Work_Masterarbeit\\wsdm\\preprocessed_4\\finalized_model_rf.sav\"\n",
    "loaded_model = joblib.load(filename)"
   ]
  },
  {
   "cell_type": "code",
   "execution_count": null,
   "metadata": {},
   "outputs": [],
   "source": [
    "## Logloss\n",
    "# predicting probabilities for X_cv\n",
    "pred_test = loaded_model.predict_proba(X_test)\n",
    "# getting probabilities corresponding to class label 1 only\n",
    "pred_test = pred_test[:,1]\n",
    "# calculating log loss\n",
    "print('Test log-loss: ', log_loss(y_test, pred_test))"
   ]
  },
  {
   "cell_type": "code",
   "execution_count": null,
   "metadata": {},
   "outputs": [],
   "source": []
  }
 ],
 "metadata": {
  "colab": {
   "authorship_tag": "ABX9TyOlBJ/DHS1tE19RvmuJAd/k",
   "collapsed_sections": [],
   "name": "BASELINE_WSDM.ipynb",
   "provenance": []
  },
  "kernelspec": {
   "display_name": "Python 3 (ipykernel)",
   "language": "python",
   "name": "python3"
  },
  "language_info": {
   "codemirror_mode": {
    "name": "ipython",
    "version": 3
   },
   "file_extension": ".py",
   "mimetype": "text/x-python",
   "name": "python",
   "nbconvert_exporter": "python",
   "pygments_lexer": "ipython3",
   "version": "3.9.12"
  }
 },
 "nbformat": 4,
 "nbformat_minor": 1
}
